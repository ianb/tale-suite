{
 "cells": [
  {
   "cell_type": "code",
   "execution_count": 3,
   "metadata": {},
   "outputs": [
    {
     "name": "stdout",
     "output_type": "stream",
     "text": [
      "321\n"
     ]
    }
   ],
   "source": [
    "import wandb\n",
    "\n",
    "api = wandb.Api(overrides={\"base_url\": \"https://microsoft-research.wandb.io/\"})\n",
    "#run = api.run(\"/msr-mtl/text-games-benchmark/runs/7e1kyl3h\")\n",
    "runs = api.runs(\n",
    "    \"msr-mtl/text-games-benchmark\",\n",
    "    filters={\n",
    "        \"state\": \"finished\",\n",
    "        \"config.model\": {\"$in\": [\n",
    "            \"gpt-4o\",\n",
    "            \"phi-3-medium-128k-instruct-1\",\n",
    "            \"microsoft/Phi-3.5-mini-instruct\",\n",
    "            \"meta-llama-3-70b-instruct-4\",\n",
    "            \"microsoft/Phi-3-mini-128k-instruct\",\n",
    "            \"random-agent\",\n",
    "        ]}\n",
    "    }\n",
    ")\n",
    "\n",
    "#print(run.history())\n",
    "print(len(runs))\n"
   ]
  },
  {
   "cell_type": "code",
   "execution_count": 1,
   "metadata": {},
   "outputs": [
    {
     "name": "stdout",
     "output_type": "stream",
     "text": [
      "166\n"
     ]
    }
   ],
   "source": [
    "import wandb\n",
    "\n",
    "api = wandb.Api(overrides={\"base_url\": \"https://microsoft-research.wandb.io/\"})\n",
    "runs = api.runs(\n",
    "    \"msr-mtl/text-games-benchmark\",\n",
    "    filters={\n",
    "        \"createdAt\": {\"$gte\": \"2024-10-12\"},\n",
    "        \"config.framework\": {\"$eq\": \"jericho\"},\n",
    "    }\n",
    ")\n",
    "\n",
    "#print(run.history())\n",
    "print(len(runs))"
   ]
  },
  {
   "cell_type": "code",
   "execution_count": 2,
   "metadata": {},
   "outputs": [
    {
     "name": "stdout",
     "output_type": "stream",
     "text": [
      "{'llm': 'llama-32-3b-instruct', 'game': 'JerichoEnv905', 'seed': 20241001, 'agent': 'LLMAgent_llama-32-3b-instruct_s20241001_c100_t0.0_convTrue', 'context': 100, 'act_temp': 0, 'framework': 'jericho', 'max_steps': 1000, 'conversation': True, 'admissible_commands': False}\n",
      "{'_runtime': 1789.889927197, '_step': 1001, '_timestamp': 1729129949.519147, '_wandb': {'runtime': 1789}, 'episode/moves': 8, 'episode/normalized_score': 0, 'episode/rollout': {'_latest_artifact_path': 'wandb-client-artifact://grsu3qsr7ni184o68ajlhk76autm9mg3dhch020symlvwvz0tdwhmyw1ggp7g9w25rbg2flakakak8lpztc7jbv6lxsaj3le461jrjg0r54ba27erod3dfj5tb0lj9sp:latest/episode/rollout.table.json', '_type': 'table-file', 'artifact_path': 'wandb-client-artifact://jbdjvqrqvdnjpryzqjvlz0uu746dpx4fp3vrhho2y7pd86fxo3o6ba68lfr78d9s1xpsue27im86l2hujsdyf9poil49sy4zq5zt1k67m8r3ysazk1qunmx7lllctpmt/episode/rollout.table.json', 'ncols': 11, 'nrows': 1000, 'path': 'media/table/episode/rollout_1001_eccece55cd8b8976a19c.table.json', 'sha256': 'eccece55cd8b8976a19ca90cc52002f2c921781b6f9a7345b599161d2956a6e9', 'size': 9016164}, 'episode/score': 0, 'final/Duration': 1747.0734286308289, 'final/Game Max Score': 1, 'final/Highscore': 0, 'final/Normalized Score': 0, 'total/Env. Steps': 1000, 'total/Game Moves': 8, 'total/Invalid Actions': 0, 'total/Losts': 0, 'total/Resets': 0, 'total/Wins': 0}\n"
     ]
    }
   ],
   "source": [
    "print(runs[0].config)\n",
    "print(runs[0].summary)"
   ]
  },
  {
   "cell_type": "code",
   "execution_count": 1,
   "metadata": {},
   "outputs": [
    {
     "data": {
      "text/html": [
       "<div>\n",
       "<style scoped>\n",
       "    .dataframe tbody tr th:only-of-type {\n",
       "        vertical-align: middle;\n",
       "    }\n",
       "\n",
       "    .dataframe tbody tr th {\n",
       "        vertical-align: top;\n",
       "    }\n",
       "\n",
       "    .dataframe thead th {\n",
       "        text-align: right;\n",
       "    }\n",
       "</style>\n",
       "<table border=\"1\" class=\"dataframe\">\n",
       "  <thead>\n",
       "    <tr style=\"text-align: right;\">\n",
       "      <th></th>\n",
       "      <th>EnvName</th>\n",
       "      <th>Framework</th>\n",
       "      <th>Filename</th>\n",
       "      <th>Template Action</th>\n",
       "      <th>Solution</th>\n",
       "      <th>Avg. Steps</th>\n",
       "      <th>Stochastic</th>\n",
       "      <th>Dialog</th>\n",
       "      <th>Darkness</th>\n",
       "      <th>Nonstandard Action</th>\n",
       "      <th>...</th>\n",
       "      <th>Max Score</th>\n",
       "      <th>Maze</th>\n",
       "      <th>Trivia</th>\n",
       "      <th>Self-Maintenance</th>\n",
       "      <th>Combat</th>\n",
       "      <th>Time</th>\n",
       "      <th>Mechanical Puzzle</th>\n",
       "      <th>Persistence</th>\n",
       "      <th>Stochasticity</th>\n",
       "      <th>Forgiveness</th>\n",
       "    </tr>\n",
       "  </thead>\n",
       "  <tbody>\n",
       "    <tr>\n",
       "      <th>0</th>\n",
       "      <td>JerichoEnv905                                 ...</td>\n",
       "      <td>jericho</td>\n",
       "      <td>advent</td>\n",
       "      <td>107</td>\n",
       "      <td>277</td>\n",
       "      <td>7</td>\n",
       "      <td>TRUE</td>\n",
       "      <td>FALSE</td>\n",
       "      <td>TRUE</td>\n",
       "      <td>TRUE</td>\n",
       "      <td>...</td>\n",
       "      <td>350</td>\n",
       "      <td>TRUE</td>\n",
       "      <td>TRUE</td>\n",
       "      <td>FALSE</td>\n",
       "      <td>TRUE</td>\n",
       "      <td>TRUE</td>\n",
       "      <td>TRUE</td>\n",
       "      <td>TRUE</td>\n",
       "      <td>FALSE</td>\n",
       "      <td>Tough</td>\n",
       "    </tr>\n",
       "    <tr>\n",
       "      <th>1</th>\n",
       "      <td>JerichoEnvAcorncourt                          ...</td>\n",
       "      <td>jericho</td>\n",
       "      <td>balances</td>\n",
       "      <td>30</td>\n",
       "      <td>122</td>\n",
       "      <td>12</td>\n",
       "      <td>FALSE</td>\n",
       "      <td>FALSE</td>\n",
       "      <td>TRUE</td>\n",
       "      <td>TRUE</td>\n",
       "      <td>...</td>\n",
       "      <td>51</td>\n",
       "      <td>FALSE</td>\n",
       "      <td>TRUE</td>\n",
       "      <td>FALSE</td>\n",
       "      <td>FALSE</td>\n",
       "      <td>FALSE</td>\n",
       "      <td>TRUE</td>\n",
       "      <td>FALSE</td>\n",
       "      <td>FALSE</td>\n",
       "      <td>Polite</td>\n",
       "    </tr>\n",
       "    <tr>\n",
       "      <th>2</th>\n",
       "      <td>JerichoEnvAdvent                              ...</td>\n",
       "      <td>jericho</td>\n",
       "      <td>deephome</td>\n",
       "      <td>93</td>\n",
       "      <td>327</td>\n",
       "      <td>6</td>\n",
       "      <td>TRUE</td>\n",
       "      <td>TRUE</td>\n",
       "      <td>FALSE</td>\n",
       "      <td>TRUE</td>\n",
       "      <td>...</td>\n",
       "      <td>300</td>\n",
       "      <td>TRUE</td>\n",
       "      <td>FALSE</td>\n",
       "      <td>FALSE</td>\n",
       "      <td>TRUE</td>\n",
       "      <td>TRUE</td>\n",
       "      <td>TRUE</td>\n",
       "      <td>TRUE</td>\n",
       "      <td>FALSE</td>\n",
       "      <td>Polite</td>\n",
       "    </tr>\n",
       "    <tr>\n",
       "      <th>3</th>\n",
       "      <td>JerichoEnvAdventureland                       ...</td>\n",
       "      <td>jericho</td>\n",
       "      <td>enter</td>\n",
       "      <td>32</td>\n",
       "      <td>102</td>\n",
       "      <td>5</td>\n",
       "      <td>FALSE</td>\n",
       "      <td>TRUE</td>\n",
       "      <td>FALSE</td>\n",
       "      <td>FALSE</td>\n",
       "      <td>...</td>\n",
       "      <td>10</td>\n",
       "      <td>FALSE</td>\n",
       "      <td>TRUE</td>\n",
       "      <td>FALSE</td>\n",
       "      <td>FALSE</td>\n",
       "      <td>TRUE</td>\n",
       "      <td>FALSE</td>\n",
       "      <td>TRUE</td>\n",
       "      <td>FALSE</td>\n",
       "      <td>Merciful</td>\n",
       "    </tr>\n",
       "    <tr>\n",
       "      <th>4</th>\n",
       "      <td>JerichoEnvAfflicted                           ...</td>\n",
       "      <td>jericho</td>\n",
       "      <td>gold</td>\n",
       "      <td>97</td>\n",
       "      <td>345</td>\n",
       "      <td>10</td>\n",
       "      <td>TRUE</td>\n",
       "      <td>TRUE</td>\n",
       "      <td>FALSE</td>\n",
       "      <td>FALSE</td>\n",
       "      <td>...</td>\n",
       "      <td>100</td>\n",
       "      <td>TRUE</td>\n",
       "      <td>TRUE</td>\n",
       "      <td>FALSE</td>\n",
       "      <td>FALSE</td>\n",
       "      <td>FALSE</td>\n",
       "      <td>TRUE</td>\n",
       "      <td>FALSE</td>\n",
       "      <td>FALSE</td>\n",
       "      <td>Polite</td>\n",
       "    </tr>\n",
       "    <tr>\n",
       "      <th>...</th>\n",
       "      <td>...</td>\n",
       "      <td>...</td>\n",
       "      <td>...</td>\n",
       "      <td>...</td>\n",
       "      <td>...</td>\n",
       "      <td>...</td>\n",
       "      <td>...</td>\n",
       "      <td>...</td>\n",
       "      <td>...</td>\n",
       "      <td>...</td>\n",
       "      <td>...</td>\n",
       "      <td>...</td>\n",
       "      <td>...</td>\n",
       "      <td>...</td>\n",
       "      <td>...</td>\n",
       "      <td>...</td>\n",
       "      <td>...</td>\n",
       "      <td>...</td>\n",
       "      <td>...</td>\n",
       "      <td>...</td>\n",
       "      <td>...</td>\n",
       "    </tr>\n",
       "    <tr>\n",
       "      <th>91</th>\n",
       "      <td>TWCookingLevel6                               ...</td>\n",
       "      <td>textworld</td>\n",
       "      <td></td>\n",
       "      <td></td>\n",
       "      <td></td>\n",
       "      <td></td>\n",
       "      <td></td>\n",
       "      <td></td>\n",
       "      <td></td>\n",
       "      <td></td>\n",
       "      <td>...</td>\n",
       "      <td>NaN</td>\n",
       "      <td>NaN</td>\n",
       "      <td>NaN</td>\n",
       "      <td>NaN</td>\n",
       "      <td>NaN</td>\n",
       "      <td>NaN</td>\n",
       "      <td>NaN</td>\n",
       "      <td>NaN</td>\n",
       "      <td>NaN</td>\n",
       "      <td>NaN</td>\n",
       "    </tr>\n",
       "    <tr>\n",
       "      <th>92</th>\n",
       "      <td>TWCookingLevel7                               ...</td>\n",
       "      <td>textworld</td>\n",
       "      <td></td>\n",
       "      <td></td>\n",
       "      <td></td>\n",
       "      <td></td>\n",
       "      <td></td>\n",
       "      <td></td>\n",
       "      <td></td>\n",
       "      <td></td>\n",
       "      <td>...</td>\n",
       "      <td>NaN</td>\n",
       "      <td>NaN</td>\n",
       "      <td>NaN</td>\n",
       "      <td>NaN</td>\n",
       "      <td>NaN</td>\n",
       "      <td>NaN</td>\n",
       "      <td>NaN</td>\n",
       "      <td>NaN</td>\n",
       "      <td>NaN</td>\n",
       "      <td>NaN</td>\n",
       "    </tr>\n",
       "    <tr>\n",
       "      <th>93</th>\n",
       "      <td>TWCookingLevel8                               ...</td>\n",
       "      <td>textworld</td>\n",
       "      <td></td>\n",
       "      <td></td>\n",
       "      <td></td>\n",
       "      <td></td>\n",
       "      <td></td>\n",
       "      <td></td>\n",
       "      <td></td>\n",
       "      <td></td>\n",
       "      <td>...</td>\n",
       "      <td>NaN</td>\n",
       "      <td>NaN</td>\n",
       "      <td>NaN</td>\n",
       "      <td>NaN</td>\n",
       "      <td>NaN</td>\n",
       "      <td>NaN</td>\n",
       "      <td>NaN</td>\n",
       "      <td>NaN</td>\n",
       "      <td>NaN</td>\n",
       "      <td>NaN</td>\n",
       "    </tr>\n",
       "    <tr>\n",
       "      <th>94</th>\n",
       "      <td>TWCookingLevel9                               ...</td>\n",
       "      <td>textworld</td>\n",
       "      <td></td>\n",
       "      <td></td>\n",
       "      <td></td>\n",
       "      <td></td>\n",
       "      <td></td>\n",
       "      <td></td>\n",
       "      <td></td>\n",
       "      <td></td>\n",
       "      <td>...</td>\n",
       "      <td>NaN</td>\n",
       "      <td>NaN</td>\n",
       "      <td>NaN</td>\n",
       "      <td>NaN</td>\n",
       "      <td>NaN</td>\n",
       "      <td>NaN</td>\n",
       "      <td>NaN</td>\n",
       "      <td>NaN</td>\n",
       "      <td>NaN</td>\n",
       "      <td>NaN</td>\n",
       "    </tr>\n",
       "    <tr>\n",
       "      <th>95</th>\n",
       "      <td>TWCookingLevel10                              ...</td>\n",
       "      <td>textworld</td>\n",
       "      <td></td>\n",
       "      <td></td>\n",
       "      <td></td>\n",
       "      <td></td>\n",
       "      <td></td>\n",
       "      <td></td>\n",
       "      <td></td>\n",
       "      <td></td>\n",
       "      <td>...</td>\n",
       "      <td>NaN</td>\n",
       "      <td>NaN</td>\n",
       "      <td>NaN</td>\n",
       "      <td>NaN</td>\n",
       "      <td>NaN</td>\n",
       "      <td>NaN</td>\n",
       "      <td>NaN</td>\n",
       "      <td>NaN</td>\n",
       "      <td>NaN</td>\n",
       "      <td>NaN</td>\n",
       "    </tr>\n",
       "  </tbody>\n",
       "</table>\n",
       "<p>96 rows × 24 columns</p>\n",
       "</div>"
      ],
      "text/plain": [
       "   EnvName                                                   Framework      \\\n",
       "0   JerichoEnv905                                 ...        jericho         \n",
       "1   JerichoEnvAcorncourt                          ...        jericho         \n",
       "2   JerichoEnvAdvent                              ...        jericho         \n",
       "3   JerichoEnvAdventureland                       ...        jericho         \n",
       "4   JerichoEnvAfflicted                           ...        jericho         \n",
       "..                                                ...                  ...   \n",
       "91  TWCookingLevel6                               ...        textworld       \n",
       "92  TWCookingLevel7                               ...        textworld       \n",
       "93  TWCookingLevel8                               ...        textworld       \n",
       "94  TWCookingLevel9                               ...        textworld       \n",
       "95  TWCookingLevel10                              ...        textworld       \n",
       "\n",
       "    Filename        Template Action   Solution   Avg. Steps   Stochastic   \\\n",
       "0   advent                      107        277            7   TRUE          \n",
       "1   balances                     30        122           12   FALSE         \n",
       "2   deephome                     93        327            6   TRUE          \n",
       "3   enter                        32        102            5   FALSE         \n",
       "4   gold                         97        345           10   TRUE          \n",
       "..             ...               ...        ...          ...          ...   \n",
       "91                                                                          \n",
       "92                                                                          \n",
       "93                                                                          \n",
       "94                                                                          \n",
       "95                                                                          \n",
       "\n",
       "    Dialog   Darkness   Nonstandard Action   ...  Max Score   Maze    Trivia   \\\n",
       "0   FALSE    TRUE       TRUE                 ...        350   TRUE    TRUE      \n",
       "1   FALSE    TRUE       TRUE                 ...         51   FALSE   TRUE      \n",
       "2   TRUE     FALSE      TRUE                 ...        300   TRUE    FALSE     \n",
       "3   TRUE     FALSE      FALSE                ...         10   FALSE   TRUE      \n",
       "4   TRUE     FALSE      FALSE                ...        100   TRUE    TRUE      \n",
       "..      ...        ...                  ...  ...         ...     ...      ...   \n",
       "91                                           ...         NaN     NaN      NaN   \n",
       "92                                           ...         NaN     NaN      NaN   \n",
       "93                                           ...         NaN     NaN      NaN   \n",
       "94                                           ...         NaN     NaN      NaN   \n",
       "95                                           ...         NaN     NaN      NaN   \n",
       "\n",
       "    Self-Maintenance   Combat   Time    Mechanical Puzzle   Persistence   \\\n",
       "0   FALSE              TRUE     TRUE    TRUE                TRUE           \n",
       "1   FALSE              FALSE    FALSE   TRUE                FALSE          \n",
       "2   FALSE              TRUE     TRUE    TRUE                TRUE           \n",
       "3   FALSE              FALSE    TRUE    FALSE               TRUE           \n",
       "4   FALSE              FALSE    FALSE   TRUE                FALSE          \n",
       "..                ...      ...     ...                 ...           ...   \n",
       "91                NaN      NaN     NaN                 NaN           NaN   \n",
       "92                NaN      NaN     NaN                 NaN           NaN   \n",
       "93                NaN      NaN     NaN                 NaN           NaN   \n",
       "94                NaN      NaN     NaN                 NaN           NaN   \n",
       "95                NaN      NaN     NaN                 NaN           NaN   \n",
       "\n",
       "    Stochasticity  Forgiveness  \n",
       "0   FALSE                Tough  \n",
       "1   FALSE               Polite  \n",
       "2   FALSE               Polite  \n",
       "3   FALSE             Merciful  \n",
       "4   FALSE               Polite  \n",
       "..             ...         ...  \n",
       "91             NaN         NaN  \n",
       "92             NaN         NaN  \n",
       "93             NaN         NaN  \n",
       "94             NaN         NaN  \n",
       "95             NaN         NaN  \n",
       "\n",
       "[96 rows x 24 columns]"
      ]
     },
     "execution_count": 1,
     "metadata": {},
     "output_type": "execute_result"
    }
   ],
   "source": [
    "# Load game_infos.tsv\n",
    "import pandas as pd\n",
    "game_infos = pd.read_csv(\"game_infos.tsv\", sep=\"\\t\")\n",
    "game_infos"
   ]
  },
  {
   "cell_type": "code",
   "execution_count": 2,
   "metadata": {},
   "outputs": [
    {
     "ename": "NameError",
     "evalue": "name 'runs' is not defined",
     "output_type": "error",
     "traceback": [
      "\u001b[0;31m---------------------------------------------------------------------------\u001b[0m",
      "\u001b[0;31mNameError\u001b[0m                                 Traceback (most recent call last)",
      "Cell \u001b[0;32mIn[2], line 5\u001b[0m\n\u001b[1;32m      3\u001b[0m \u001b[38;5;28;01mimport\u001b[39;00m \u001b[38;5;21;01mnumpy\u001b[39;00m \u001b[38;5;28;01mas\u001b[39;00m \u001b[38;5;21;01mnp\u001b[39;00m\n\u001b[1;32m      4\u001b[0m runs_data \u001b[38;5;241m=\u001b[39m []\n\u001b[0;32m----> 5\u001b[0m \u001b[38;5;28;01mfor\u001b[39;00m run \u001b[38;5;129;01min\u001b[39;00m \u001b[43mruns\u001b[49m:\n\u001b[1;32m      6\u001b[0m     run_data \u001b[38;5;241m=\u001b[39m \u001b[38;5;28mdict\u001b[39m(run\u001b[38;5;241m.\u001b[39msummary)\n\u001b[1;32m      7\u001b[0m     run_data[\u001b[38;5;124m\"\u001b[39m\u001b[38;5;124magent\u001b[39m\u001b[38;5;124m\"\u001b[39m] \u001b[38;5;241m=\u001b[39m run\u001b[38;5;241m.\u001b[39mconfig[\u001b[38;5;124m\"\u001b[39m\u001b[38;5;124magent\u001b[39m\u001b[38;5;124m\"\u001b[39m]\n",
      "\u001b[0;31mNameError\u001b[0m: name 'runs' is not defined"
     ]
    }
   ],
   "source": [
    "# Conver Wandb RUNS to a pandas dataframe\n",
    "import pandas as pd\n",
    "import numpy as np\n",
    "runs_data = []\n",
    "for run in runs:\n",
    "    run_data = dict(run.summary)\n",
    "    run_data[\"agent\"] = run.config[\"agent\"]\n",
    "    run_data[\"game\"] = run.config[\"game\"]\n",
    "    #run_data[\"game_description\"] = game_infos[game_infos[\"game\"] == run.config[\"game\"]][\"description\"].values[0]\n",
    "    runs_data.append(run_data)\n",
    "\n",
    "runs_df = pd.DataFrame(runs_data)\n",
    "\n",
    "categories = [\"Stochastic\", \"Dialog\", \"Darkness\", \"Nonstandard Action\", \"Inventory\", \"Maze\", \"Maze\", \"Trivia\", \"Self-Maintenance\", \"Combat\", \"Time\", \"Mechanical Puzzle\", \"Persistence\", \"Difficulty\"]\n",
    "ignore_categories = [\"Difficulty\"]\n",
    "\n",
    "# Keep game, model, Max Normalized Score\n",
    "runs_df = runs_df[[\"game\", \"agent\", \"final/Normalized Score\"]]\n",
    "runs_df = runs_df.sort_values(by=\"game\")\n",
    "\n",
    "# For each game add columns with the following games infos: Stochastic, Dialog, Darkness, Nonstandard Action, Inventory, Difficulty\n",
    "for game in runs_df[\"game\"].unique():\n",
    "    game_info = game_infos[game_infos[\"EnvName\"] == game]\n",
    "    for col in categories:\n",
    "        runs_df.loc[runs_df[\"game\"] == game, col] = game_info[col].values[0]\n",
    "\n",
    "runs_df\n"
   ]
  },
  {
   "cell_type": "code",
   "execution_count": 5,
   "metadata": {},
   "outputs": [
    {
     "data": {
      "text/html": [
       "<div>\n",
       "<style scoped>\n",
       "    .dataframe tbody tr th:only-of-type {\n",
       "        vertical-align: middle;\n",
       "    }\n",
       "\n",
       "    .dataframe tbody tr th {\n",
       "        vertical-align: top;\n",
       "    }\n",
       "\n",
       "    .dataframe thead th {\n",
       "        text-align: right;\n",
       "    }\n",
       "</style>\n",
       "<table border=\"1\" class=\"dataframe\">\n",
       "  <thead>\n",
       "    <tr style=\"text-align: right;\">\n",
       "      <th></th>\n",
       "      <th>agent</th>\n",
       "      <th>feature</th>\n",
       "      <th>score</th>\n",
       "    </tr>\n",
       "  </thead>\n",
       "  <tbody>\n",
       "    <tr>\n",
       "      <th>0</th>\n",
       "      <td>LLMAgent_gpt-4o_s20241001_c100_t0.0_convTrue</td>\n",
       "      <td>Stochastic</td>\n",
       "      <td>0.057790</td>\n",
       "    </tr>\n",
       "    <tr>\n",
       "      <th>1</th>\n",
       "      <td>LLMAgent_llama-32-3b-instruct_s20241001_c100_t...</td>\n",
       "      <td>Stochastic</td>\n",
       "      <td>0.012411</td>\n",
       "    </tr>\n",
       "    <tr>\n",
       "      <th>2</th>\n",
       "      <td>RandomAgent_s20241001</td>\n",
       "      <td>Stochastic</td>\n",
       "      <td>0.020005</td>\n",
       "    </tr>\n",
       "    <tr>\n",
       "      <th>3</th>\n",
       "      <td>LLMAgent_gpt-4o_s20241001_c100_t0.0_convTrue</td>\n",
       "      <td>Dialog</td>\n",
       "      <td>0.048408</td>\n",
       "    </tr>\n",
       "    <tr>\n",
       "      <th>4</th>\n",
       "      <td>LLMAgent_llama-32-3b-instruct_s20241001_c100_t...</td>\n",
       "      <td>Dialog</td>\n",
       "      <td>0.011340</td>\n",
       "    </tr>\n",
       "    <tr>\n",
       "      <th>5</th>\n",
       "      <td>RandomAgent_s20241001</td>\n",
       "      <td>Dialog</td>\n",
       "      <td>0.050476</td>\n",
       "    </tr>\n",
       "    <tr>\n",
       "      <th>6</th>\n",
       "      <td>LLMAgent_gpt-4o_s20241001_c100_t0.0_convTrue</td>\n",
       "      <td>Darkness</td>\n",
       "      <td>0.049306</td>\n",
       "    </tr>\n",
       "    <tr>\n",
       "      <th>7</th>\n",
       "      <td>LLMAgent_llama-32-3b-instruct_s20241001_c100_t...</td>\n",
       "      <td>Darkness</td>\n",
       "      <td>0.019195</td>\n",
       "    </tr>\n",
       "    <tr>\n",
       "      <th>8</th>\n",
       "      <td>RandomAgent_s20241001</td>\n",
       "      <td>Darkness</td>\n",
       "      <td>0.037659</td>\n",
       "    </tr>\n",
       "    <tr>\n",
       "      <th>9</th>\n",
       "      <td>LLMAgent_gpt-4o_s20241001_c100_t0.0_convTrue</td>\n",
       "      <td>Nonstandard Action</td>\n",
       "      <td>0.070721</td>\n",
       "    </tr>\n",
       "    <tr>\n",
       "      <th>10</th>\n",
       "      <td>LLMAgent_llama-32-3b-instruct_s20241001_c100_t...</td>\n",
       "      <td>Nonstandard Action</td>\n",
       "      <td>0.013802</td>\n",
       "    </tr>\n",
       "    <tr>\n",
       "      <th>11</th>\n",
       "      <td>RandomAgent_s20241001</td>\n",
       "      <td>Nonstandard Action</td>\n",
       "      <td>0.084405</td>\n",
       "    </tr>\n",
       "    <tr>\n",
       "      <th>12</th>\n",
       "      <td>LLMAgent_gpt-4o_s20241001_c100_t0.0_convTrue</td>\n",
       "      <td>Inventory</td>\n",
       "      <td>0.056286</td>\n",
       "    </tr>\n",
       "    <tr>\n",
       "      <th>13</th>\n",
       "      <td>LLMAgent_llama-32-3b-instruct_s20241001_c100_t...</td>\n",
       "      <td>Inventory</td>\n",
       "      <td>0.014355</td>\n",
       "    </tr>\n",
       "    <tr>\n",
       "      <th>14</th>\n",
       "      <td>RandomAgent_s20241001</td>\n",
       "      <td>Inventory</td>\n",
       "      <td>0.019435</td>\n",
       "    </tr>\n",
       "    <tr>\n",
       "      <th>15</th>\n",
       "      <td>LLMAgent_gpt-4o_s20241001_c100_t0.0_convTrue</td>\n",
       "      <td>Maze</td>\n",
       "      <td>0.046379</td>\n",
       "    </tr>\n",
       "    <tr>\n",
       "      <th>16</th>\n",
       "      <td>LLMAgent_llama-32-3b-instruct_s20241001_c100_t...</td>\n",
       "      <td>Maze</td>\n",
       "      <td>0.011809</td>\n",
       "    </tr>\n",
       "    <tr>\n",
       "      <th>17</th>\n",
       "      <td>RandomAgent_s20241001</td>\n",
       "      <td>Maze</td>\n",
       "      <td>0.019529</td>\n",
       "    </tr>\n",
       "    <tr>\n",
       "      <th>18</th>\n",
       "      <td>LLMAgent_gpt-4o_s20241001_c100_t0.0_convTrue</td>\n",
       "      <td>Trivia</td>\n",
       "      <td>0.054054</td>\n",
       "    </tr>\n",
       "    <tr>\n",
       "      <th>19</th>\n",
       "      <td>LLMAgent_llama-32-3b-instruct_s20241001_c100_t...</td>\n",
       "      <td>Trivia</td>\n",
       "      <td>0.008736</td>\n",
       "    </tr>\n",
       "    <tr>\n",
       "      <th>20</th>\n",
       "      <td>RandomAgent_s20241001</td>\n",
       "      <td>Trivia</td>\n",
       "      <td>0.054943</td>\n",
       "    </tr>\n",
       "    <tr>\n",
       "      <th>21</th>\n",
       "      <td>LLMAgent_gpt-4o_s20241001_c100_t0.0_convTrue</td>\n",
       "      <td>Self-Maintenance</td>\n",
       "      <td>0.054363</td>\n",
       "    </tr>\n",
       "    <tr>\n",
       "      <th>22</th>\n",
       "      <td>LLMAgent_llama-32-3b-instruct_s20241001_c100_t...</td>\n",
       "      <td>Self-Maintenance</td>\n",
       "      <td>0.006923</td>\n",
       "    </tr>\n",
       "    <tr>\n",
       "      <th>23</th>\n",
       "      <td>RandomAgent_s20241001</td>\n",
       "      <td>Self-Maintenance</td>\n",
       "      <td>0.008542</td>\n",
       "    </tr>\n",
       "    <tr>\n",
       "      <th>24</th>\n",
       "      <td>LLMAgent_gpt-4o_s20241001_c100_t0.0_convTrue</td>\n",
       "      <td>Combat</td>\n",
       "      <td>0.075170</td>\n",
       "    </tr>\n",
       "    <tr>\n",
       "      <th>25</th>\n",
       "      <td>LLMAgent_llama-32-3b-instruct_s20241001_c100_t...</td>\n",
       "      <td>Combat</td>\n",
       "      <td>0.017458</td>\n",
       "    </tr>\n",
       "    <tr>\n",
       "      <th>26</th>\n",
       "      <td>RandomAgent_s20241001</td>\n",
       "      <td>Combat</td>\n",
       "      <td>0.035112</td>\n",
       "    </tr>\n",
       "    <tr>\n",
       "      <th>27</th>\n",
       "      <td>LLMAgent_gpt-4o_s20241001_c100_t0.0_convTrue</td>\n",
       "      <td>Time</td>\n",
       "      <td>0.063178</td>\n",
       "    </tr>\n",
       "    <tr>\n",
       "      <th>28</th>\n",
       "      <td>LLMAgent_llama-32-3b-instruct_s20241001_c100_t...</td>\n",
       "      <td>Time</td>\n",
       "      <td>0.011052</td>\n",
       "    </tr>\n",
       "    <tr>\n",
       "      <th>29</th>\n",
       "      <td>RandomAgent_s20241001</td>\n",
       "      <td>Time</td>\n",
       "      <td>0.035584</td>\n",
       "    </tr>\n",
       "    <tr>\n",
       "      <th>30</th>\n",
       "      <td>LLMAgent_gpt-4o_s20241001_c100_t0.0_convTrue</td>\n",
       "      <td>Mechanical Puzzle</td>\n",
       "      <td>0.042130</td>\n",
       "    </tr>\n",
       "    <tr>\n",
       "      <th>31</th>\n",
       "      <td>LLMAgent_llama-32-3b-instruct_s20241001_c100_t...</td>\n",
       "      <td>Mechanical Puzzle</td>\n",
       "      <td>0.014035</td>\n",
       "    </tr>\n",
       "    <tr>\n",
       "      <th>32</th>\n",
       "      <td>RandomAgent_s20241001</td>\n",
       "      <td>Mechanical Puzzle</td>\n",
       "      <td>0.035157</td>\n",
       "    </tr>\n",
       "    <tr>\n",
       "      <th>33</th>\n",
       "      <td>LLMAgent_gpt-4o_s20241001_c100_t0.0_convTrue</td>\n",
       "      <td>Persistence</td>\n",
       "      <td>0.064450</td>\n",
       "    </tr>\n",
       "    <tr>\n",
       "      <th>34</th>\n",
       "      <td>LLMAgent_llama-32-3b-instruct_s20241001_c100_t...</td>\n",
       "      <td>Persistence</td>\n",
       "      <td>0.013254</td>\n",
       "    </tr>\n",
       "    <tr>\n",
       "      <th>35</th>\n",
       "      <td>RandomAgent_s20241001</td>\n",
       "      <td>Persistence</td>\n",
       "      <td>0.041090</td>\n",
       "    </tr>\n",
       "  </tbody>\n",
       "</table>\n",
       "</div>"
      ],
      "text/plain": [
       "                                                agent             feature  \\\n",
       "0        LLMAgent_gpt-4o_s20241001_c100_t0.0_convTrue          Stochastic   \n",
       "1   LLMAgent_llama-32-3b-instruct_s20241001_c100_t...          Stochastic   \n",
       "2                               RandomAgent_s20241001          Stochastic   \n",
       "3        LLMAgent_gpt-4o_s20241001_c100_t0.0_convTrue              Dialog   \n",
       "4   LLMAgent_llama-32-3b-instruct_s20241001_c100_t...              Dialog   \n",
       "5                               RandomAgent_s20241001              Dialog   \n",
       "6        LLMAgent_gpt-4o_s20241001_c100_t0.0_convTrue            Darkness   \n",
       "7   LLMAgent_llama-32-3b-instruct_s20241001_c100_t...            Darkness   \n",
       "8                               RandomAgent_s20241001            Darkness   \n",
       "9        LLMAgent_gpt-4o_s20241001_c100_t0.0_convTrue  Nonstandard Action   \n",
       "10  LLMAgent_llama-32-3b-instruct_s20241001_c100_t...  Nonstandard Action   \n",
       "11                              RandomAgent_s20241001  Nonstandard Action   \n",
       "12       LLMAgent_gpt-4o_s20241001_c100_t0.0_convTrue           Inventory   \n",
       "13  LLMAgent_llama-32-3b-instruct_s20241001_c100_t...           Inventory   \n",
       "14                              RandomAgent_s20241001           Inventory   \n",
       "15       LLMAgent_gpt-4o_s20241001_c100_t0.0_convTrue                Maze   \n",
       "16  LLMAgent_llama-32-3b-instruct_s20241001_c100_t...                Maze   \n",
       "17                              RandomAgent_s20241001                Maze   \n",
       "18       LLMAgent_gpt-4o_s20241001_c100_t0.0_convTrue              Trivia   \n",
       "19  LLMAgent_llama-32-3b-instruct_s20241001_c100_t...              Trivia   \n",
       "20                              RandomAgent_s20241001              Trivia   \n",
       "21       LLMAgent_gpt-4o_s20241001_c100_t0.0_convTrue    Self-Maintenance   \n",
       "22  LLMAgent_llama-32-3b-instruct_s20241001_c100_t...    Self-Maintenance   \n",
       "23                              RandomAgent_s20241001    Self-Maintenance   \n",
       "24       LLMAgent_gpt-4o_s20241001_c100_t0.0_convTrue              Combat   \n",
       "25  LLMAgent_llama-32-3b-instruct_s20241001_c100_t...              Combat   \n",
       "26                              RandomAgent_s20241001              Combat   \n",
       "27       LLMAgent_gpt-4o_s20241001_c100_t0.0_convTrue                Time   \n",
       "28  LLMAgent_llama-32-3b-instruct_s20241001_c100_t...                Time   \n",
       "29                              RandomAgent_s20241001                Time   \n",
       "30       LLMAgent_gpt-4o_s20241001_c100_t0.0_convTrue   Mechanical Puzzle   \n",
       "31  LLMAgent_llama-32-3b-instruct_s20241001_c100_t...   Mechanical Puzzle   \n",
       "32                              RandomAgent_s20241001   Mechanical Puzzle   \n",
       "33       LLMAgent_gpt-4o_s20241001_c100_t0.0_convTrue         Persistence   \n",
       "34  LLMAgent_llama-32-3b-instruct_s20241001_c100_t...         Persistence   \n",
       "35                              RandomAgent_s20241001         Persistence   \n",
       "\n",
       "       score  \n",
       "0   0.057790  \n",
       "1   0.012411  \n",
       "2   0.020005  \n",
       "3   0.048408  \n",
       "4   0.011340  \n",
       "5   0.050476  \n",
       "6   0.049306  \n",
       "7   0.019195  \n",
       "8   0.037659  \n",
       "9   0.070721  \n",
       "10  0.013802  \n",
       "11  0.084405  \n",
       "12  0.056286  \n",
       "13  0.014355  \n",
       "14  0.019435  \n",
       "15  0.046379  \n",
       "16  0.011809  \n",
       "17  0.019529  \n",
       "18  0.054054  \n",
       "19  0.008736  \n",
       "20  0.054943  \n",
       "21  0.054363  \n",
       "22  0.006923  \n",
       "23  0.008542  \n",
       "24  0.075170  \n",
       "25  0.017458  \n",
       "26  0.035112  \n",
       "27  0.063178  \n",
       "28  0.011052  \n",
       "29  0.035584  \n",
       "30  0.042130  \n",
       "31  0.014035  \n",
       "32  0.035157  \n",
       "33  0.064450  \n",
       "34  0.013254  \n",
       "35  0.041090  "
      ]
     },
     "execution_count": 5,
     "metadata": {},
     "output_type": "execute_result"
    }
   ],
   "source": [
    "# Compute the average score for binary features: \"Stochastic\", \"Dialog\", \"Darkness\", \"Nonstandard Action\", \"Inventory\"\n",
    "# and augment the dataframe with these values\n",
    "\n",
    "radar_df = pd.DataFrame()\n",
    "\n",
    "for col in categories:\n",
    "    if col in ignore_categories:\n",
    "        continue\n",
    "    radar_df[col] = runs_df.groupby([\"agent\", col])[\"final/Normalized Score\"].mean().unstack()[True]\n",
    "\n",
    "radar_df.reset_index(inplace=True)\n",
    "\n",
    "# Convert to three columns format: agent, feature, score\n",
    "radar_df = radar_df.melt(id_vars=[\"agent\"], var_name=\"feature\", value_name=\"score\")\n",
    "radar_df"
   ]
  },
  {
   "cell_type": "code",
   "execution_count": 10,
   "metadata": {},
   "outputs": [
    {
     "data": {
      "application/vnd.plotly.v1+json": {
       "config": {
        "plotlyServerURL": "https://plot.ly"
       },
       "data": [
        {
         "hovertemplate": "agent=LLMAgent_gpt-4o_s20241001_c100_t0.0_convTrue<br>score=%{r}<br>feature=%{theta}<extra></extra>",
         "legendgroup": "LLMAgent_gpt-4o_s20241001_c100_t0.0_convTrue",
         "line": {
          "color": "#636efa",
          "dash": "solid"
         },
         "marker": {
          "symbol": "circle"
         },
         "mode": "lines",
         "name": "LLMAgent_gpt-4o_s20241001_c100_t0.0_convTrue",
         "r": [
          0.05779021645021645,
          0.048408048741382076,
          0.04930588039411569,
          0.07072110177404295,
          0.05628643578643578,
          0.04637918871252204,
          0.05405424695130578,
          0.05436263736263736,
          0.07517038690476191,
          0.06317777398040555,
          0.04212967138074742,
          0.06444969398417674,
          0.05779021645021645
         ],
         "showlegend": true,
         "subplot": "polar",
         "theta": [
          "Stochastic",
          "Dialog",
          "Darkness",
          "Nonstandard Action",
          "Inventory",
          "Maze",
          "Trivia",
          "Self-Maintenance",
          "Combat",
          "Time",
          "Mechanical Puzzle",
          "Persistence",
          "Stochastic"
         ],
         "type": "scatterpolar"
        },
        {
         "hovertemplate": "agent=LLMAgent_llama-32-3b-instruct_s20241001_c100_t0.0_convTrue<br>score=%{r}<br>feature=%{theta}<extra></extra>",
         "legendgroup": "LLMAgent_llama-32-3b-instruct_s20241001_c100_t0.0_convTrue",
         "line": {
          "color": "#EF553B",
          "dash": "solid"
         },
         "marker": {
          "symbol": "circle"
         },
         "mode": "lines",
         "name": "LLMAgent_llama-32-3b-instruct_s20241001_c100_t0.0_convTrue",
         "r": [
          0.012410714285714284,
          0.011340388007054673,
          0.019195238095238095,
          0.013801587301587303,
          0.01435515873015873,
          0.01180860805860806,
          0.008735994397759104,
          0.006923076923076922,
          0.017457757296466973,
          0.011051587301587302,
          0.014035409035409034,
          0.013253968253968254,
          0.012410714285714284
         ],
         "showlegend": true,
         "subplot": "polar",
         "theta": [
          "Stochastic",
          "Dialog",
          "Darkness",
          "Nonstandard Action",
          "Inventory",
          "Maze",
          "Trivia",
          "Self-Maintenance",
          "Combat",
          "Time",
          "Mechanical Puzzle",
          "Persistence",
          "Stochastic"
         ],
         "type": "scatterpolar"
        },
        {
         "hovertemplate": "agent=RandomAgent_s20241001<br>score=%{r}<br>feature=%{theta}<extra></extra>",
         "legendgroup": "RandomAgent_s20241001",
         "line": {
          "color": "#00cc96",
          "dash": "solid"
         },
         "marker": {
          "symbol": "circle"
         },
         "mode": "lines",
         "name": "RandomAgent_s20241001",
         "r": [
          0.020005175983436853,
          0.05047619047619047,
          0.037659021942110175,
          0.08440534547152195,
          0.01943452380952381,
          0.019528769841269843,
          0.05494277021153289,
          0.008541666666666668,
          0.03511196145124716,
          0.03558407738095238,
          0.03515666266506603,
          0.04109047619047619,
          0.020005175983436853
         ],
         "showlegend": true,
         "subplot": "polar",
         "theta": [
          "Stochastic",
          "Dialog",
          "Darkness",
          "Nonstandard Action",
          "Inventory",
          "Maze",
          "Trivia",
          "Self-Maintenance",
          "Combat",
          "Time",
          "Mechanical Puzzle",
          "Persistence",
          "Stochastic"
         ],
         "type": "scatterpolar"
        }
       ],
       "layout": {
        "legend": {
         "orientation": "v",
         "title": {
          "text": ""
         },
         "tracegroupgap": 0,
         "x": 1,
         "xanchor": "right",
         "y": 1.02,
         "yanchor": "bottom"
        },
        "polar": {
         "angularaxis": {
          "direction": "clockwise",
          "rotation": 90
         },
         "domain": {
          "x": [
           0,
           1
          ],
          "y": [
           0,
           1
          ]
         },
         "radialaxis": {
          "range": [
           0,
           1
          ]
         }
        },
        "template": {
         "data": {
          "bar": [
           {
            "error_x": {
             "color": "#2a3f5f"
            },
            "error_y": {
             "color": "#2a3f5f"
            },
            "marker": {
             "line": {
              "color": "#E5ECF6",
              "width": 0.5
             },
             "pattern": {
              "fillmode": "overlay",
              "size": 10,
              "solidity": 0.2
             }
            },
            "type": "bar"
           }
          ],
          "barpolar": [
           {
            "marker": {
             "line": {
              "color": "#E5ECF6",
              "width": 0.5
             },
             "pattern": {
              "fillmode": "overlay",
              "size": 10,
              "solidity": 0.2
             }
            },
            "type": "barpolar"
           }
          ],
          "carpet": [
           {
            "aaxis": {
             "endlinecolor": "#2a3f5f",
             "gridcolor": "white",
             "linecolor": "white",
             "minorgridcolor": "white",
             "startlinecolor": "#2a3f5f"
            },
            "baxis": {
             "endlinecolor": "#2a3f5f",
             "gridcolor": "white",
             "linecolor": "white",
             "minorgridcolor": "white",
             "startlinecolor": "#2a3f5f"
            },
            "type": "carpet"
           }
          ],
          "choropleth": [
           {
            "colorbar": {
             "outlinewidth": 0,
             "ticks": ""
            },
            "type": "choropleth"
           }
          ],
          "contour": [
           {
            "colorbar": {
             "outlinewidth": 0,
             "ticks": ""
            },
            "colorscale": [
             [
              0,
              "#0d0887"
             ],
             [
              0.1111111111111111,
              "#46039f"
             ],
             [
              0.2222222222222222,
              "#7201a8"
             ],
             [
              0.3333333333333333,
              "#9c179e"
             ],
             [
              0.4444444444444444,
              "#bd3786"
             ],
             [
              0.5555555555555556,
              "#d8576b"
             ],
             [
              0.6666666666666666,
              "#ed7953"
             ],
             [
              0.7777777777777778,
              "#fb9f3a"
             ],
             [
              0.8888888888888888,
              "#fdca26"
             ],
             [
              1,
              "#f0f921"
             ]
            ],
            "type": "contour"
           }
          ],
          "contourcarpet": [
           {
            "colorbar": {
             "outlinewidth": 0,
             "ticks": ""
            },
            "type": "contourcarpet"
           }
          ],
          "heatmap": [
           {
            "colorbar": {
             "outlinewidth": 0,
             "ticks": ""
            },
            "colorscale": [
             [
              0,
              "#0d0887"
             ],
             [
              0.1111111111111111,
              "#46039f"
             ],
             [
              0.2222222222222222,
              "#7201a8"
             ],
             [
              0.3333333333333333,
              "#9c179e"
             ],
             [
              0.4444444444444444,
              "#bd3786"
             ],
             [
              0.5555555555555556,
              "#d8576b"
             ],
             [
              0.6666666666666666,
              "#ed7953"
             ],
             [
              0.7777777777777778,
              "#fb9f3a"
             ],
             [
              0.8888888888888888,
              "#fdca26"
             ],
             [
              1,
              "#f0f921"
             ]
            ],
            "type": "heatmap"
           }
          ],
          "heatmapgl": [
           {
            "colorbar": {
             "outlinewidth": 0,
             "ticks": ""
            },
            "colorscale": [
             [
              0,
              "#0d0887"
             ],
             [
              0.1111111111111111,
              "#46039f"
             ],
             [
              0.2222222222222222,
              "#7201a8"
             ],
             [
              0.3333333333333333,
              "#9c179e"
             ],
             [
              0.4444444444444444,
              "#bd3786"
             ],
             [
              0.5555555555555556,
              "#d8576b"
             ],
             [
              0.6666666666666666,
              "#ed7953"
             ],
             [
              0.7777777777777778,
              "#fb9f3a"
             ],
             [
              0.8888888888888888,
              "#fdca26"
             ],
             [
              1,
              "#f0f921"
             ]
            ],
            "type": "heatmapgl"
           }
          ],
          "histogram": [
           {
            "marker": {
             "pattern": {
              "fillmode": "overlay",
              "size": 10,
              "solidity": 0.2
             }
            },
            "type": "histogram"
           }
          ],
          "histogram2d": [
           {
            "colorbar": {
             "outlinewidth": 0,
             "ticks": ""
            },
            "colorscale": [
             [
              0,
              "#0d0887"
             ],
             [
              0.1111111111111111,
              "#46039f"
             ],
             [
              0.2222222222222222,
              "#7201a8"
             ],
             [
              0.3333333333333333,
              "#9c179e"
             ],
             [
              0.4444444444444444,
              "#bd3786"
             ],
             [
              0.5555555555555556,
              "#d8576b"
             ],
             [
              0.6666666666666666,
              "#ed7953"
             ],
             [
              0.7777777777777778,
              "#fb9f3a"
             ],
             [
              0.8888888888888888,
              "#fdca26"
             ],
             [
              1,
              "#f0f921"
             ]
            ],
            "type": "histogram2d"
           }
          ],
          "histogram2dcontour": [
           {
            "colorbar": {
             "outlinewidth": 0,
             "ticks": ""
            },
            "colorscale": [
             [
              0,
              "#0d0887"
             ],
             [
              0.1111111111111111,
              "#46039f"
             ],
             [
              0.2222222222222222,
              "#7201a8"
             ],
             [
              0.3333333333333333,
              "#9c179e"
             ],
             [
              0.4444444444444444,
              "#bd3786"
             ],
             [
              0.5555555555555556,
              "#d8576b"
             ],
             [
              0.6666666666666666,
              "#ed7953"
             ],
             [
              0.7777777777777778,
              "#fb9f3a"
             ],
             [
              0.8888888888888888,
              "#fdca26"
             ],
             [
              1,
              "#f0f921"
             ]
            ],
            "type": "histogram2dcontour"
           }
          ],
          "mesh3d": [
           {
            "colorbar": {
             "outlinewidth": 0,
             "ticks": ""
            },
            "type": "mesh3d"
           }
          ],
          "parcoords": [
           {
            "line": {
             "colorbar": {
              "outlinewidth": 0,
              "ticks": ""
             }
            },
            "type": "parcoords"
           }
          ],
          "pie": [
           {
            "automargin": true,
            "type": "pie"
           }
          ],
          "scatter": [
           {
            "fillpattern": {
             "fillmode": "overlay",
             "size": 10,
             "solidity": 0.2
            },
            "type": "scatter"
           }
          ],
          "scatter3d": [
           {
            "line": {
             "colorbar": {
              "outlinewidth": 0,
              "ticks": ""
             }
            },
            "marker": {
             "colorbar": {
              "outlinewidth": 0,
              "ticks": ""
             }
            },
            "type": "scatter3d"
           }
          ],
          "scattercarpet": [
           {
            "marker": {
             "colorbar": {
              "outlinewidth": 0,
              "ticks": ""
             }
            },
            "type": "scattercarpet"
           }
          ],
          "scattergeo": [
           {
            "marker": {
             "colorbar": {
              "outlinewidth": 0,
              "ticks": ""
             }
            },
            "type": "scattergeo"
           }
          ],
          "scattergl": [
           {
            "marker": {
             "colorbar": {
              "outlinewidth": 0,
              "ticks": ""
             }
            },
            "type": "scattergl"
           }
          ],
          "scattermapbox": [
           {
            "marker": {
             "colorbar": {
              "outlinewidth": 0,
              "ticks": ""
             }
            },
            "type": "scattermapbox"
           }
          ],
          "scatterpolar": [
           {
            "marker": {
             "colorbar": {
              "outlinewidth": 0,
              "ticks": ""
             }
            },
            "type": "scatterpolar"
           }
          ],
          "scatterpolargl": [
           {
            "marker": {
             "colorbar": {
              "outlinewidth": 0,
              "ticks": ""
             }
            },
            "type": "scatterpolargl"
           }
          ],
          "scatterternary": [
           {
            "marker": {
             "colorbar": {
              "outlinewidth": 0,
              "ticks": ""
             }
            },
            "type": "scatterternary"
           }
          ],
          "surface": [
           {
            "colorbar": {
             "outlinewidth": 0,
             "ticks": ""
            },
            "colorscale": [
             [
              0,
              "#0d0887"
             ],
             [
              0.1111111111111111,
              "#46039f"
             ],
             [
              0.2222222222222222,
              "#7201a8"
             ],
             [
              0.3333333333333333,
              "#9c179e"
             ],
             [
              0.4444444444444444,
              "#bd3786"
             ],
             [
              0.5555555555555556,
              "#d8576b"
             ],
             [
              0.6666666666666666,
              "#ed7953"
             ],
             [
              0.7777777777777778,
              "#fb9f3a"
             ],
             [
              0.8888888888888888,
              "#fdca26"
             ],
             [
              1,
              "#f0f921"
             ]
            ],
            "type": "surface"
           }
          ],
          "table": [
           {
            "cells": {
             "fill": {
              "color": "#EBF0F8"
             },
             "line": {
              "color": "white"
             }
            },
            "header": {
             "fill": {
              "color": "#C8D4E3"
             },
             "line": {
              "color": "white"
             }
            },
            "type": "table"
           }
          ]
         },
         "layout": {
          "annotationdefaults": {
           "arrowcolor": "#2a3f5f",
           "arrowhead": 0,
           "arrowwidth": 1
          },
          "autotypenumbers": "strict",
          "coloraxis": {
           "colorbar": {
            "outlinewidth": 0,
            "ticks": ""
           }
          },
          "colorscale": {
           "diverging": [
            [
             0,
             "#8e0152"
            ],
            [
             0.1,
             "#c51b7d"
            ],
            [
             0.2,
             "#de77ae"
            ],
            [
             0.3,
             "#f1b6da"
            ],
            [
             0.4,
             "#fde0ef"
            ],
            [
             0.5,
             "#f7f7f7"
            ],
            [
             0.6,
             "#e6f5d0"
            ],
            [
             0.7,
             "#b8e186"
            ],
            [
             0.8,
             "#7fbc41"
            ],
            [
             0.9,
             "#4d9221"
            ],
            [
             1,
             "#276419"
            ]
           ],
           "sequential": [
            [
             0,
             "#0d0887"
            ],
            [
             0.1111111111111111,
             "#46039f"
            ],
            [
             0.2222222222222222,
             "#7201a8"
            ],
            [
             0.3333333333333333,
             "#9c179e"
            ],
            [
             0.4444444444444444,
             "#bd3786"
            ],
            [
             0.5555555555555556,
             "#d8576b"
            ],
            [
             0.6666666666666666,
             "#ed7953"
            ],
            [
             0.7777777777777778,
             "#fb9f3a"
            ],
            [
             0.8888888888888888,
             "#fdca26"
            ],
            [
             1,
             "#f0f921"
            ]
           ],
           "sequentialminus": [
            [
             0,
             "#0d0887"
            ],
            [
             0.1111111111111111,
             "#46039f"
            ],
            [
             0.2222222222222222,
             "#7201a8"
            ],
            [
             0.3333333333333333,
             "#9c179e"
            ],
            [
             0.4444444444444444,
             "#bd3786"
            ],
            [
             0.5555555555555556,
             "#d8576b"
            ],
            [
             0.6666666666666666,
             "#ed7953"
            ],
            [
             0.7777777777777778,
             "#fb9f3a"
            ],
            [
             0.8888888888888888,
             "#fdca26"
            ],
            [
             1,
             "#f0f921"
            ]
           ]
          },
          "colorway": [
           "#636efa",
           "#EF553B",
           "#00cc96",
           "#ab63fa",
           "#FFA15A",
           "#19d3f3",
           "#FF6692",
           "#B6E880",
           "#FF97FF",
           "#FECB52"
          ],
          "font": {
           "color": "#2a3f5f"
          },
          "geo": {
           "bgcolor": "white",
           "lakecolor": "white",
           "landcolor": "#E5ECF6",
           "showlakes": true,
           "showland": true,
           "subunitcolor": "white"
          },
          "hoverlabel": {
           "align": "left"
          },
          "hovermode": "closest",
          "mapbox": {
           "style": "light"
          },
          "paper_bgcolor": "white",
          "plot_bgcolor": "#E5ECF6",
          "polar": {
           "angularaxis": {
            "gridcolor": "white",
            "linecolor": "white",
            "ticks": ""
           },
           "bgcolor": "#E5ECF6",
           "radialaxis": {
            "gridcolor": "white",
            "linecolor": "white",
            "ticks": ""
           }
          },
          "scene": {
           "xaxis": {
            "backgroundcolor": "#E5ECF6",
            "gridcolor": "white",
            "gridwidth": 2,
            "linecolor": "white",
            "showbackground": true,
            "ticks": "",
            "zerolinecolor": "white"
           },
           "yaxis": {
            "backgroundcolor": "#E5ECF6",
            "gridcolor": "white",
            "gridwidth": 2,
            "linecolor": "white",
            "showbackground": true,
            "ticks": "",
            "zerolinecolor": "white"
           },
           "zaxis": {
            "backgroundcolor": "#E5ECF6",
            "gridcolor": "white",
            "gridwidth": 2,
            "linecolor": "white",
            "showbackground": true,
            "ticks": "",
            "zerolinecolor": "white"
           }
          },
          "shapedefaults": {
           "line": {
            "color": "#2a3f5f"
           }
          },
          "ternary": {
           "aaxis": {
            "gridcolor": "white",
            "linecolor": "white",
            "ticks": ""
           },
           "baxis": {
            "gridcolor": "white",
            "linecolor": "white",
            "ticks": ""
           },
           "bgcolor": "#E5ECF6",
           "caxis": {
            "gridcolor": "white",
            "linecolor": "white",
            "ticks": ""
           }
          },
          "title": {
           "x": 0.05
          },
          "xaxis": {
           "automargin": true,
           "gridcolor": "white",
           "linecolor": "white",
           "ticks": "",
           "title": {
            "standoff": 15
           },
           "zerolinecolor": "white",
           "zerolinewidth": 2
          },
          "yaxis": {
           "automargin": true,
           "gridcolor": "white",
           "linecolor": "white",
           "ticks": "",
           "title": {
            "standoff": 15
           },
           "zerolinecolor": "white",
           "zerolinewidth": 2
          }
         }
        },
        "title": {
         "text": ""
        }
       }
      }
     },
     "metadata": {},
     "output_type": "display_data"
    }
   ],
   "source": [
    "# Using plotly build radar chart for each binary feature: \"Stochastic\", \"Dialog\", \"Darkness\", \"Nonstandard Action\", \"Inventory\"\n",
    "import plotly.express as px\n",
    "import plotly.graph_objects as go\n",
    "\n",
    "\n",
    "fig = px.line_polar(radar_df,\n",
    "                    r=\"score\",\n",
    "                    theta=\"feature\",\n",
    "                    line_group=\"agent\",\n",
    "                    color=\"agent\",\n",
    "                    line_close=True,\n",
    "                    #template=\"plotly_dark\",\n",
    "                    title=\"Normalized Score per Criteria\",)\n",
    "fig.update_layout(polar=dict(radialaxis=dict(range=[0, 1])))\n",
    "\n",
    "# Move legend to the bottom left\n",
    "fig.update_layout(legend=dict(\n",
    "    orientation=\"v\",\n",
    "    yanchor=\"bottom\",\n",
    "    y=1.02,\n",
    "    xanchor=\"right\",\n",
    "    x=1\n",
    "))\n",
    "# Hide title\n",
    "fig.update_layout(title=\"\")\n",
    "# Hide legen title\n",
    "fig.update_layout(legend_title=\"\")\n",
    "# Change figure size to be\n",
    "fig.write_image(\"radar_chart.png\", width=1600, height=1600)\n",
    "fig.show()\n",
    "\n",
    "fig.update_layout(polar=dict(radialaxis=dict(range=[0, 0.14])))\n",
    "# Save image to disk\n",
    "fig.write_image(\"radar_chart_zoom.png\", width=800, height=800)\n"
   ]
  },
  {
   "cell_type": "code",
   "execution_count": 11,
   "metadata": {},
   "outputs": [
    {
     "data": {
      "application/vnd.plotly.v1+json": {
       "config": {
        "plotlyServerURL": "https://plot.ly"
       },
       "data": [
        {
         "hovertemplate": "agent=LLMAgent_gpt-4o_s20241001_c100_t0.0_convTrue<br>score=%{r}<br>feature=%{theta}<extra></extra>",
         "legendgroup": "LLMAgent_gpt-4o_s20241001_c100_t0.0_convTrue",
         "line": {
          "color": "#636efa",
          "dash": "solid"
         },
         "marker": {
          "symbol": "circle"
         },
         "mode": "lines",
         "name": "LLMAgent_gpt-4o_s20241001_c100_t0.0_convTrue",
         "r": [
          0.05779021645021645,
          0.048408048741382076,
          0.04930588039411569,
          0.07072110177404295,
          0.05628643578643578,
          0.04637918871252204,
          0.05405424695130578,
          0.05436263736263736,
          0.07517038690476191,
          0.06317777398040555,
          0.04212967138074742,
          0.06444969398417674,
          0.05779021645021645
         ],
         "showlegend": true,
         "subplot": "polar",
         "theta": [
          "Stochastic",
          "Dialog",
          "Darkness",
          "Nonstandard Action",
          "Inventory",
          "Maze",
          "Trivia",
          "Self-Maintenance",
          "Combat",
          "Time",
          "Mechanical Puzzle",
          "Persistence",
          "Stochastic"
         ],
         "type": "scatterpolar"
        },
        {
         "hovertemplate": "agent=LLMAgent_llama-32-3b-instruct_s20241001_c100_t0.0_convTrue<br>score=%{r}<br>feature=%{theta}<extra></extra>",
         "legendgroup": "LLMAgent_llama-32-3b-instruct_s20241001_c100_t0.0_convTrue",
         "line": {
          "color": "#EF553B",
          "dash": "solid"
         },
         "marker": {
          "symbol": "circle"
         },
         "mode": "lines",
         "name": "LLMAgent_llama-32-3b-instruct_s20241001_c100_t0.0_convTrue",
         "r": [
          0.012410714285714284,
          0.011340388007054673,
          0.019195238095238095,
          0.013801587301587303,
          0.01435515873015873,
          0.01180860805860806,
          0.008735994397759104,
          0.006923076923076922,
          0.017457757296466973,
          0.011051587301587302,
          0.014035409035409034,
          0.013253968253968254,
          0.012410714285714284
         ],
         "showlegend": true,
         "subplot": "polar",
         "theta": [
          "Stochastic",
          "Dialog",
          "Darkness",
          "Nonstandard Action",
          "Inventory",
          "Maze",
          "Trivia",
          "Self-Maintenance",
          "Combat",
          "Time",
          "Mechanical Puzzle",
          "Persistence",
          "Stochastic"
         ],
         "type": "scatterpolar"
        },
        {
         "hovertemplate": "agent=RandomAgent_s20241001<br>score=%{r}<br>feature=%{theta}<extra></extra>",
         "legendgroup": "RandomAgent_s20241001",
         "line": {
          "color": "#00cc96",
          "dash": "solid"
         },
         "marker": {
          "symbol": "circle"
         },
         "mode": "lines",
         "name": "RandomAgent_s20241001",
         "r": [
          0.020005175983436853,
          0.05047619047619047,
          0.037659021942110175,
          0.08440534547152195,
          0.01943452380952381,
          0.019528769841269843,
          0.05494277021153289,
          0.008541666666666668,
          0.03511196145124716,
          0.03558407738095238,
          0.03515666266506603,
          0.04109047619047619,
          0.020005175983436853
         ],
         "showlegend": true,
         "subplot": "polar",
         "theta": [
          "Stochastic",
          "Dialog",
          "Darkness",
          "Nonstandard Action",
          "Inventory",
          "Maze",
          "Trivia",
          "Self-Maintenance",
          "Combat",
          "Time",
          "Mechanical Puzzle",
          "Persistence",
          "Stochastic"
         ],
         "type": "scatterpolar"
        }
       ],
       "layout": {
        "legend": {
         "title": {
          "text": "agent"
         },
         "tracegroupgap": 0
        },
        "polar": {
         "angularaxis": {
          "direction": "clockwise",
          "rotation": 90
         },
         "domain": {
          "x": [
           0,
           1
          ],
          "y": [
           0,
           1
          ]
         },
         "radialaxis": {
          "range": [
           0,
           0.14
          ]
         }
        },
        "template": {
         "data": {
          "bar": [
           {
            "error_x": {
             "color": "#f2f5fa"
            },
            "error_y": {
             "color": "#f2f5fa"
            },
            "marker": {
             "line": {
              "color": "rgb(17,17,17)",
              "width": 0.5
             },
             "pattern": {
              "fillmode": "overlay",
              "size": 10,
              "solidity": 0.2
             }
            },
            "type": "bar"
           }
          ],
          "barpolar": [
           {
            "marker": {
             "line": {
              "color": "rgb(17,17,17)",
              "width": 0.5
             },
             "pattern": {
              "fillmode": "overlay",
              "size": 10,
              "solidity": 0.2
             }
            },
            "type": "barpolar"
           }
          ],
          "carpet": [
           {
            "aaxis": {
             "endlinecolor": "#A2B1C6",
             "gridcolor": "#506784",
             "linecolor": "#506784",
             "minorgridcolor": "#506784",
             "startlinecolor": "#A2B1C6"
            },
            "baxis": {
             "endlinecolor": "#A2B1C6",
             "gridcolor": "#506784",
             "linecolor": "#506784",
             "minorgridcolor": "#506784",
             "startlinecolor": "#A2B1C6"
            },
            "type": "carpet"
           }
          ],
          "choropleth": [
           {
            "colorbar": {
             "outlinewidth": 0,
             "ticks": ""
            },
            "type": "choropleth"
           }
          ],
          "contour": [
           {
            "colorbar": {
             "outlinewidth": 0,
             "ticks": ""
            },
            "colorscale": [
             [
              0,
              "#0d0887"
             ],
             [
              0.1111111111111111,
              "#46039f"
             ],
             [
              0.2222222222222222,
              "#7201a8"
             ],
             [
              0.3333333333333333,
              "#9c179e"
             ],
             [
              0.4444444444444444,
              "#bd3786"
             ],
             [
              0.5555555555555556,
              "#d8576b"
             ],
             [
              0.6666666666666666,
              "#ed7953"
             ],
             [
              0.7777777777777778,
              "#fb9f3a"
             ],
             [
              0.8888888888888888,
              "#fdca26"
             ],
             [
              1,
              "#f0f921"
             ]
            ],
            "type": "contour"
           }
          ],
          "contourcarpet": [
           {
            "colorbar": {
             "outlinewidth": 0,
             "ticks": ""
            },
            "type": "contourcarpet"
           }
          ],
          "heatmap": [
           {
            "colorbar": {
             "outlinewidth": 0,
             "ticks": ""
            },
            "colorscale": [
             [
              0,
              "#0d0887"
             ],
             [
              0.1111111111111111,
              "#46039f"
             ],
             [
              0.2222222222222222,
              "#7201a8"
             ],
             [
              0.3333333333333333,
              "#9c179e"
             ],
             [
              0.4444444444444444,
              "#bd3786"
             ],
             [
              0.5555555555555556,
              "#d8576b"
             ],
             [
              0.6666666666666666,
              "#ed7953"
             ],
             [
              0.7777777777777778,
              "#fb9f3a"
             ],
             [
              0.8888888888888888,
              "#fdca26"
             ],
             [
              1,
              "#f0f921"
             ]
            ],
            "type": "heatmap"
           }
          ],
          "heatmapgl": [
           {
            "colorbar": {
             "outlinewidth": 0,
             "ticks": ""
            },
            "colorscale": [
             [
              0,
              "#0d0887"
             ],
             [
              0.1111111111111111,
              "#46039f"
             ],
             [
              0.2222222222222222,
              "#7201a8"
             ],
             [
              0.3333333333333333,
              "#9c179e"
             ],
             [
              0.4444444444444444,
              "#bd3786"
             ],
             [
              0.5555555555555556,
              "#d8576b"
             ],
             [
              0.6666666666666666,
              "#ed7953"
             ],
             [
              0.7777777777777778,
              "#fb9f3a"
             ],
             [
              0.8888888888888888,
              "#fdca26"
             ],
             [
              1,
              "#f0f921"
             ]
            ],
            "type": "heatmapgl"
           }
          ],
          "histogram": [
           {
            "marker": {
             "pattern": {
              "fillmode": "overlay",
              "size": 10,
              "solidity": 0.2
             }
            },
            "type": "histogram"
           }
          ],
          "histogram2d": [
           {
            "colorbar": {
             "outlinewidth": 0,
             "ticks": ""
            },
            "colorscale": [
             [
              0,
              "#0d0887"
             ],
             [
              0.1111111111111111,
              "#46039f"
             ],
             [
              0.2222222222222222,
              "#7201a8"
             ],
             [
              0.3333333333333333,
              "#9c179e"
             ],
             [
              0.4444444444444444,
              "#bd3786"
             ],
             [
              0.5555555555555556,
              "#d8576b"
             ],
             [
              0.6666666666666666,
              "#ed7953"
             ],
             [
              0.7777777777777778,
              "#fb9f3a"
             ],
             [
              0.8888888888888888,
              "#fdca26"
             ],
             [
              1,
              "#f0f921"
             ]
            ],
            "type": "histogram2d"
           }
          ],
          "histogram2dcontour": [
           {
            "colorbar": {
             "outlinewidth": 0,
             "ticks": ""
            },
            "colorscale": [
             [
              0,
              "#0d0887"
             ],
             [
              0.1111111111111111,
              "#46039f"
             ],
             [
              0.2222222222222222,
              "#7201a8"
             ],
             [
              0.3333333333333333,
              "#9c179e"
             ],
             [
              0.4444444444444444,
              "#bd3786"
             ],
             [
              0.5555555555555556,
              "#d8576b"
             ],
             [
              0.6666666666666666,
              "#ed7953"
             ],
             [
              0.7777777777777778,
              "#fb9f3a"
             ],
             [
              0.8888888888888888,
              "#fdca26"
             ],
             [
              1,
              "#f0f921"
             ]
            ],
            "type": "histogram2dcontour"
           }
          ],
          "mesh3d": [
           {
            "colorbar": {
             "outlinewidth": 0,
             "ticks": ""
            },
            "type": "mesh3d"
           }
          ],
          "parcoords": [
           {
            "line": {
             "colorbar": {
              "outlinewidth": 0,
              "ticks": ""
             }
            },
            "type": "parcoords"
           }
          ],
          "pie": [
           {
            "automargin": true,
            "type": "pie"
           }
          ],
          "scatter": [
           {
            "marker": {
             "line": {
              "color": "#283442"
             }
            },
            "type": "scatter"
           }
          ],
          "scatter3d": [
           {
            "line": {
             "colorbar": {
              "outlinewidth": 0,
              "ticks": ""
             }
            },
            "marker": {
             "colorbar": {
              "outlinewidth": 0,
              "ticks": ""
             }
            },
            "type": "scatter3d"
           }
          ],
          "scattercarpet": [
           {
            "marker": {
             "colorbar": {
              "outlinewidth": 0,
              "ticks": ""
             }
            },
            "type": "scattercarpet"
           }
          ],
          "scattergeo": [
           {
            "marker": {
             "colorbar": {
              "outlinewidth": 0,
              "ticks": ""
             }
            },
            "type": "scattergeo"
           }
          ],
          "scattergl": [
           {
            "marker": {
             "line": {
              "color": "#283442"
             }
            },
            "type": "scattergl"
           }
          ],
          "scattermapbox": [
           {
            "marker": {
             "colorbar": {
              "outlinewidth": 0,
              "ticks": ""
             }
            },
            "type": "scattermapbox"
           }
          ],
          "scatterpolar": [
           {
            "marker": {
             "colorbar": {
              "outlinewidth": 0,
              "ticks": ""
             }
            },
            "type": "scatterpolar"
           }
          ],
          "scatterpolargl": [
           {
            "marker": {
             "colorbar": {
              "outlinewidth": 0,
              "ticks": ""
             }
            },
            "type": "scatterpolargl"
           }
          ],
          "scatterternary": [
           {
            "marker": {
             "colorbar": {
              "outlinewidth": 0,
              "ticks": ""
             }
            },
            "type": "scatterternary"
           }
          ],
          "surface": [
           {
            "colorbar": {
             "outlinewidth": 0,
             "ticks": ""
            },
            "colorscale": [
             [
              0,
              "#0d0887"
             ],
             [
              0.1111111111111111,
              "#46039f"
             ],
             [
              0.2222222222222222,
              "#7201a8"
             ],
             [
              0.3333333333333333,
              "#9c179e"
             ],
             [
              0.4444444444444444,
              "#bd3786"
             ],
             [
              0.5555555555555556,
              "#d8576b"
             ],
             [
              0.6666666666666666,
              "#ed7953"
             ],
             [
              0.7777777777777778,
              "#fb9f3a"
             ],
             [
              0.8888888888888888,
              "#fdca26"
             ],
             [
              1,
              "#f0f921"
             ]
            ],
            "type": "surface"
           }
          ],
          "table": [
           {
            "cells": {
             "fill": {
              "color": "#506784"
             },
             "line": {
              "color": "rgb(17,17,17)"
             }
            },
            "header": {
             "fill": {
              "color": "#2a3f5f"
             },
             "line": {
              "color": "rgb(17,17,17)"
             }
            },
            "type": "table"
           }
          ]
         },
         "layout": {
          "annotationdefaults": {
           "arrowcolor": "#f2f5fa",
           "arrowhead": 0,
           "arrowwidth": 1
          },
          "autotypenumbers": "strict",
          "coloraxis": {
           "colorbar": {
            "outlinewidth": 0,
            "ticks": ""
           }
          },
          "colorscale": {
           "diverging": [
            [
             0,
             "#8e0152"
            ],
            [
             0.1,
             "#c51b7d"
            ],
            [
             0.2,
             "#de77ae"
            ],
            [
             0.3,
             "#f1b6da"
            ],
            [
             0.4,
             "#fde0ef"
            ],
            [
             0.5,
             "#f7f7f7"
            ],
            [
             0.6,
             "#e6f5d0"
            ],
            [
             0.7,
             "#b8e186"
            ],
            [
             0.8,
             "#7fbc41"
            ],
            [
             0.9,
             "#4d9221"
            ],
            [
             1,
             "#276419"
            ]
           ],
           "sequential": [
            [
             0,
             "#0d0887"
            ],
            [
             0.1111111111111111,
             "#46039f"
            ],
            [
             0.2222222222222222,
             "#7201a8"
            ],
            [
             0.3333333333333333,
             "#9c179e"
            ],
            [
             0.4444444444444444,
             "#bd3786"
            ],
            [
             0.5555555555555556,
             "#d8576b"
            ],
            [
             0.6666666666666666,
             "#ed7953"
            ],
            [
             0.7777777777777778,
             "#fb9f3a"
            ],
            [
             0.8888888888888888,
             "#fdca26"
            ],
            [
             1,
             "#f0f921"
            ]
           ],
           "sequentialminus": [
            [
             0,
             "#0d0887"
            ],
            [
             0.1111111111111111,
             "#46039f"
            ],
            [
             0.2222222222222222,
             "#7201a8"
            ],
            [
             0.3333333333333333,
             "#9c179e"
            ],
            [
             0.4444444444444444,
             "#bd3786"
            ],
            [
             0.5555555555555556,
             "#d8576b"
            ],
            [
             0.6666666666666666,
             "#ed7953"
            ],
            [
             0.7777777777777778,
             "#fb9f3a"
            ],
            [
             0.8888888888888888,
             "#fdca26"
            ],
            [
             1,
             "#f0f921"
            ]
           ]
          },
          "colorway": [
           "#636efa",
           "#EF553B",
           "#00cc96",
           "#ab63fa",
           "#FFA15A",
           "#19d3f3",
           "#FF6692",
           "#B6E880",
           "#FF97FF",
           "#FECB52"
          ],
          "font": {
           "color": "#f2f5fa"
          },
          "geo": {
           "bgcolor": "rgb(17,17,17)",
           "lakecolor": "rgb(17,17,17)",
           "landcolor": "rgb(17,17,17)",
           "showlakes": true,
           "showland": true,
           "subunitcolor": "#506784"
          },
          "hoverlabel": {
           "align": "left"
          },
          "hovermode": "closest",
          "mapbox": {
           "style": "dark"
          },
          "paper_bgcolor": "rgb(17,17,17)",
          "plot_bgcolor": "rgb(17,17,17)",
          "polar": {
           "angularaxis": {
            "gridcolor": "#506784",
            "linecolor": "#506784",
            "ticks": ""
           },
           "bgcolor": "rgb(17,17,17)",
           "radialaxis": {
            "gridcolor": "#506784",
            "linecolor": "#506784",
            "ticks": ""
           }
          },
          "scene": {
           "xaxis": {
            "backgroundcolor": "rgb(17,17,17)",
            "gridcolor": "#506784",
            "gridwidth": 2,
            "linecolor": "#506784",
            "showbackground": true,
            "ticks": "",
            "zerolinecolor": "#C8D4E3"
           },
           "yaxis": {
            "backgroundcolor": "rgb(17,17,17)",
            "gridcolor": "#506784",
            "gridwidth": 2,
            "linecolor": "#506784",
            "showbackground": true,
            "ticks": "",
            "zerolinecolor": "#C8D4E3"
           },
           "zaxis": {
            "backgroundcolor": "rgb(17,17,17)",
            "gridcolor": "#506784",
            "gridwidth": 2,
            "linecolor": "#506784",
            "showbackground": true,
            "ticks": "",
            "zerolinecolor": "#C8D4E3"
           }
          },
          "shapedefaults": {
           "line": {
            "color": "#f2f5fa"
           }
          },
          "sliderdefaults": {
           "bgcolor": "#C8D4E3",
           "bordercolor": "rgb(17,17,17)",
           "borderwidth": 1,
           "tickwidth": 0
          },
          "ternary": {
           "aaxis": {
            "gridcolor": "#506784",
            "linecolor": "#506784",
            "ticks": ""
           },
           "baxis": {
            "gridcolor": "#506784",
            "linecolor": "#506784",
            "ticks": ""
           },
           "bgcolor": "rgb(17,17,17)",
           "caxis": {
            "gridcolor": "#506784",
            "linecolor": "#506784",
            "ticks": ""
           }
          },
          "title": {
           "x": 0.05
          },
          "updatemenudefaults": {
           "bgcolor": "#506784",
           "borderwidth": 0
          },
          "xaxis": {
           "automargin": true,
           "gridcolor": "#283442",
           "linecolor": "#506784",
           "ticks": "",
           "title": {
            "standoff": 15
           },
           "zerolinecolor": "#283442",
           "zerolinewidth": 2
          },
          "yaxis": {
           "automargin": true,
           "gridcolor": "#283442",
           "linecolor": "#506784",
           "ticks": "",
           "title": {
            "standoff": 15
           },
           "zerolinecolor": "#283442",
           "zerolinewidth": 2
          }
         }
        },
        "title": {
         "text": "Normalized Score per game"
        }
       }
      }
     },
     "metadata": {},
     "output_type": "display_data"
    }
   ],
   "source": [
    "# Using plotly build radar chart for each binary feature: \"Stochastic\", \"Dialog\", \"Darkness\", \"Nonstandard Action\", \"Inventory\"\n",
    "import plotly.express as px\n",
    "import plotly.graph_objects as go\n",
    "\n",
    "\n",
    "fig = px.line_polar(radar_df,\n",
    "                    r=\"score\",\n",
    "                    theta=\"feature\",\n",
    "                    line_group=\"agent\",\n",
    "                    color=\"agent\",\n",
    "                    line_close=True, template=\"plotly_dark\", title=\"Normalized Score per game\")\n",
    "#fig.update_layout(polar=dict(radialaxis=dict(range=[0, 1])))\n",
    "fig.update_layout(polar=dict(radialaxis=dict(range=[0, 0.14])))\n",
    "fig.show()"
   ]
  },
  {
   "cell_type": "code",
   "execution_count": 189,
   "metadata": {},
   "outputs": [
    {
     "data": {
      "application/vnd.plotly.v1+json": {
       "config": {
        "plotlyServerURL": "https://plot.ly"
       },
       "data": [
        {
         "hovertemplate": "model=gpt-4o<br>Max Normalized Score=%{r}<br>game=%{theta}<extra></extra>",
         "legendgroup": "gpt-4o",
         "line": {
          "color": "#636efa",
          "dash": "solid"
         },
         "marker": {
          "symbol": "circle"
         },
         "mode": "lines",
         "name": "gpt-4o",
         "r": [
          0,
          0,
          0,
          0,
          0,
          0,
          0,
          0,
          0,
          0,
          0,
          0,
          0,
          0,
          0,
          0,
          0,
          0,
          0,
          0.3636363636363637,
          0.8,
          1.6,
          2.2222222222222223,
          2.5,
          2.857142857142857,
          3,
          3,
          4,
          4.166666666666667,
          5,
          5,
          6,
          7,
          7.142857142857143,
          7.333333333333333,
          7.5,
          10,
          10,
          10,
          10.285714285714286,
          12.857142857142858,
          17.333333333333332,
          19,
          19.607843137254903,
          20,
          22.857142857142858,
          28.571428571428573,
          33.333333333333336,
          42.857142857142854,
          53.333333333333336,
          60,
          86.11111111111111,
          86.11111111111111,
          0
         ],
         "showlegend": true,
         "subplot": "polar",
         "theta": [
          "plundered.z3",
          "zenon.z5",
          "zork2.z5",
          "yomomma.z8",
          "weapon.z5",
          "theatre.z5",
          "dragon.z5",
          "huntdark.z5",
          "infidel.z3",
          "anchor.z8",
          "ballyhoo.z3",
          "cutthroat.z3",
          "905.z5",
          "moonlit.z5",
          "awaken.z5",
          "partyfoul.z8",
          "adventureland.z5",
          "inhumane.z5",
          "karn.z5",
          "curses.z5",
          "murdac.z5",
          "spirit.z5",
          "jewel.z5",
          "hhgg.z3",
          "tryst205.z5",
          "seastalker.z3",
          "gold.z5",
          "reverb.z5",
          "spellbrkr.z3",
          "enchanter.z3",
          "sorcerer.z3",
          "deephome.z5",
          "wishbringer.z3",
          "pentari.z5",
          "ludicorp.z5",
          "planetfall.z3",
          "omniquest.z5",
          "loose.z5",
          "enter.z5",
          "advent.z5",
          "zork1.z5",
          "afflicted.z8",
          "ztuu.z5",
          "balances.z5",
          "night.z5",
          "temple.z5",
          "lostpig.z8",
          "acorncourt.z5",
          "zork3.z5",
          "library.z5",
          "snacktime.z8",
          "detective.z5",
          "detective.z5",
          "plundered.z3"
         ],
         "type": "scatterpolar"
        },
        {
         "hovertemplate": "model=meta-llama-3-70b-instruct-4<br>Max Normalized Score=%{r}<br>game=%{theta}<extra></extra>",
         "legendgroup": "meta-llama-3-70b-instruct-4",
         "line": {
          "color": "#EF553B",
          "dash": "solid"
         },
         "marker": {
          "symbol": "circle"
         },
         "mode": "lines",
         "name": "meta-llama-3-70b-instruct-4",
         "r": [
          0,
          0,
          0,
          0,
          0,
          0,
          0,
          0,
          0,
          0,
          0,
          0,
          0,
          0,
          0,
          0,
          0,
          0,
          0,
          0,
          0,
          0,
          0,
          0,
          0,
          1.25,
          2,
          2.2222222222222223,
          2.5,
          3,
          3.2,
          3.75,
          4,
          4,
          4,
          4.285714285714286,
          5,
          5,
          6,
          6.666666666666667,
          7.142857142857143,
          10,
          10.285714285714286,
          11.25,
          12,
          14.285714285714286,
          16,
          19.607843137254903,
          20,
          28.571428571428573,
          33.333333333333336,
          40,
          42.857142857142854,
          86.11111111111111,
          0
         ],
         "showlegend": true,
         "subplot": "polar",
         "theta": [
          "plundered.z3",
          "anchor.z8",
          "905.z5",
          "zork2.z5",
          "yomomma.z8",
          "weapon.z5",
          "tryst205.z5",
          "theatre.z5",
          "spirit.z5",
          "afflicted.z8",
          "dragon.z5",
          "hollywood.z3",
          "huntdark.z5",
          "awaken.z5",
          "ballyhoo.z3",
          "curses.z5",
          "lurking.z3",
          "moonlit.z5",
          "adventureland.z5",
          "night.z5",
          "partyfoul.z8",
          "infidel.z3",
          "inhumane.z5",
          "karn.z5",
          "library.z5",
          "sorcerer.z3",
          "seastalker.z3",
          "jewel.z5",
          "hhgg.z3",
          "gold.z5",
          "murdac.z5",
          "planetfall.z3",
          "loose.z5",
          "deephome.z5",
          "reverb.z5",
          "zork1.z5",
          "ztuu.z5",
          "enter.z5",
          "wishbringer.z3",
          "spellbrkr.z3",
          "pentari.z5",
          "omniquest.z5",
          "advent.z5",
          "enchanter.z3",
          "ludicorp.z5",
          "temple.z5",
          "cutthroat.z3",
          "balances.z5",
          "zenon.z5",
          "lostpig.z8",
          "acorncourt.z5",
          "snacktime.z8",
          "zork3.z5",
          "detective.z5",
          "plundered.z3"
         ],
         "type": "scatterpolar"
        },
        {
         "hovertemplate": "model=microsoft/Phi-3.5-mini-instruct<br>Max Normalized Score=%{r}<br>game=%{theta}<extra></extra>",
         "legendgroup": "microsoft/Phi-3.5-mini-instruct",
         "line": {
          "color": "#00cc96",
          "dash": "solid"
         },
         "marker": {
          "symbol": "circle"
         },
         "mode": "lines",
         "name": "microsoft/Phi-3.5-mini-instruct",
         "r": [
          0,
          0,
          0,
          0,
          0,
          0,
          0,
          0,
          0,
          0,
          0,
          0,
          0,
          0,
          0,
          0,
          0,
          0,
          0,
          0,
          0,
          0,
          0,
          0,
          0,
          0,
          0,
          0,
          0,
          0,
          0,
          0,
          0,
          0,
          0,
          0,
          0,
          0,
          0,
          0,
          0,
          0,
          0.3333333333333333,
          1,
          1.25,
          2.5,
          3.3333333333333335,
          6,
          10,
          10.285714285714286,
          14.285714285714286,
          16.666666666666668,
          20,
          0
         ],
         "showlegend": true,
         "subplot": "polar",
         "theta": [
          "plundered.z3",
          "planetfall.z3",
          "reverb.z5",
          "adventureland.z5",
          "ztuu.z5",
          "905.z5",
          "zork3.z5",
          "acorncourt.z5",
          "zork2.z5",
          "zork1.z5",
          "zenon.z5",
          "spirit.z5",
          "yomomma.z8",
          "weapon.z5",
          "tryst205.z5",
          "theatre.z5",
          "temple.z5",
          "murdac.z5",
          "pentari.z5",
          "enchanter.z3",
          "enter.z5",
          "gold.z5",
          "hhgg.z3",
          "hollywood.z3",
          "huntdark.z5",
          "dragon.z5",
          "awaken.z5",
          "balances.z5",
          "anchor.z8",
          "ballyhoo.z3",
          "curses.z5",
          "cutthroat.z3",
          "infidel.z3",
          "moonlit.z5",
          "night.z5",
          "partyfoul.z8",
          "inhumane.z5",
          "jewel.z5",
          "karn.z5",
          "library.z5",
          "afflicted.z8",
          "loose.z5",
          "deephome.z5",
          "seastalker.z3",
          "sorcerer.z3",
          "spellbrkr.z3",
          "ludicorp.z5",
          "wishbringer.z3",
          "omniquest.z5",
          "advent.z5",
          "lostpig.z8",
          "detective.z5",
          "snacktime.z8",
          "plundered.z3"
         ],
         "type": "scatterpolar"
        },
        {
         "hovertemplate": "model=phi-3-medium-128k-instruct-1<br>Max Normalized Score=%{r}<br>game=%{theta}<extra></extra>",
         "legendgroup": "phi-3-medium-128k-instruct-1",
         "line": {
          "color": "#ab63fa",
          "dash": "solid"
         },
         "marker": {
          "symbol": "circle"
         },
         "mode": "lines",
         "name": "phi-3-medium-128k-instruct-1",
         "r": [
          0,
          0,
          0,
          0,
          0,
          0,
          0,
          0,
          0,
          0,
          0,
          0,
          0,
          0,
          0,
          0,
          0,
          0,
          0,
          0,
          0,
          0,
          0,
          0,
          0,
          0,
          0,
          0,
          0,
          0,
          0,
          0,
          0,
          0.3333333333333333,
          1.25,
          2,
          4,
          5,
          5,
          6,
          6,
          6.666666666666667,
          9.803921568627452,
          10,
          10,
          10.285714285714286,
          13.88888888888889,
          14.285714285714286,
          16.666666666666668,
          20,
          28.571428571428573,
          28.571428571428573,
          33.333333333333336,
          0
         ],
         "showlegend": true,
         "subplot": "polar",
         "theta": [
          "plundered.z3",
          "reverb.z5",
          "theatre.z5",
          "spirit.z5",
          "zork2.z5",
          "zork1.z5",
          "zenon.z5",
          "acorncourt.z5",
          "yomomma.z8",
          "weapon.z5",
          "planetfall.z3",
          "dragon.z5",
          "gold.z5",
          "hhgg.z3",
          "hollywood.z3",
          "afflicted.z8",
          "anchor.z8",
          "awaken.z5",
          "ballyhoo.z3",
          "curses.z5",
          "huntdark.z5",
          "pentari.z5",
          "moonlit.z5",
          "murdac.z5",
          "night.z5",
          "partyfoul.z8",
          "adventureland.z5",
          "infidel.z3",
          "loose.z5",
          "inhumane.z5",
          "jewel.z5",
          "karn.z5",
          "905.z5",
          "deephome.z5",
          "sorcerer.z3",
          "seastalker.z3",
          "cutthroat.z3",
          "enchanter.z3",
          "ztuu.z5",
          "ludicorp.z5",
          "wishbringer.z3",
          "spellbrkr.z3",
          "balances.z5",
          "omniquest.z5",
          "enter.z5",
          "advent.z5",
          "detective.z5",
          "temple.z5",
          "detective.z5",
          "snacktime.z8",
          "lostpig.z8",
          "zork3.z5",
          "library.z5",
          "plundered.z3"
         ],
         "type": "scatterpolar"
        }
       ],
       "layout": {
        "legend": {
         "title": {
          "text": "model"
         },
         "tracegroupgap": 0
        },
        "polar": {
         "angularaxis": {
          "direction": "clockwise",
          "rotation": 90
         },
         "domain": {
          "x": [
           0,
           1
          ],
          "y": [
           0,
           1
          ]
         },
         "radialaxis": {
          "range": [
           0,
           100
          ]
         }
        },
        "template": {
         "data": {
          "bar": [
           {
            "error_x": {
             "color": "#f2f5fa"
            },
            "error_y": {
             "color": "#f2f5fa"
            },
            "marker": {
             "line": {
              "color": "rgb(17,17,17)",
              "width": 0.5
             },
             "pattern": {
              "fillmode": "overlay",
              "size": 10,
              "solidity": 0.2
             }
            },
            "type": "bar"
           }
          ],
          "barpolar": [
           {
            "marker": {
             "line": {
              "color": "rgb(17,17,17)",
              "width": 0.5
             },
             "pattern": {
              "fillmode": "overlay",
              "size": 10,
              "solidity": 0.2
             }
            },
            "type": "barpolar"
           }
          ],
          "carpet": [
           {
            "aaxis": {
             "endlinecolor": "#A2B1C6",
             "gridcolor": "#506784",
             "linecolor": "#506784",
             "minorgridcolor": "#506784",
             "startlinecolor": "#A2B1C6"
            },
            "baxis": {
             "endlinecolor": "#A2B1C6",
             "gridcolor": "#506784",
             "linecolor": "#506784",
             "minorgridcolor": "#506784",
             "startlinecolor": "#A2B1C6"
            },
            "type": "carpet"
           }
          ],
          "choropleth": [
           {
            "colorbar": {
             "outlinewidth": 0,
             "ticks": ""
            },
            "type": "choropleth"
           }
          ],
          "contour": [
           {
            "colorbar": {
             "outlinewidth": 0,
             "ticks": ""
            },
            "colorscale": [
             [
              0,
              "#0d0887"
             ],
             [
              0.1111111111111111,
              "#46039f"
             ],
             [
              0.2222222222222222,
              "#7201a8"
             ],
             [
              0.3333333333333333,
              "#9c179e"
             ],
             [
              0.4444444444444444,
              "#bd3786"
             ],
             [
              0.5555555555555556,
              "#d8576b"
             ],
             [
              0.6666666666666666,
              "#ed7953"
             ],
             [
              0.7777777777777778,
              "#fb9f3a"
             ],
             [
              0.8888888888888888,
              "#fdca26"
             ],
             [
              1,
              "#f0f921"
             ]
            ],
            "type": "contour"
           }
          ],
          "contourcarpet": [
           {
            "colorbar": {
             "outlinewidth": 0,
             "ticks": ""
            },
            "type": "contourcarpet"
           }
          ],
          "heatmap": [
           {
            "colorbar": {
             "outlinewidth": 0,
             "ticks": ""
            },
            "colorscale": [
             [
              0,
              "#0d0887"
             ],
             [
              0.1111111111111111,
              "#46039f"
             ],
             [
              0.2222222222222222,
              "#7201a8"
             ],
             [
              0.3333333333333333,
              "#9c179e"
             ],
             [
              0.4444444444444444,
              "#bd3786"
             ],
             [
              0.5555555555555556,
              "#d8576b"
             ],
             [
              0.6666666666666666,
              "#ed7953"
             ],
             [
              0.7777777777777778,
              "#fb9f3a"
             ],
             [
              0.8888888888888888,
              "#fdca26"
             ],
             [
              1,
              "#f0f921"
             ]
            ],
            "type": "heatmap"
           }
          ],
          "heatmapgl": [
           {
            "colorbar": {
             "outlinewidth": 0,
             "ticks": ""
            },
            "colorscale": [
             [
              0,
              "#0d0887"
             ],
             [
              0.1111111111111111,
              "#46039f"
             ],
             [
              0.2222222222222222,
              "#7201a8"
             ],
             [
              0.3333333333333333,
              "#9c179e"
             ],
             [
              0.4444444444444444,
              "#bd3786"
             ],
             [
              0.5555555555555556,
              "#d8576b"
             ],
             [
              0.6666666666666666,
              "#ed7953"
             ],
             [
              0.7777777777777778,
              "#fb9f3a"
             ],
             [
              0.8888888888888888,
              "#fdca26"
             ],
             [
              1,
              "#f0f921"
             ]
            ],
            "type": "heatmapgl"
           }
          ],
          "histogram": [
           {
            "marker": {
             "pattern": {
              "fillmode": "overlay",
              "size": 10,
              "solidity": 0.2
             }
            },
            "type": "histogram"
           }
          ],
          "histogram2d": [
           {
            "colorbar": {
             "outlinewidth": 0,
             "ticks": ""
            },
            "colorscale": [
             [
              0,
              "#0d0887"
             ],
             [
              0.1111111111111111,
              "#46039f"
             ],
             [
              0.2222222222222222,
              "#7201a8"
             ],
             [
              0.3333333333333333,
              "#9c179e"
             ],
             [
              0.4444444444444444,
              "#bd3786"
             ],
             [
              0.5555555555555556,
              "#d8576b"
             ],
             [
              0.6666666666666666,
              "#ed7953"
             ],
             [
              0.7777777777777778,
              "#fb9f3a"
             ],
             [
              0.8888888888888888,
              "#fdca26"
             ],
             [
              1,
              "#f0f921"
             ]
            ],
            "type": "histogram2d"
           }
          ],
          "histogram2dcontour": [
           {
            "colorbar": {
             "outlinewidth": 0,
             "ticks": ""
            },
            "colorscale": [
             [
              0,
              "#0d0887"
             ],
             [
              0.1111111111111111,
              "#46039f"
             ],
             [
              0.2222222222222222,
              "#7201a8"
             ],
             [
              0.3333333333333333,
              "#9c179e"
             ],
             [
              0.4444444444444444,
              "#bd3786"
             ],
             [
              0.5555555555555556,
              "#d8576b"
             ],
             [
              0.6666666666666666,
              "#ed7953"
             ],
             [
              0.7777777777777778,
              "#fb9f3a"
             ],
             [
              0.8888888888888888,
              "#fdca26"
             ],
             [
              1,
              "#f0f921"
             ]
            ],
            "type": "histogram2dcontour"
           }
          ],
          "mesh3d": [
           {
            "colorbar": {
             "outlinewidth": 0,
             "ticks": ""
            },
            "type": "mesh3d"
           }
          ],
          "parcoords": [
           {
            "line": {
             "colorbar": {
              "outlinewidth": 0,
              "ticks": ""
             }
            },
            "type": "parcoords"
           }
          ],
          "pie": [
           {
            "automargin": true,
            "type": "pie"
           }
          ],
          "scatter": [
           {
            "marker": {
             "line": {
              "color": "#283442"
             }
            },
            "type": "scatter"
           }
          ],
          "scatter3d": [
           {
            "line": {
             "colorbar": {
              "outlinewidth": 0,
              "ticks": ""
             }
            },
            "marker": {
             "colorbar": {
              "outlinewidth": 0,
              "ticks": ""
             }
            },
            "type": "scatter3d"
           }
          ],
          "scattercarpet": [
           {
            "marker": {
             "colorbar": {
              "outlinewidth": 0,
              "ticks": ""
             }
            },
            "type": "scattercarpet"
           }
          ],
          "scattergeo": [
           {
            "marker": {
             "colorbar": {
              "outlinewidth": 0,
              "ticks": ""
             }
            },
            "type": "scattergeo"
           }
          ],
          "scattergl": [
           {
            "marker": {
             "line": {
              "color": "#283442"
             }
            },
            "type": "scattergl"
           }
          ],
          "scattermapbox": [
           {
            "marker": {
             "colorbar": {
              "outlinewidth": 0,
              "ticks": ""
             }
            },
            "type": "scattermapbox"
           }
          ],
          "scatterpolar": [
           {
            "marker": {
             "colorbar": {
              "outlinewidth": 0,
              "ticks": ""
             }
            },
            "type": "scatterpolar"
           }
          ],
          "scatterpolargl": [
           {
            "marker": {
             "colorbar": {
              "outlinewidth": 0,
              "ticks": ""
             }
            },
            "type": "scatterpolargl"
           }
          ],
          "scatterternary": [
           {
            "marker": {
             "colorbar": {
              "outlinewidth": 0,
              "ticks": ""
             }
            },
            "type": "scatterternary"
           }
          ],
          "surface": [
           {
            "colorbar": {
             "outlinewidth": 0,
             "ticks": ""
            },
            "colorscale": [
             [
              0,
              "#0d0887"
             ],
             [
              0.1111111111111111,
              "#46039f"
             ],
             [
              0.2222222222222222,
              "#7201a8"
             ],
             [
              0.3333333333333333,
              "#9c179e"
             ],
             [
              0.4444444444444444,
              "#bd3786"
             ],
             [
              0.5555555555555556,
              "#d8576b"
             ],
             [
              0.6666666666666666,
              "#ed7953"
             ],
             [
              0.7777777777777778,
              "#fb9f3a"
             ],
             [
              0.8888888888888888,
              "#fdca26"
             ],
             [
              1,
              "#f0f921"
             ]
            ],
            "type": "surface"
           }
          ],
          "table": [
           {
            "cells": {
             "fill": {
              "color": "#506784"
             },
             "line": {
              "color": "rgb(17,17,17)"
             }
            },
            "header": {
             "fill": {
              "color": "#2a3f5f"
             },
             "line": {
              "color": "rgb(17,17,17)"
             }
            },
            "type": "table"
           }
          ]
         },
         "layout": {
          "annotationdefaults": {
           "arrowcolor": "#f2f5fa",
           "arrowhead": 0,
           "arrowwidth": 1
          },
          "autotypenumbers": "strict",
          "coloraxis": {
           "colorbar": {
            "outlinewidth": 0,
            "ticks": ""
           }
          },
          "colorscale": {
           "diverging": [
            [
             0,
             "#8e0152"
            ],
            [
             0.1,
             "#c51b7d"
            ],
            [
             0.2,
             "#de77ae"
            ],
            [
             0.3,
             "#f1b6da"
            ],
            [
             0.4,
             "#fde0ef"
            ],
            [
             0.5,
             "#f7f7f7"
            ],
            [
             0.6,
             "#e6f5d0"
            ],
            [
             0.7,
             "#b8e186"
            ],
            [
             0.8,
             "#7fbc41"
            ],
            [
             0.9,
             "#4d9221"
            ],
            [
             1,
             "#276419"
            ]
           ],
           "sequential": [
            [
             0,
             "#0d0887"
            ],
            [
             0.1111111111111111,
             "#46039f"
            ],
            [
             0.2222222222222222,
             "#7201a8"
            ],
            [
             0.3333333333333333,
             "#9c179e"
            ],
            [
             0.4444444444444444,
             "#bd3786"
            ],
            [
             0.5555555555555556,
             "#d8576b"
            ],
            [
             0.6666666666666666,
             "#ed7953"
            ],
            [
             0.7777777777777778,
             "#fb9f3a"
            ],
            [
             0.8888888888888888,
             "#fdca26"
            ],
            [
             1,
             "#f0f921"
            ]
           ],
           "sequentialminus": [
            [
             0,
             "#0d0887"
            ],
            [
             0.1111111111111111,
             "#46039f"
            ],
            [
             0.2222222222222222,
             "#7201a8"
            ],
            [
             0.3333333333333333,
             "#9c179e"
            ],
            [
             0.4444444444444444,
             "#bd3786"
            ],
            [
             0.5555555555555556,
             "#d8576b"
            ],
            [
             0.6666666666666666,
             "#ed7953"
            ],
            [
             0.7777777777777778,
             "#fb9f3a"
            ],
            [
             0.8888888888888888,
             "#fdca26"
            ],
            [
             1,
             "#f0f921"
            ]
           ]
          },
          "colorway": [
           "#636efa",
           "#EF553B",
           "#00cc96",
           "#ab63fa",
           "#FFA15A",
           "#19d3f3",
           "#FF6692",
           "#B6E880",
           "#FF97FF",
           "#FECB52"
          ],
          "font": {
           "color": "#f2f5fa"
          },
          "geo": {
           "bgcolor": "rgb(17,17,17)",
           "lakecolor": "rgb(17,17,17)",
           "landcolor": "rgb(17,17,17)",
           "showlakes": true,
           "showland": true,
           "subunitcolor": "#506784"
          },
          "hoverlabel": {
           "align": "left"
          },
          "hovermode": "closest",
          "mapbox": {
           "style": "dark"
          },
          "paper_bgcolor": "rgb(17,17,17)",
          "plot_bgcolor": "rgb(17,17,17)",
          "polar": {
           "angularaxis": {
            "gridcolor": "#506784",
            "linecolor": "#506784",
            "ticks": ""
           },
           "bgcolor": "rgb(17,17,17)",
           "radialaxis": {
            "gridcolor": "#506784",
            "linecolor": "#506784",
            "ticks": ""
           }
          },
          "scene": {
           "xaxis": {
            "backgroundcolor": "rgb(17,17,17)",
            "gridcolor": "#506784",
            "gridwidth": 2,
            "linecolor": "#506784",
            "showbackground": true,
            "ticks": "",
            "zerolinecolor": "#C8D4E3"
           },
           "yaxis": {
            "backgroundcolor": "rgb(17,17,17)",
            "gridcolor": "#506784",
            "gridwidth": 2,
            "linecolor": "#506784",
            "showbackground": true,
            "ticks": "",
            "zerolinecolor": "#C8D4E3"
           },
           "zaxis": {
            "backgroundcolor": "rgb(17,17,17)",
            "gridcolor": "#506784",
            "gridwidth": 2,
            "linecolor": "#506784",
            "showbackground": true,
            "ticks": "",
            "zerolinecolor": "#C8D4E3"
           }
          },
          "shapedefaults": {
           "line": {
            "color": "#f2f5fa"
           }
          },
          "sliderdefaults": {
           "bgcolor": "#C8D4E3",
           "bordercolor": "rgb(17,17,17)",
           "borderwidth": 1,
           "tickwidth": 0
          },
          "ternary": {
           "aaxis": {
            "gridcolor": "#506784",
            "linecolor": "#506784",
            "ticks": ""
           },
           "baxis": {
            "gridcolor": "#506784",
            "linecolor": "#506784",
            "ticks": ""
           },
           "bgcolor": "rgb(17,17,17)",
           "caxis": {
            "gridcolor": "#506784",
            "linecolor": "#506784",
            "ticks": ""
           }
          },
          "title": {
           "x": 0.05
          },
          "updatemenudefaults": {
           "bgcolor": "#506784",
           "borderwidth": 0
          },
          "xaxis": {
           "automargin": true,
           "gridcolor": "#283442",
           "linecolor": "#506784",
           "ticks": "",
           "title": {
            "standoff": 15
           },
           "zerolinecolor": "#283442",
           "zerolinewidth": 2
          },
          "yaxis": {
           "automargin": true,
           "gridcolor": "#283442",
           "linecolor": "#506784",
           "ticks": "",
           "title": {
            "standoff": 15
           },
           "zerolinecolor": "#283442",
           "zerolinewidth": 2
          }
         }
        },
        "title": {
         "text": "Max Normalized Score per game"
        }
       }
      }
     },
     "metadata": {},
     "output_type": "display_data"
    }
   ],
   "source": [
    "# Using plotly build radar chart for each binary feature: \"Stochastic\", \"Dialog\", \"Darkness\", \"Nonstandard Action\", \"Inventory\"\n",
    "import plotly.express as px\n",
    "import plotly.graph_objects as go\n",
    "\n",
    "# Sort runs_df theta according to gpt-4o best max normalized score\n",
    "runs_df = runs_df.sort_values(by=[\"model\", \"Max Normalized Score\"], ascending=True)\n",
    "\n",
    "fig = px.line_polar(runs_df,\n",
    "                    r=\"Max Normalized Score\",\n",
    "                    theta=\"game\",\n",
    "                    line_group=\"model\",\n",
    "                    color=\"model\",\n",
    "                    line_close=True, template=\"plotly_dark\", title=\"Max Normalized Score per game\")\n",
    "fig.update_layout(polar=dict(radialaxis=dict(range=[0, 100])))\n",
    "\n",
    "fig.show()"
   ]
  },
  {
   "cell_type": "code",
   "execution_count": 14,
   "metadata": {},
   "outputs": [
    {
     "data": {
      "application/vnd.plotly.v1+json": {
       "config": {
        "plotlyServerURL": "https://plot.ly"
       },
       "data": [
        {
         "alignmentgroup": "True",
         "hovertemplate": "agent=LLMAgent_gpt-4o_s20241001_c100_t0.0_convTrue<br>final/Normalized Score=%{x}<br>game=%{y}<extra></extra>",
         "legendgroup": "LLMAgent_gpt-4o_s20241001_c100_t0.0_convTrue",
         "marker": {
          "color": "#636efa",
          "pattern": {
           "shape": ""
          }
         },
         "name": "LLMAgent_gpt-4o_s20241001_c100_t0.0_convTrue",
         "offsetgroup": "LLMAgent_gpt-4o_s20241001_c100_t0.0_convTrue",
         "orientation": "h",
         "showlegend": true,
         "textposition": "auto",
         "type": "bar",
         "x": [
          0,
          0,
          0,
          0.003636363636363637,
          0.016,
          0.02,
          0.025,
          0.04,
          0.041666666666666664,
          0.05,
          0.0625,
          0.075,
          0.15,
          0,
          0,
          0,
          0,
          0,
          0,
          0,
          0,
          0,
          0,
          0,
          0,
          0,
          0,
          0,
          0.013333333333333334,
          0.04,
          0.056,
          0.06,
          0.10285714285714286,
          0.14,
          0.19607843137254904,
          0.19666666666666663,
          0.2857142857142857,
          0.55,
          0,
          0,
          0,
          0,
          0,
          0,
          0,
          0,
          0,
          0,
          0,
          0,
          0,
          0.0125,
          0.1,
          0.2,
          0.2857142857142857,
          0.8333333333333334
         ],
         "xaxis": "x",
         "y": [
          "Anchor",
          "Ballyhoo",
          "Tryst205",
          "Curses",
          "Spirit",
          "Sherlock",
          "Hhgg",
          "Cutthroat",
          "Spellbrkr",
          "Enchanter",
          "Sorcerer",
          "Planetfall",
          "Trinity",
          "Gold",
          "Hollywood",
          "Huntdark",
          "Jewel",
          "Karn",
          "Lostpig",
          "Lurking",
          "Night",
          "Partyfoul",
          "Seastalker",
          "Theatre",
          "Weapon",
          "Yomomma",
          "Zenon",
          "Zork2",
          "Ludicorp",
          "Plundered",
          "Murdac",
          "Wishbringer",
          "Advent",
          "Zork1",
          "Balances",
          "Deephome",
          "Zork3",
          "Enter",
          "905",
          "Acorncourt",
          "Adventureland",
          "Afflicted",
          "Awaken",
          "Dragon",
          "Inhumane",
          "Library",
          "Loose",
          "Moonlit",
          "Reverb",
          "Temple",
          "Ztuu",
          "Infidel",
          "Omniquest",
          "Snacktime",
          "Pentari",
          "Detective"
         ],
         "yaxis": "y"
        },
        {
         "alignmentgroup": "True",
         "hovertemplate": "agent=LLMAgent_llama-32-3b-instruct_s20241001_c100_t0.0_convTrue<br>final/Normalized Score=%{x}<br>game=%{y}<extra></extra>",
         "legendgroup": "LLMAgent_llama-32-3b-instruct_s20241001_c100_t0.0_convTrue",
         "marker": {
          "color": "#EF553B",
          "pattern": {
           "shape": ""
          }
         },
         "name": "LLMAgent_llama-32-3b-instruct_s20241001_c100_t0.0_convTrue",
         "offsetgroup": "LLMAgent_llama-32-3b-instruct_s20241001_c100_t0.0_convTrue",
         "orientation": "h",
         "showlegend": true,
         "textposition": "auto",
         "type": "bar",
         "x": [
          0,
          0,
          0,
          0,
          0,
          0,
          0,
          0,
          0.0125,
          0.0375,
          0.04,
          0.04,
          0.041666666666666664,
          0,
          0,
          0,
          0,
          0,
          0,
          0,
          0,
          0,
          0,
          0,
          0,
          0,
          0,
          0,
          0,
          0,
          0,
          0,
          0.0033333333333333335,
          0.006666666666666667,
          0.06,
          0.06,
          0.10285714285714286,
          0.14285714285714285,
          0,
          0,
          0,
          0,
          0,
          0,
          0,
          0,
          0,
          0,
          0,
          0,
          0,
          0.08333333333333333,
          0.1,
          null,
          null,
          null
         ],
         "xaxis": "x",
         "y": [
          "Anchor",
          "Ballyhoo",
          "Curses",
          "Enchanter",
          "Hhgg",
          "Sherlock",
          "Spirit",
          "Tryst205",
          "Sorcerer",
          "Planetfall",
          "Cutthroat",
          "Trinity",
          "Spellbrkr",
          "Balances",
          "Enter",
          "Gold",
          "Hollywood",
          "Huntdark",
          "Jewel",
          "Karn",
          "Lurking",
          "Murdac",
          "Night",
          "Partyfoul",
          "Plundered",
          "Theatre",
          "Weapon",
          "Yomomma",
          "Zenon",
          "Zork1",
          "Zork2",
          "Zork3",
          "Deephome",
          "Ludicorp",
          "Seastalker",
          "Wishbringer",
          "Advent",
          "Lostpig",
          "905",
          "Acorncourt",
          "Adventureland",
          "Afflicted",
          "Awaken",
          "Dragon",
          "Infidel",
          "Inhumane",
          "Library",
          "Loose",
          "Pentari",
          "Reverb",
          "Snacktime",
          "Detective",
          "Omniquest",
          "Moonlit",
          "Temple",
          "Ztuu"
         ],
         "yaxis": "y"
        },
        {
         "alignmentgroup": "True",
         "hovertemplate": "agent=RandomAgent_s20241001<br>final/Normalized Score=%{x}<br>game=%{y}<extra></extra>",
         "legendgroup": "RandomAgent_s20241001",
         "marker": {
          "color": "#00cc96",
          "pattern": {
           "shape": ""
          }
         },
         "name": "RandomAgent_s20241001",
         "offsetgroup": "RandomAgent_s20241001",
         "orientation": "h",
         "showlegend": true,
         "textposition": "auto",
         "type": "bar",
         "x": [
          0,
          0,
          0,
          0,
          0,
          0.0125,
          0.04,
          0.05,
          0.06666666666666667,
          null,
          null,
          0,
          0,
          0,
          0,
          0,
          0,
          0,
          0,
          0,
          0,
          0,
          0.01,
          0.02666666666666667,
          0.03,
          0.04,
          0.04,
          0.08,
          0.10285714285714286,
          0.19607843137254904,
          0.2,
          0.2857142857142857,
          null,
          null,
          null,
          null,
          0,
          0,
          0,
          0,
          0,
          0,
          0,
          0,
          0,
          0,
          0.05,
          0.07142857142857142,
          0.1,
          0.19444444444444445,
          0.2,
          0.22857142857142856,
          0.36666666666666664,
          null
         ],
         "xaxis": "x",
         "y": [
          "Anchor",
          "Ballyhoo",
          "Curses",
          "Hhgg",
          "Spirit",
          "Sorcerer",
          "Cutthroat",
          "Enchanter",
          "Spellbrkr",
          "Planetfall",
          "Tryst205",
          "Hollywood",
          "Huntdark",
          "Jewel",
          "Karn",
          "Lurking",
          "Murdac",
          "Partyfoul",
          "Weapon",
          "Zork1",
          "Zork2",
          "Zork3",
          "Wishbringer",
          "Deephome",
          "Gold",
          "Plundered",
          "Seastalker",
          "Ludicorp",
          "Advent",
          "Balances",
          "Enter",
          "Lostpig",
          "Night",
          "Theatre",
          "Yomomma",
          "Zenon",
          "905",
          "Acorncourt",
          "Adventureland",
          "Afflicted",
          "Awaken",
          "Dragon",
          "Infidel",
          "Inhumane",
          "Moonlit",
          "Reverb",
          "Ztuu",
          "Pentari",
          "Omniquest",
          "Detective",
          "Snacktime",
          "Temple",
          "Library",
          "Loose"
         ],
         "yaxis": "y"
        }
       ],
       "layout": {
        "barmode": "group",
        "height": 1000,
        "legend": {
         "title": {
          "text": "agent"
         },
         "tracegroupgap": 0
        },
        "template": {
         "data": {
          "bar": [
           {
            "error_x": {
             "color": "#2a3f5f"
            },
            "error_y": {
             "color": "#2a3f5f"
            },
            "marker": {
             "line": {
              "color": "#E5ECF6",
              "width": 0.5
             },
             "pattern": {
              "fillmode": "overlay",
              "size": 10,
              "solidity": 0.2
             }
            },
            "type": "bar"
           }
          ],
          "barpolar": [
           {
            "marker": {
             "line": {
              "color": "#E5ECF6",
              "width": 0.5
             },
             "pattern": {
              "fillmode": "overlay",
              "size": 10,
              "solidity": 0.2
             }
            },
            "type": "barpolar"
           }
          ],
          "carpet": [
           {
            "aaxis": {
             "endlinecolor": "#2a3f5f",
             "gridcolor": "white",
             "linecolor": "white",
             "minorgridcolor": "white",
             "startlinecolor": "#2a3f5f"
            },
            "baxis": {
             "endlinecolor": "#2a3f5f",
             "gridcolor": "white",
             "linecolor": "white",
             "minorgridcolor": "white",
             "startlinecolor": "#2a3f5f"
            },
            "type": "carpet"
           }
          ],
          "choropleth": [
           {
            "colorbar": {
             "outlinewidth": 0,
             "ticks": ""
            },
            "type": "choropleth"
           }
          ],
          "contour": [
           {
            "colorbar": {
             "outlinewidth": 0,
             "ticks": ""
            },
            "colorscale": [
             [
              0,
              "#0d0887"
             ],
             [
              0.1111111111111111,
              "#46039f"
             ],
             [
              0.2222222222222222,
              "#7201a8"
             ],
             [
              0.3333333333333333,
              "#9c179e"
             ],
             [
              0.4444444444444444,
              "#bd3786"
             ],
             [
              0.5555555555555556,
              "#d8576b"
             ],
             [
              0.6666666666666666,
              "#ed7953"
             ],
             [
              0.7777777777777778,
              "#fb9f3a"
             ],
             [
              0.8888888888888888,
              "#fdca26"
             ],
             [
              1,
              "#f0f921"
             ]
            ],
            "type": "contour"
           }
          ],
          "contourcarpet": [
           {
            "colorbar": {
             "outlinewidth": 0,
             "ticks": ""
            },
            "type": "contourcarpet"
           }
          ],
          "heatmap": [
           {
            "colorbar": {
             "outlinewidth": 0,
             "ticks": ""
            },
            "colorscale": [
             [
              0,
              "#0d0887"
             ],
             [
              0.1111111111111111,
              "#46039f"
             ],
             [
              0.2222222222222222,
              "#7201a8"
             ],
             [
              0.3333333333333333,
              "#9c179e"
             ],
             [
              0.4444444444444444,
              "#bd3786"
             ],
             [
              0.5555555555555556,
              "#d8576b"
             ],
             [
              0.6666666666666666,
              "#ed7953"
             ],
             [
              0.7777777777777778,
              "#fb9f3a"
             ],
             [
              0.8888888888888888,
              "#fdca26"
             ],
             [
              1,
              "#f0f921"
             ]
            ],
            "type": "heatmap"
           }
          ],
          "heatmapgl": [
           {
            "colorbar": {
             "outlinewidth": 0,
             "ticks": ""
            },
            "colorscale": [
             [
              0,
              "#0d0887"
             ],
             [
              0.1111111111111111,
              "#46039f"
             ],
             [
              0.2222222222222222,
              "#7201a8"
             ],
             [
              0.3333333333333333,
              "#9c179e"
             ],
             [
              0.4444444444444444,
              "#bd3786"
             ],
             [
              0.5555555555555556,
              "#d8576b"
             ],
             [
              0.6666666666666666,
              "#ed7953"
             ],
             [
              0.7777777777777778,
              "#fb9f3a"
             ],
             [
              0.8888888888888888,
              "#fdca26"
             ],
             [
              1,
              "#f0f921"
             ]
            ],
            "type": "heatmapgl"
           }
          ],
          "histogram": [
           {
            "marker": {
             "pattern": {
              "fillmode": "overlay",
              "size": 10,
              "solidity": 0.2
             }
            },
            "type": "histogram"
           }
          ],
          "histogram2d": [
           {
            "colorbar": {
             "outlinewidth": 0,
             "ticks": ""
            },
            "colorscale": [
             [
              0,
              "#0d0887"
             ],
             [
              0.1111111111111111,
              "#46039f"
             ],
             [
              0.2222222222222222,
              "#7201a8"
             ],
             [
              0.3333333333333333,
              "#9c179e"
             ],
             [
              0.4444444444444444,
              "#bd3786"
             ],
             [
              0.5555555555555556,
              "#d8576b"
             ],
             [
              0.6666666666666666,
              "#ed7953"
             ],
             [
              0.7777777777777778,
              "#fb9f3a"
             ],
             [
              0.8888888888888888,
              "#fdca26"
             ],
             [
              1,
              "#f0f921"
             ]
            ],
            "type": "histogram2d"
           }
          ],
          "histogram2dcontour": [
           {
            "colorbar": {
             "outlinewidth": 0,
             "ticks": ""
            },
            "colorscale": [
             [
              0,
              "#0d0887"
             ],
             [
              0.1111111111111111,
              "#46039f"
             ],
             [
              0.2222222222222222,
              "#7201a8"
             ],
             [
              0.3333333333333333,
              "#9c179e"
             ],
             [
              0.4444444444444444,
              "#bd3786"
             ],
             [
              0.5555555555555556,
              "#d8576b"
             ],
             [
              0.6666666666666666,
              "#ed7953"
             ],
             [
              0.7777777777777778,
              "#fb9f3a"
             ],
             [
              0.8888888888888888,
              "#fdca26"
             ],
             [
              1,
              "#f0f921"
             ]
            ],
            "type": "histogram2dcontour"
           }
          ],
          "mesh3d": [
           {
            "colorbar": {
             "outlinewidth": 0,
             "ticks": ""
            },
            "type": "mesh3d"
           }
          ],
          "parcoords": [
           {
            "line": {
             "colorbar": {
              "outlinewidth": 0,
              "ticks": ""
             }
            },
            "type": "parcoords"
           }
          ],
          "pie": [
           {
            "automargin": true,
            "type": "pie"
           }
          ],
          "scatter": [
           {
            "fillpattern": {
             "fillmode": "overlay",
             "size": 10,
             "solidity": 0.2
            },
            "type": "scatter"
           }
          ],
          "scatter3d": [
           {
            "line": {
             "colorbar": {
              "outlinewidth": 0,
              "ticks": ""
             }
            },
            "marker": {
             "colorbar": {
              "outlinewidth": 0,
              "ticks": ""
             }
            },
            "type": "scatter3d"
           }
          ],
          "scattercarpet": [
           {
            "marker": {
             "colorbar": {
              "outlinewidth": 0,
              "ticks": ""
             }
            },
            "type": "scattercarpet"
           }
          ],
          "scattergeo": [
           {
            "marker": {
             "colorbar": {
              "outlinewidth": 0,
              "ticks": ""
             }
            },
            "type": "scattergeo"
           }
          ],
          "scattergl": [
           {
            "marker": {
             "colorbar": {
              "outlinewidth": 0,
              "ticks": ""
             }
            },
            "type": "scattergl"
           }
          ],
          "scattermapbox": [
           {
            "marker": {
             "colorbar": {
              "outlinewidth": 0,
              "ticks": ""
             }
            },
            "type": "scattermapbox"
           }
          ],
          "scatterpolar": [
           {
            "marker": {
             "colorbar": {
              "outlinewidth": 0,
              "ticks": ""
             }
            },
            "type": "scatterpolar"
           }
          ],
          "scatterpolargl": [
           {
            "marker": {
             "colorbar": {
              "outlinewidth": 0,
              "ticks": ""
             }
            },
            "type": "scatterpolargl"
           }
          ],
          "scatterternary": [
           {
            "marker": {
             "colorbar": {
              "outlinewidth": 0,
              "ticks": ""
             }
            },
            "type": "scatterternary"
           }
          ],
          "surface": [
           {
            "colorbar": {
             "outlinewidth": 0,
             "ticks": ""
            },
            "colorscale": [
             [
              0,
              "#0d0887"
             ],
             [
              0.1111111111111111,
              "#46039f"
             ],
             [
              0.2222222222222222,
              "#7201a8"
             ],
             [
              0.3333333333333333,
              "#9c179e"
             ],
             [
              0.4444444444444444,
              "#bd3786"
             ],
             [
              0.5555555555555556,
              "#d8576b"
             ],
             [
              0.6666666666666666,
              "#ed7953"
             ],
             [
              0.7777777777777778,
              "#fb9f3a"
             ],
             [
              0.8888888888888888,
              "#fdca26"
             ],
             [
              1,
              "#f0f921"
             ]
            ],
            "type": "surface"
           }
          ],
          "table": [
           {
            "cells": {
             "fill": {
              "color": "#EBF0F8"
             },
             "line": {
              "color": "white"
             }
            },
            "header": {
             "fill": {
              "color": "#C8D4E3"
             },
             "line": {
              "color": "white"
             }
            },
            "type": "table"
           }
          ]
         },
         "layout": {
          "annotationdefaults": {
           "arrowcolor": "#2a3f5f",
           "arrowhead": 0,
           "arrowwidth": 1
          },
          "autotypenumbers": "strict",
          "coloraxis": {
           "colorbar": {
            "outlinewidth": 0,
            "ticks": ""
           }
          },
          "colorscale": {
           "diverging": [
            [
             0,
             "#8e0152"
            ],
            [
             0.1,
             "#c51b7d"
            ],
            [
             0.2,
             "#de77ae"
            ],
            [
             0.3,
             "#f1b6da"
            ],
            [
             0.4,
             "#fde0ef"
            ],
            [
             0.5,
             "#f7f7f7"
            ],
            [
             0.6,
             "#e6f5d0"
            ],
            [
             0.7,
             "#b8e186"
            ],
            [
             0.8,
             "#7fbc41"
            ],
            [
             0.9,
             "#4d9221"
            ],
            [
             1,
             "#276419"
            ]
           ],
           "sequential": [
            [
             0,
             "#0d0887"
            ],
            [
             0.1111111111111111,
             "#46039f"
            ],
            [
             0.2222222222222222,
             "#7201a8"
            ],
            [
             0.3333333333333333,
             "#9c179e"
            ],
            [
             0.4444444444444444,
             "#bd3786"
            ],
            [
             0.5555555555555556,
             "#d8576b"
            ],
            [
             0.6666666666666666,
             "#ed7953"
            ],
            [
             0.7777777777777778,
             "#fb9f3a"
            ],
            [
             0.8888888888888888,
             "#fdca26"
            ],
            [
             1,
             "#f0f921"
            ]
           ],
           "sequentialminus": [
            [
             0,
             "#0d0887"
            ],
            [
             0.1111111111111111,
             "#46039f"
            ],
            [
             0.2222222222222222,
             "#7201a8"
            ],
            [
             0.3333333333333333,
             "#9c179e"
            ],
            [
             0.4444444444444444,
             "#bd3786"
            ],
            [
             0.5555555555555556,
             "#d8576b"
            ],
            [
             0.6666666666666666,
             "#ed7953"
            ],
            [
             0.7777777777777778,
             "#fb9f3a"
            ],
            [
             0.8888888888888888,
             "#fdca26"
            ],
            [
             1,
             "#f0f921"
            ]
           ]
          },
          "colorway": [
           "#636efa",
           "#EF553B",
           "#00cc96",
           "#ab63fa",
           "#FFA15A",
           "#19d3f3",
           "#FF6692",
           "#B6E880",
           "#FF97FF",
           "#FECB52"
          ],
          "font": {
           "color": "#2a3f5f"
          },
          "geo": {
           "bgcolor": "white",
           "lakecolor": "white",
           "landcolor": "#E5ECF6",
           "showlakes": true,
           "showland": true,
           "subunitcolor": "white"
          },
          "hoverlabel": {
           "align": "left"
          },
          "hovermode": "closest",
          "mapbox": {
           "style": "light"
          },
          "paper_bgcolor": "white",
          "plot_bgcolor": "#E5ECF6",
          "polar": {
           "angularaxis": {
            "gridcolor": "white",
            "linecolor": "white",
            "ticks": ""
           },
           "bgcolor": "#E5ECF6",
           "radialaxis": {
            "gridcolor": "white",
            "linecolor": "white",
            "ticks": ""
           }
          },
          "scene": {
           "xaxis": {
            "backgroundcolor": "#E5ECF6",
            "gridcolor": "white",
            "gridwidth": 2,
            "linecolor": "white",
            "showbackground": true,
            "ticks": "",
            "zerolinecolor": "white"
           },
           "yaxis": {
            "backgroundcolor": "#E5ECF6",
            "gridcolor": "white",
            "gridwidth": 2,
            "linecolor": "white",
            "showbackground": true,
            "ticks": "",
            "zerolinecolor": "white"
           },
           "zaxis": {
            "backgroundcolor": "#E5ECF6",
            "gridcolor": "white",
            "gridwidth": 2,
            "linecolor": "white",
            "showbackground": true,
            "ticks": "",
            "zerolinecolor": "white"
           }
          },
          "shapedefaults": {
           "line": {
            "color": "#2a3f5f"
           }
          },
          "ternary": {
           "aaxis": {
            "gridcolor": "white",
            "linecolor": "white",
            "ticks": ""
           },
           "baxis": {
            "gridcolor": "white",
            "linecolor": "white",
            "ticks": ""
           },
           "bgcolor": "#E5ECF6",
           "caxis": {
            "gridcolor": "white",
            "linecolor": "white",
            "ticks": ""
           }
          },
          "title": {
           "x": 0.05
          },
          "xaxis": {
           "automargin": true,
           "gridcolor": "white",
           "linecolor": "white",
           "ticks": "",
           "title": {
            "standoff": 15
           },
           "zerolinecolor": "white",
           "zerolinewidth": 2
          },
          "yaxis": {
           "automargin": true,
           "gridcolor": "white",
           "linecolor": "white",
           "ticks": "",
           "title": {
            "standoff": 15
           },
           "zerolinecolor": "white",
           "zerolinewidth": 2
          }
         }
        },
        "title": {
         "text": "Normalized Score per game"
        },
        "xaxis": {
         "anchor": "y",
         "domain": [
          0,
          1
         ],
         "range": [
          0,
          1
         ],
         "title": {
          "text": "final/Normalized Score"
         }
        },
        "yaxis": {
         "anchor": "x",
         "domain": [
          0,
          1
         ],
         "tickmode": "array",
         "ticktext": [
          "<span style='color:red'>Anchor</span>",
          "<span style='color:red'>Ballyhoo</span>",
          "<span style='color:red'>Tryst205</span>",
          "<span style='color:red'>Curses</span>",
          "<span style='color:red'>Spirit</span>",
          "<span style='color:red'>Sherlock</span>",
          "<span style='color:red'>Hhgg</span>",
          "<span style='color:red'>Cutthroat</span>",
          "<span style='color:red'>Spellbrkr</span>",
          "<span style='color:red'>Enchanter</span>",
          "<span style='color:red'>Sorcerer</span>",
          "<span style='color:red'>Planetfall</span>",
          "<span style='color:red'>Trinity</span>",
          "<span style='color:red'>Anchor</span>",
          "<span style='color:red'>Ballyhoo</span>",
          "<span style='color:red'>Curses</span>",
          "<span style='color:red'>Enchanter</span>",
          "<span style='color:red'>Hhgg</span>",
          "<span style='color:red'>Sherlock</span>",
          "<span style='color:red'>Spirit</span>",
          "<span style='color:red'>Tryst205</span>",
          "<span style='color:red'>Sorcerer</span>",
          "<span style='color:red'>Planetfall</span>",
          "<span style='color:red'>Cutthroat</span>",
          "<span style='color:red'>Trinity</span>",
          "<span style='color:red'>Spellbrkr</span>",
          "<span style='color:red'>Anchor</span>",
          "<span style='color:red'>Ballyhoo</span>",
          "<span style='color:red'>Curses</span>",
          "<span style='color:red'>Hhgg</span>",
          "<span style='color:red'>Spirit</span>",
          "<span style='color:red'>Sorcerer</span>",
          "<span style='color:red'>Cutthroat</span>",
          "<span style='color:red'>Enchanter</span>",
          "<span style='color:red'>Spellbrkr</span>",
          "<span style='color:red'>Planetfall</span>",
          "<span style='color:red'>Tryst205</span>",
          "<span style='color:orange'>Gold</span>",
          "<span style='color:orange'>Hollywood</span>",
          "<span style='color:orange'>Huntdark</span>",
          "<span style='color:orange'>Jewel</span>",
          "<span style='color:orange'>Karn</span>",
          "<span style='color:orange'>Lostpig</span>",
          "<span style='color:orange'>Lurking</span>",
          "<span style='color:orange'>Night</span>",
          "<span style='color:orange'>Partyfoul</span>",
          "<span style='color:orange'>Seastalker</span>",
          "<span style='color:orange'>Theatre</span>",
          "<span style='color:orange'>Weapon</span>",
          "<span style='color:orange'>Yomomma</span>",
          "<span style='color:orange'>Zenon</span>",
          "<span style='color:orange'>Zork2</span>",
          "<span style='color:orange'>Ludicorp</span>",
          "<span style='color:orange'>Plundered</span>",
          "<span style='color:orange'>Murdac</span>",
          "<span style='color:orange'>Wishbringer</span>",
          "<span style='color:orange'>Advent</span>",
          "<span style='color:orange'>Zork1</span>",
          "<span style='color:orange'>Balances</span>",
          "<span style='color:orange'>Deephome</span>",
          "<span style='color:orange'>Zork3</span>",
          "<span style='color:orange'>Enter</span>",
          "<span style='color:orange'>Balances</span>",
          "<span style='color:orange'>Enter</span>",
          "<span style='color:orange'>Gold</span>",
          "<span style='color:orange'>Hollywood</span>",
          "<span style='color:orange'>Huntdark</span>",
          "<span style='color:orange'>Jewel</span>",
          "<span style='color:orange'>Karn</span>",
          "<span style='color:orange'>Lurking</span>",
          "<span style='color:orange'>Murdac</span>",
          "<span style='color:orange'>Night</span>",
          "<span style='color:orange'>Partyfoul</span>",
          "<span style='color:orange'>Plundered</span>",
          "<span style='color:orange'>Theatre</span>",
          "<span style='color:orange'>Weapon</span>",
          "<span style='color:orange'>Yomomma</span>",
          "<span style='color:orange'>Zenon</span>",
          "<span style='color:orange'>Zork1</span>",
          "<span style='color:orange'>Zork2</span>",
          "<span style='color:orange'>Zork3</span>",
          "<span style='color:orange'>Deephome</span>",
          "<span style='color:orange'>Ludicorp</span>",
          "<span style='color:orange'>Seastalker</span>",
          "<span style='color:orange'>Wishbringer</span>",
          "<span style='color:orange'>Advent</span>",
          "<span style='color:orange'>Lostpig</span>",
          "<span style='color:orange'>Hollywood</span>",
          "<span style='color:orange'>Huntdark</span>",
          "<span style='color:orange'>Jewel</span>",
          "<span style='color:orange'>Karn</span>",
          "<span style='color:orange'>Lurking</span>",
          "<span style='color:orange'>Murdac</span>",
          "<span style='color:orange'>Partyfoul</span>",
          "<span style='color:orange'>Weapon</span>",
          "<span style='color:orange'>Zork1</span>",
          "<span style='color:orange'>Zork2</span>",
          "<span style='color:orange'>Zork3</span>",
          "<span style='color:orange'>Wishbringer</span>",
          "<span style='color:orange'>Deephome</span>",
          "<span style='color:orange'>Gold</span>",
          "<span style='color:orange'>Plundered</span>",
          "<span style='color:orange'>Seastalker</span>",
          "<span style='color:orange'>Ludicorp</span>",
          "<span style='color:orange'>Advent</span>",
          "<span style='color:orange'>Balances</span>",
          "<span style='color:orange'>Enter</span>",
          "<span style='color:orange'>Lostpig</span>",
          "<span style='color:orange'>Night</span>",
          "<span style='color:orange'>Theatre</span>",
          "<span style='color:orange'>Yomomma</span>",
          "<span style='color:orange'>Zenon</span>",
          "<span style='color:green'>905</span>",
          "<span style='color:green'>Acorncourt</span>",
          "<span style='color:green'>Adventureland</span>",
          "<span style='color:green'>Afflicted</span>",
          "<span style='color:green'>Awaken</span>",
          "<span style='color:green'>Dragon</span>",
          "<span style='color:green'>Inhumane</span>",
          "<span style='color:green'>Library</span>",
          "<span style='color:green'>Loose</span>",
          "<span style='color:green'>Moonlit</span>",
          "<span style='color:green'>Reverb</span>",
          "<span style='color:green'>Temple</span>",
          "<span style='color:green'>Ztuu</span>",
          "<span style='color:green'>Infidel</span>",
          "<span style='color:green'>Omniquest</span>",
          "<span style='color:green'>Snacktime</span>",
          "<span style='color:green'>Pentari</span>",
          "<span style='color:green'>Detective</span>",
          "<span style='color:green'>905</span>",
          "<span style='color:green'>Acorncourt</span>",
          "<span style='color:green'>Adventureland</span>",
          "<span style='color:green'>Afflicted</span>",
          "<span style='color:green'>Awaken</span>",
          "<span style='color:green'>Dragon</span>",
          "<span style='color:green'>Infidel</span>",
          "<span style='color:green'>Inhumane</span>",
          "<span style='color:green'>Library</span>",
          "<span style='color:green'>Loose</span>",
          "<span style='color:green'>Pentari</span>",
          "<span style='color:green'>Reverb</span>",
          "<span style='color:green'>Snacktime</span>",
          "<span style='color:green'>Detective</span>",
          "<span style='color:green'>Omniquest</span>",
          "<span style='color:green'>Moonlit</span>",
          "<span style='color:green'>Temple</span>",
          "<span style='color:green'>Ztuu</span>",
          "<span style='color:green'>905</span>",
          "<span style='color:green'>Acorncourt</span>",
          "<span style='color:green'>Adventureland</span>",
          "<span style='color:green'>Afflicted</span>",
          "<span style='color:green'>Awaken</span>",
          "<span style='color:green'>Dragon</span>",
          "<span style='color:green'>Infidel</span>",
          "<span style='color:green'>Inhumane</span>",
          "<span style='color:green'>Moonlit</span>",
          "<span style='color:green'>Reverb</span>",
          "<span style='color:green'>Ztuu</span>",
          "<span style='color:green'>Pentari</span>",
          "<span style='color:green'>Omniquest</span>",
          "<span style='color:green'>Detective</span>",
          "<span style='color:green'>Snacktime</span>",
          "<span style='color:green'>Temple</span>",
          "<span style='color:green'>Library</span>",
          "<span style='color:green'>Loose</span>"
         ],
         "tickvals": [
          "Anchor",
          "Ballyhoo",
          "Tryst205",
          "Curses",
          "Spirit",
          "Sherlock",
          "Hhgg",
          "Cutthroat",
          "Spellbrkr",
          "Enchanter",
          "Sorcerer",
          "Planetfall",
          "Trinity",
          "Anchor",
          "Ballyhoo",
          "Curses",
          "Enchanter",
          "Hhgg",
          "Sherlock",
          "Spirit",
          "Tryst205",
          "Sorcerer",
          "Planetfall",
          "Cutthroat",
          "Trinity",
          "Spellbrkr",
          "Anchor",
          "Ballyhoo",
          "Curses",
          "Hhgg",
          "Spirit",
          "Sorcerer",
          "Cutthroat",
          "Enchanter",
          "Spellbrkr",
          "Planetfall",
          "Tryst205",
          "Gold",
          "Hollywood",
          "Huntdark",
          "Jewel",
          "Karn",
          "Lostpig",
          "Lurking",
          "Night",
          "Partyfoul",
          "Seastalker",
          "Theatre",
          "Weapon",
          "Yomomma",
          "Zenon",
          "Zork2",
          "Ludicorp",
          "Plundered",
          "Murdac",
          "Wishbringer",
          "Advent",
          "Zork1",
          "Balances",
          "Deephome",
          "Zork3",
          "Enter",
          "Balances",
          "Enter",
          "Gold",
          "Hollywood",
          "Huntdark",
          "Jewel",
          "Karn",
          "Lurking",
          "Murdac",
          "Night",
          "Partyfoul",
          "Plundered",
          "Theatre",
          "Weapon",
          "Yomomma",
          "Zenon",
          "Zork1",
          "Zork2",
          "Zork3",
          "Deephome",
          "Ludicorp",
          "Seastalker",
          "Wishbringer",
          "Advent",
          "Lostpig",
          "Hollywood",
          "Huntdark",
          "Jewel",
          "Karn",
          "Lurking",
          "Murdac",
          "Partyfoul",
          "Weapon",
          "Zork1",
          "Zork2",
          "Zork3",
          "Wishbringer",
          "Deephome",
          "Gold",
          "Plundered",
          "Seastalker",
          "Ludicorp",
          "Advent",
          "Balances",
          "Enter",
          "Lostpig",
          "Night",
          "Theatre",
          "Yomomma",
          "Zenon",
          "905",
          "Acorncourt",
          "Adventureland",
          "Afflicted",
          "Awaken",
          "Dragon",
          "Inhumane",
          "Library",
          "Loose",
          "Moonlit",
          "Reverb",
          "Temple",
          "Ztuu",
          "Infidel",
          "Omniquest",
          "Snacktime",
          "Pentari",
          "Detective",
          "905",
          "Acorncourt",
          "Adventureland",
          "Afflicted",
          "Awaken",
          "Dragon",
          "Infidel",
          "Inhumane",
          "Library",
          "Loose",
          "Pentari",
          "Reverb",
          "Snacktime",
          "Detective",
          "Omniquest",
          "Moonlit",
          "Temple",
          "Ztuu",
          "905",
          "Acorncourt",
          "Adventureland",
          "Afflicted",
          "Awaken",
          "Dragon",
          "Infidel",
          "Inhumane",
          "Moonlit",
          "Reverb",
          "Ztuu",
          "Pentari",
          "Omniquest",
          "Detective",
          "Snacktime",
          "Temple",
          "Library",
          "Loose"
         ],
         "title": {
          "text": "game"
         }
        }
       }
      }
     },
     "metadata": {},
     "output_type": "display_data"
    }
   ],
   "source": [
    "# Create a group bar chart with the average score per game for each model\n",
    "import plotly.express as px\n",
    "import plotly.graph_objects as go\n",
    "\n",
    "df = runs_df.copy()\n",
    "\n",
    "# sort by max score for gpt-4o\n",
    "#df = df.sort_values(by=[\"model\", \"Max Normalized Score\"], ascending=True)\n",
    "# Strip JerichoEnv from game name\n",
    "df[\"game\"] = df[\"game\"].map(lambda x: x.split(\"JerichoEnv\")[1])\n",
    "\n",
    "# Filterout game lurking and hollywood\n",
    "#df = df[~df[\"game\"].isin([\"lurking\", \"hollywood\"])]\n",
    "\n",
    "# Add new column to order difficulty\n",
    "df[\"order\"] = df[\"Difficulty\"].map({\"Possible\": 2, \"Difficult\": 1, \"Extreme\": 0})\n",
    "\n",
    "df = df.sort_values(by=[\"order\", \"agent\", \"final/Normalized Score\"], ascending=True)\n",
    "\n",
    "# Add new column color for each game based on the game difficulty\n",
    "def color(game, diff):\n",
    "    if diff == \"Possible\":\n",
    "        return f\"<span style='color:green'>{game}</span>\"\n",
    "    elif diff == \"Difficult\":\n",
    "        return f\"<span style='color:orange'>{game}</span>\"\n",
    "    elif diff == \"Extreme\":\n",
    "        return f\"<span style='color:red'>{game}</span>\"\n",
    "    else:\n",
    "        raise ValueError(\"Unknown difficulty\")\n",
    "\n",
    "df[\"color\"] = df.apply(lambda x: color(x[\"game\"], x[\"Difficulty\"]), axis=1)\n",
    "\n",
    "\n",
    "fig = px.bar(df, x=\"final/Normalized Score\", y=\"game\", color=\"agent\", barmode=\"group\", title=\"Normalized Score per game\", height=1000)\n",
    "\n",
    "# Sort the y axis by game difficulty and then by max score for gpt-4o\n",
    "#fig.update_yaxes(categoryorder=\"array\", categoryarray=df.sort_values(by=[\"order\", \"agent\", \"final/Normalized Score\"], ascending=True))\n",
    "fig.update_yaxes(tickvals=df[\"game\"], tickmode=\"array\", ticktext=df[\"color\"])\n",
    "\n",
    "# Make x axis range from 0 to 1\n",
    "fig.update_xaxes(range=[0, 1])\n",
    "\n",
    "# sort game title by max score for gpt-4o\n",
    "#fig.update_yaxes(categoryorder=\"total ascending\")\n"
   ]
  },
  {
   "cell_type": "code",
   "execution_count": 292,
   "metadata": {},
   "outputs": [
    {
     "data": {
      "text/html": [
       "<div>\n",
       "<style scoped>\n",
       "    .dataframe tbody tr th:only-of-type {\n",
       "        vertical-align: middle;\n",
       "    }\n",
       "\n",
       "    .dataframe tbody tr th {\n",
       "        vertical-align: top;\n",
       "    }\n",
       "\n",
       "    .dataframe thead th {\n",
       "        text-align: right;\n",
       "    }\n",
       "</style>\n",
       "<table border=\"1\" class=\"dataframe\">\n",
       "  <thead>\n",
       "    <tr style=\"text-align: right;\">\n",
       "      <th></th>\n",
       "      <th>game</th>\n",
       "      <th>model</th>\n",
       "      <th>Max Normalized Score</th>\n",
       "      <th>Stochastic</th>\n",
       "      <th>Dialog</th>\n",
       "      <th>Darkness</th>\n",
       "      <th>Nonstandard Action</th>\n",
       "      <th>Inventory</th>\n",
       "      <th>Maze</th>\n",
       "      <th>Trivia</th>\n",
       "      <th>Self-Maintenance</th>\n",
       "      <th>Combat</th>\n",
       "      <th>Time</th>\n",
       "      <th>Mechanical Puzzle</th>\n",
       "      <th>Persistence</th>\n",
       "      <th>Difficulty</th>\n",
       "      <th>color</th>\n",
       "      <th>order</th>\n",
       "    </tr>\n",
       "  </thead>\n",
       "  <tbody>\n",
       "    <tr>\n",
       "      <th>45</th>\n",
       "      <td>hollywood</td>\n",
       "      <td>meta-llama-3-70b-instruct-4</td>\n",
       "      <td>0.0</td>\n",
       "      <td>True</td>\n",
       "      <td>False</td>\n",
       "      <td>True</td>\n",
       "      <td>False</td>\n",
       "      <td>False</td>\n",
       "      <td>True</td>\n",
       "      <td>True</td>\n",
       "      <td>False</td>\n",
       "      <td>True</td>\n",
       "      <td>False</td>\n",
       "      <td>True</td>\n",
       "      <td>False</td>\n",
       "      <td>Difficult</td>\n",
       "      <td>&lt;span style='color:orange'&gt;hollywood&lt;/span&gt;</td>\n",
       "      <td>1</td>\n",
       "    </tr>\n",
       "    <tr>\n",
       "      <th>72</th>\n",
       "      <td>hollywood</td>\n",
       "      <td>microsoft/Phi-3.5-mini-instruct</td>\n",
       "      <td>0.0</td>\n",
       "      <td>True</td>\n",
       "      <td>False</td>\n",
       "      <td>True</td>\n",
       "      <td>False</td>\n",
       "      <td>False</td>\n",
       "      <td>True</td>\n",
       "      <td>True</td>\n",
       "      <td>False</td>\n",
       "      <td>True</td>\n",
       "      <td>False</td>\n",
       "      <td>True</td>\n",
       "      <td>False</td>\n",
       "      <td>Difficult</td>\n",
       "      <td>&lt;span style='color:orange'&gt;hollywood&lt;/span&gt;</td>\n",
       "      <td>1</td>\n",
       "    </tr>\n",
       "    <tr>\n",
       "      <th>22</th>\n",
       "      <td>hollywood</td>\n",
       "      <td>phi-3-medium-128k-instruct-1</td>\n",
       "      <td>0.0</td>\n",
       "      <td>True</td>\n",
       "      <td>False</td>\n",
       "      <td>True</td>\n",
       "      <td>False</td>\n",
       "      <td>False</td>\n",
       "      <td>True</td>\n",
       "      <td>True</td>\n",
       "      <td>False</td>\n",
       "      <td>True</td>\n",
       "      <td>False</td>\n",
       "      <td>True</td>\n",
       "      <td>False</td>\n",
       "      <td>Difficult</td>\n",
       "      <td>&lt;span style='color:orange'&gt;hollywood&lt;/span&gt;</td>\n",
       "      <td>1</td>\n",
       "    </tr>\n",
       "  </tbody>\n",
       "</table>\n",
       "</div>"
      ],
      "text/plain": [
       "         game                            model  Max Normalized Score  \\\n",
       "45  hollywood      meta-llama-3-70b-instruct-4                   0.0   \n",
       "72  hollywood  microsoft/Phi-3.5-mini-instruct                   0.0   \n",
       "22  hollywood     phi-3-medium-128k-instruct-1                   0.0   \n",
       "\n",
       "    Stochastic  Dialog  Darkness  Nonstandard Action  Inventory  Maze  Trivia  \\\n",
       "45        True   False      True               False      False  True    True   \n",
       "72        True   False      True               False      False  True    True   \n",
       "22        True   False      True               False      False  True    True   \n",
       "\n",
       "    Self-Maintenance  Combat   Time  Mechanical Puzzle  Persistence  \\\n",
       "45             False    True  False               True        False   \n",
       "72             False    True  False               True        False   \n",
       "22             False    True  False               True        False   \n",
       "\n",
       "   Difficulty                                        color  order  \n",
       "45  Difficult  <span style='color:orange'>hollywood</span>      1  \n",
       "72  Difficult  <span style='color:orange'>hollywood</span>      1  \n",
       "22  Difficult  <span style='color:orange'>hollywood</span>      1  "
      ]
     },
     "execution_count": 292,
     "metadata": {},
     "output_type": "execute_result"
    }
   ],
   "source": [
    "runs_df[runs_df[\"game\"] == \"hollywood\"]"
   ]
  },
  {
   "cell_type": "code",
   "execution_count": null,
   "metadata": {},
   "outputs": [],
   "source": [
    "# Create a group bar chart with the average score per game for each model\n",
    "import plotly.express as px\n",
    "import plotly.graph_objects as go\n",
    "\n",
    "# sort by max score for gpt-4o\n",
    "#runs_df = runs_df.sort_values(by=[\"model\", \"Max Normalized Score\"], ascending=True)\n",
    "# Strip the extension from game name\n",
    "def color(text, diff):\n",
    "    if diff == \"Possible\":\n",
    "        s = '$\\color{green}{' + str(text) + '}$'\n",
    "    elif diff == \"Difficult\":\n",
    "        s = '$\\color{yellow}{' + str(text) + '}$'\n",
    "    elif diff == \"Extreme\":\n",
    "        s = '$\\color{red}{' + str(text) + '}$'\n",
    "\n",
    "    return s\n",
    "\n",
    "fig.update_yaxes(tickvals=runs_df[\"game\"], tickmode=\"array\", ticktext=runs_df[[\"game\", \"Difficulty\"]].map(lambda : color(game, diff)))\n"
   ]
  }
 ],
 "metadata": {
  "kernelspec": {
   "display_name": "twbench",
   "language": "python",
   "name": "python3"
  },
  "language_info": {
   "codemirror_mode": {
    "name": "ipython",
    "version": 3
   },
   "file_extension": ".py",
   "mimetype": "text/x-python",
   "name": "python",
   "nbconvert_exporter": "python",
   "pygments_lexer": "ipython3",
   "version": "3.10.14"
  }
 },
 "nbformat": 4,
 "nbformat_minor": 2
}
