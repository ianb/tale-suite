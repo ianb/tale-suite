{
 "cells": [
  {
   "cell_type": "code",
   "execution_count": 1,
   "metadata": {},
   "outputs": [
    {
     "name": "stdout",
     "output_type": "stream",
     "text": [
      "321\n"
     ]
    }
   ],
   "source": [
    "import wandb\n",
    "\n",
    "api = wandb.Api(overrides={\"base_url\": \"https://microsoft-research.wandb.io/\"})\n",
    "#run = api.run(\"/msr-mtl/text-games-benchmark/runs/7e1kyl3h\")\n",
    "runs = api.runs(\n",
    "    \"msr-mtl/text-games-benchmark\",\n",
    "    filters={\n",
    "        \"state\": \"finished\",\n",
    "        \"config.model\": {\"$in\": [\n",
    "            \"gpt-4o\",\n",
    "            \"phi-3-medium-128k-instruct-1\",\n",
    "            \"microsoft/Phi-3.5-mini-instruct\",\n",
    "            \"meta-llama-3-70b-instruct-4\",\n",
    "            \"microsoft/Phi-3-mini-128k-instruct\",\n",
    "            \"random-agent\",\n",
    "        ]}\n",
    "    }\n",
    ")\n",
    "\n",
    "#print(run.history())\n",
    "print(len(runs))\n"
   ]
  },
  {
   "cell_type": "code",
   "execution_count": 39,
   "metadata": {},
   "outputs": [
    {
     "name": "stdout",
     "output_type": "stream",
     "text": [
      "{'llm': 'gcr_phi', 'game': '905.z5', 'seed': 1234, 'model': 'phi-3-medium-128k-instruct-1', 'context': 100, 'temperature': 0, 'conversation': False, 'admissible_commands': True}\n",
      "{'Context': 100, 'Final score': 0, 'Max Normalized Score': 0, 'Max Score': 1, 'Moves': 120, 'Normalized Score': 0, 'Score': 0, 'Step': 1000, 'Total steps': 1000, '_runtime': 881.5551450252533, '_step': 1001, '_timestamp': 1724991275.505299, '_wandb': {'runtime': 881}, 'log_table': {'_latest_artifact_path': 'wandb-client-artifact://8h36l8rfej07i86jnws36mrdj3a5dg8d0r3xab3tupkcrd9z94hcxef48gfngfshjhyk5m7fol06iu0h07qtmn6c8vob7c1hp5y8n11915xpzlvaya5g3ax5po8zl9u3:latest/log_table.table.json', '_type': 'table-file', 'artifact_path': 'wandb-client-artifact://udpuoe9wyevsogq5fser0vusqlprgzm7su8r4a31qwruei4h4i1ag56r03dh3vvvu5fitnd4mp61pwzff2jek9ojskca39mpm48rbg1f7shtv194qr86ppxfnkqcyb7u/log_table.table.json', 'ncols': 12, 'nrows': 1000, 'path': 'media/table/log_table_1001_570422b1a24bd26301a7.table.json', 'sha256': '570422b1a24bd26301a75d7bf62d17a602967296e100655862c162a8894828a6', 'size': 13017439}}\n"
     ]
    }
   ],
   "source": [
    "print(runs[0].config)\n",
    "print(runs[0].summary)"
   ]
  },
  {
   "cell_type": "code",
   "execution_count": 54,
   "metadata": {},
   "outputs": [
    {
     "data": {
      "text/html": [
       "<div>\n",
       "<style scoped>\n",
       "    .dataframe tbody tr th:only-of-type {\n",
       "        vertical-align: middle;\n",
       "    }\n",
       "\n",
       "    .dataframe tbody tr th {\n",
       "        vertical-align: top;\n",
       "    }\n",
       "\n",
       "    .dataframe thead th {\n",
       "        text-align: right;\n",
       "    }\n",
       "</style>\n",
       "<table border=\"1\" class=\"dataframe\">\n",
       "  <thead>\n",
       "    <tr style=\"text-align: right;\">\n",
       "      <th></th>\n",
       "      <th>Filename</th>\n",
       "      <th>Template Action</th>\n",
       "      <th>Solution</th>\n",
       "      <th>Avg. Steps</th>\n",
       "      <th>Stochastic</th>\n",
       "      <th>Dialog</th>\n",
       "      <th>Darkness</th>\n",
       "      <th>Nonstandard Action</th>\n",
       "      <th>Inventory</th>\n",
       "      <th>Difficulty</th>\n",
       "      <th>...</th>\n",
       "      <th>Max Score</th>\n",
       "      <th>Maze</th>\n",
       "      <th>Trivia</th>\n",
       "      <th>Self-Maintenance</th>\n",
       "      <th>Combat</th>\n",
       "      <th>Time</th>\n",
       "      <th>Mechanical Puzzle</th>\n",
       "      <th>Persistence</th>\n",
       "      <th>Stochasticity</th>\n",
       "      <th>Forgiveness</th>\n",
       "    </tr>\n",
       "  </thead>\n",
       "  <tbody>\n",
       "    <tr>\n",
       "      <th>0</th>\n",
       "      <td>905</td>\n",
       "      <td>7</td>\n",
       "      <td>22</td>\n",
       "      <td>22</td>\n",
       "      <td>False</td>\n",
       "      <td>False</td>\n",
       "      <td>False</td>\n",
       "      <td>False</td>\n",
       "      <td>False</td>\n",
       "      <td>Possible</td>\n",
       "      <td>...</td>\n",
       "      <td>NaN</td>\n",
       "      <td>False</td>\n",
       "      <td>False</td>\n",
       "      <td>False</td>\n",
       "      <td>False</td>\n",
       "      <td>False</td>\n",
       "      <td>False</td>\n",
       "      <td>False</td>\n",
       "      <td>False</td>\n",
       "      <td>Polite</td>\n",
       "    </tr>\n",
       "    <tr>\n",
       "      <th>1</th>\n",
       "      <td>acorncourt</td>\n",
       "      <td>17</td>\n",
       "      <td>17</td>\n",
       "      <td>8</td>\n",
       "      <td>False</td>\n",
       "      <td>False</td>\n",
       "      <td>False</td>\n",
       "      <td>False</td>\n",
       "      <td>False</td>\n",
       "      <td>Possible</td>\n",
       "      <td>...</td>\n",
       "      <td>30.0</td>\n",
       "      <td>False</td>\n",
       "      <td>False</td>\n",
       "      <td>False</td>\n",
       "      <td>False</td>\n",
       "      <td>False</td>\n",
       "      <td>True</td>\n",
       "      <td>False</td>\n",
       "      <td>False</td>\n",
       "      <td>Merciful</td>\n",
       "    </tr>\n",
       "    <tr>\n",
       "      <th>2</th>\n",
       "      <td>advent</td>\n",
       "      <td>107</td>\n",
       "      <td>277</td>\n",
       "      <td>7</td>\n",
       "      <td>True</td>\n",
       "      <td>False</td>\n",
       "      <td>True</td>\n",
       "      <td>True</td>\n",
       "      <td>True</td>\n",
       "      <td>Difficult</td>\n",
       "      <td>...</td>\n",
       "      <td>350.0</td>\n",
       "      <td>True</td>\n",
       "      <td>True</td>\n",
       "      <td>False</td>\n",
       "      <td>True</td>\n",
       "      <td>True</td>\n",
       "      <td>True</td>\n",
       "      <td>True</td>\n",
       "      <td>False</td>\n",
       "      <td>Tough</td>\n",
       "    </tr>\n",
       "    <tr>\n",
       "      <th>3</th>\n",
       "      <td>adventureland</td>\n",
       "      <td>23</td>\n",
       "      <td>170</td>\n",
       "      <td>13</td>\n",
       "      <td>True</td>\n",
       "      <td>False</td>\n",
       "      <td>True</td>\n",
       "      <td>False</td>\n",
       "      <td>True</td>\n",
       "      <td>Possible</td>\n",
       "      <td>...</td>\n",
       "      <td>100.0</td>\n",
       "      <td>True</td>\n",
       "      <td>True</td>\n",
       "      <td>False</td>\n",
       "      <td>True</td>\n",
       "      <td>True</td>\n",
       "      <td>True</td>\n",
       "      <td>True</td>\n",
       "      <td>True</td>\n",
       "      <td>Tough</td>\n",
       "    </tr>\n",
       "    <tr>\n",
       "      <th>4</th>\n",
       "      <td>afflicted</td>\n",
       "      <td>79</td>\n",
       "      <td>98</td>\n",
       "      <td>7</td>\n",
       "      <td>False</td>\n",
       "      <td>False</td>\n",
       "      <td>True</td>\n",
       "      <td>False</td>\n",
       "      <td>False</td>\n",
       "      <td>Possible</td>\n",
       "      <td>...</td>\n",
       "      <td>75.0</td>\n",
       "      <td>False</td>\n",
       "      <td>False</td>\n",
       "      <td>True</td>\n",
       "      <td>True</td>\n",
       "      <td>True</td>\n",
       "      <td>True</td>\n",
       "      <td>False</td>\n",
       "      <td>False</td>\n",
       "      <td>Polite</td>\n",
       "    </tr>\n",
       "    <tr>\n",
       "      <th>5</th>\n",
       "      <td>anchor</td>\n",
       "      <td>1268</td>\n",
       "      <td>531</td>\n",
       "      <td>15</td>\n",
       "      <td>True</td>\n",
       "      <td>True</td>\n",
       "      <td>True</td>\n",
       "      <td>False</td>\n",
       "      <td>False</td>\n",
       "      <td>Extreme</td>\n",
       "      <td>...</td>\n",
       "      <td>100.0</td>\n",
       "      <td>False</td>\n",
       "      <td>True</td>\n",
       "      <td>False</td>\n",
       "      <td>True</td>\n",
       "      <td>True</td>\n",
       "      <td>False</td>\n",
       "      <td>True</td>\n",
       "      <td>False</td>\n",
       "      <td>Cruel</td>\n",
       "    </tr>\n",
       "    <tr>\n",
       "      <th>6</th>\n",
       "      <td>awaken</td>\n",
       "      <td>37</td>\n",
       "      <td>57</td>\n",
       "      <td>8</td>\n",
       "      <td>False</td>\n",
       "      <td>False</td>\n",
       "      <td>False</td>\n",
       "      <td>False</td>\n",
       "      <td>False</td>\n",
       "      <td>Possible</td>\n",
       "      <td>...</td>\n",
       "      <td>50.0</td>\n",
       "      <td>False</td>\n",
       "      <td>True</td>\n",
       "      <td>False</td>\n",
       "      <td>True</td>\n",
       "      <td>True</td>\n",
       "      <td>True</td>\n",
       "      <td>True</td>\n",
       "      <td>False</td>\n",
       "      <td>Polite</td>\n",
       "    </tr>\n",
       "    <tr>\n",
       "      <th>7</th>\n",
       "      <td>balances</td>\n",
       "      <td>30</td>\n",
       "      <td>122</td>\n",
       "      <td>12</td>\n",
       "      <td>False</td>\n",
       "      <td>False</td>\n",
       "      <td>True</td>\n",
       "      <td>True</td>\n",
       "      <td>False</td>\n",
       "      <td>Difficult</td>\n",
       "      <td>...</td>\n",
       "      <td>51.0</td>\n",
       "      <td>False</td>\n",
       "      <td>True</td>\n",
       "      <td>False</td>\n",
       "      <td>False</td>\n",
       "      <td>False</td>\n",
       "      <td>True</td>\n",
       "      <td>False</td>\n",
       "      <td>False</td>\n",
       "      <td>Polite</td>\n",
       "    </tr>\n",
       "    <tr>\n",
       "      <th>8</th>\n",
       "      <td>ballyhoo</td>\n",
       "      <td>310</td>\n",
       "      <td>416</td>\n",
       "      <td>21</td>\n",
       "      <td>False</td>\n",
       "      <td>True</td>\n",
       "      <td>False</td>\n",
       "      <td>False</td>\n",
       "      <td>True</td>\n",
       "      <td>Extreme</td>\n",
       "      <td>...</td>\n",
       "      <td>300.0</td>\n",
       "      <td>True</td>\n",
       "      <td>True</td>\n",
       "      <td>True</td>\n",
       "      <td>False</td>\n",
       "      <td>True</td>\n",
       "      <td>True</td>\n",
       "      <td>False</td>\n",
       "      <td>True</td>\n",
       "      <td>Tough</td>\n",
       "    </tr>\n",
       "    <tr>\n",
       "      <th>9</th>\n",
       "      <td>curses</td>\n",
       "      <td>398</td>\n",
       "      <td>816</td>\n",
       "      <td>9</td>\n",
       "      <td>True</td>\n",
       "      <td>True</td>\n",
       "      <td>True</td>\n",
       "      <td>False</td>\n",
       "      <td>True</td>\n",
       "      <td>Extreme</td>\n",
       "      <td>...</td>\n",
       "      <td>550.0</td>\n",
       "      <td>False</td>\n",
       "      <td>True</td>\n",
       "      <td>False</td>\n",
       "      <td>False</td>\n",
       "      <td>True</td>\n",
       "      <td>False</td>\n",
       "      <td>True</td>\n",
       "      <td>True</td>\n",
       "      <td>Polite</td>\n",
       "    </tr>\n",
       "    <tr>\n",
       "      <th>10</th>\n",
       "      <td>cutthroat</td>\n",
       "      <td>185</td>\n",
       "      <td>336</td>\n",
       "      <td>34</td>\n",
       "      <td>True</td>\n",
       "      <td>False</td>\n",
       "      <td>True</td>\n",
       "      <td>True</td>\n",
       "      <td>True</td>\n",
       "      <td>Extreme</td>\n",
       "      <td>...</td>\n",
       "      <td>250.0</td>\n",
       "      <td>True</td>\n",
       "      <td>False</td>\n",
       "      <td>True</td>\n",
       "      <td>True</td>\n",
       "      <td>True</td>\n",
       "      <td>True</td>\n",
       "      <td>True</td>\n",
       "      <td>True</td>\n",
       "      <td>Polite</td>\n",
       "    </tr>\n",
       "    <tr>\n",
       "      <th>11</th>\n",
       "      <td>deephome</td>\n",
       "      <td>93</td>\n",
       "      <td>327</td>\n",
       "      <td>6</td>\n",
       "      <td>True</td>\n",
       "      <td>True</td>\n",
       "      <td>False</td>\n",
       "      <td>True</td>\n",
       "      <td>True</td>\n",
       "      <td>Difficult</td>\n",
       "      <td>...</td>\n",
       "      <td>300.0</td>\n",
       "      <td>True</td>\n",
       "      <td>False</td>\n",
       "      <td>False</td>\n",
       "      <td>True</td>\n",
       "      <td>True</td>\n",
       "      <td>True</td>\n",
       "      <td>True</td>\n",
       "      <td>False</td>\n",
       "      <td>Polite</td>\n",
       "    </tr>\n",
       "    <tr>\n",
       "      <th>12</th>\n",
       "      <td>detective</td>\n",
       "      <td>19</td>\n",
       "      <td>51</td>\n",
       "      <td>2</td>\n",
       "      <td>False</td>\n",
       "      <td>False</td>\n",
       "      <td>False</td>\n",
       "      <td>False</td>\n",
       "      <td>False</td>\n",
       "      <td>Possible</td>\n",
       "      <td>...</td>\n",
       "      <td>360.0</td>\n",
       "      <td>False</td>\n",
       "      <td>False</td>\n",
       "      <td>False</td>\n",
       "      <td>True</td>\n",
       "      <td>False</td>\n",
       "      <td>False</td>\n",
       "      <td>False</td>\n",
       "      <td>False</td>\n",
       "      <td>Cruel</td>\n",
       "    </tr>\n",
       "    <tr>\n",
       "      <th>13</th>\n",
       "      <td>dragon</td>\n",
       "      <td>182</td>\n",
       "      <td>101</td>\n",
       "      <td>9</td>\n",
       "      <td>True</td>\n",
       "      <td>False</td>\n",
       "      <td>True</td>\n",
       "      <td>False</td>\n",
       "      <td>True</td>\n",
       "      <td>Possible</td>\n",
       "      <td>...</td>\n",
       "      <td>25.0</td>\n",
       "      <td>False</td>\n",
       "      <td>False</td>\n",
       "      <td>False</td>\n",
       "      <td>True</td>\n",
       "      <td>False</td>\n",
       "      <td>False</td>\n",
       "      <td>False</td>\n",
       "      <td>False</td>\n",
       "      <td>Merciful</td>\n",
       "    </tr>\n",
       "    <tr>\n",
       "      <th>14</th>\n",
       "      <td>enchanter</td>\n",
       "      <td>151</td>\n",
       "      <td>265</td>\n",
       "      <td>15</td>\n",
       "      <td>True</td>\n",
       "      <td>False</td>\n",
       "      <td>True</td>\n",
       "      <td>True</td>\n",
       "      <td>True</td>\n",
       "      <td>Extreme</td>\n",
       "      <td>...</td>\n",
       "      <td>400.0</td>\n",
       "      <td>True</td>\n",
       "      <td>False</td>\n",
       "      <td>True</td>\n",
       "      <td>True</td>\n",
       "      <td>True</td>\n",
       "      <td>True</td>\n",
       "      <td>True</td>\n",
       "      <td>True</td>\n",
       "      <td>Cruel</td>\n",
       "    </tr>\n",
       "    <tr>\n",
       "      <th>15</th>\n",
       "      <td>enter</td>\n",
       "      <td>32</td>\n",
       "      <td>102</td>\n",
       "      <td>5</td>\n",
       "      <td>False</td>\n",
       "      <td>True</td>\n",
       "      <td>False</td>\n",
       "      <td>False</td>\n",
       "      <td>False</td>\n",
       "      <td>Difficult</td>\n",
       "      <td>...</td>\n",
       "      <td>10.0</td>\n",
       "      <td>False</td>\n",
       "      <td>True</td>\n",
       "      <td>False</td>\n",
       "      <td>False</td>\n",
       "      <td>True</td>\n",
       "      <td>False</td>\n",
       "      <td>True</td>\n",
       "      <td>False</td>\n",
       "      <td>Merciful</td>\n",
       "    </tr>\n",
       "    <tr>\n",
       "      <th>16</th>\n",
       "      <td>gold</td>\n",
       "      <td>97</td>\n",
       "      <td>345</td>\n",
       "      <td>10</td>\n",
       "      <td>True</td>\n",
       "      <td>True</td>\n",
       "      <td>False</td>\n",
       "      <td>False</td>\n",
       "      <td>False</td>\n",
       "      <td>Difficult</td>\n",
       "      <td>...</td>\n",
       "      <td>100.0</td>\n",
       "      <td>True</td>\n",
       "      <td>True</td>\n",
       "      <td>False</td>\n",
       "      <td>False</td>\n",
       "      <td>False</td>\n",
       "      <td>True</td>\n",
       "      <td>False</td>\n",
       "      <td>False</td>\n",
       "      <td>Polite</td>\n",
       "    </tr>\n",
       "    <tr>\n",
       "      <th>17</th>\n",
       "      <td>hhgg</td>\n",
       "      <td>277</td>\n",
       "      <td>361</td>\n",
       "      <td>20</td>\n",
       "      <td>True</td>\n",
       "      <td>True</td>\n",
       "      <td>True</td>\n",
       "      <td>False</td>\n",
       "      <td>True</td>\n",
       "      <td>Extreme</td>\n",
       "      <td>...</td>\n",
       "      <td>100.0</td>\n",
       "      <td>True</td>\n",
       "      <td>True</td>\n",
       "      <td>True</td>\n",
       "      <td>False</td>\n",
       "      <td>True</td>\n",
       "      <td>True</td>\n",
       "      <td>True</td>\n",
       "      <td>True</td>\n",
       "      <td>Cruel</td>\n",
       "    </tr>\n",
       "    <tr>\n",
       "      <th>18</th>\n",
       "      <td>hollywood</td>\n",
       "      <td>216</td>\n",
       "      <td>397</td>\n",
       "      <td>28</td>\n",
       "      <td>True</td>\n",
       "      <td>False</td>\n",
       "      <td>True</td>\n",
       "      <td>False</td>\n",
       "      <td>False</td>\n",
       "      <td>Difficult</td>\n",
       "      <td>...</td>\n",
       "      <td>150.0</td>\n",
       "      <td>True</td>\n",
       "      <td>True</td>\n",
       "      <td>False</td>\n",
       "      <td>True</td>\n",
       "      <td>False</td>\n",
       "      <td>True</td>\n",
       "      <td>False</td>\n",
       "      <td>False</td>\n",
       "      <td>Nasty</td>\n",
       "    </tr>\n",
       "    <tr>\n",
       "      <th>19</th>\n",
       "      <td>huntdark</td>\n",
       "      <td>45</td>\n",
       "      <td>67</td>\n",
       "      <td>67</td>\n",
       "      <td>False</td>\n",
       "      <td>False</td>\n",
       "      <td>False</td>\n",
       "      <td>False</td>\n",
       "      <td>False</td>\n",
       "      <td>Difficult</td>\n",
       "      <td>...</td>\n",
       "      <td>1.0</td>\n",
       "      <td>True</td>\n",
       "      <td>False</td>\n",
       "      <td>False</td>\n",
       "      <td>True</td>\n",
       "      <td>True</td>\n",
       "      <td>False</td>\n",
       "      <td>True</td>\n",
       "      <td>True</td>\n",
       "      <td>Cruel</td>\n",
       "    </tr>\n",
       "    <tr>\n",
       "      <th>20</th>\n",
       "      <td>infidel</td>\n",
       "      <td>102</td>\n",
       "      <td>226</td>\n",
       "      <td>10</td>\n",
       "      <td>False</td>\n",
       "      <td>False</td>\n",
       "      <td>True</td>\n",
       "      <td>False</td>\n",
       "      <td>True</td>\n",
       "      <td>Possible</td>\n",
       "      <td>...</td>\n",
       "      <td>400.0</td>\n",
       "      <td>True</td>\n",
       "      <td>True</td>\n",
       "      <td>True</td>\n",
       "      <td>False</td>\n",
       "      <td>False</td>\n",
       "      <td>True</td>\n",
       "      <td>False</td>\n",
       "      <td>False</td>\n",
       "      <td>Cruel</td>\n",
       "    </tr>\n",
       "    <tr>\n",
       "      <th>21</th>\n",
       "      <td>inhumane</td>\n",
       "      <td>22</td>\n",
       "      <td>123</td>\n",
       "      <td>14</td>\n",
       "      <td>False</td>\n",
       "      <td>False</td>\n",
       "      <td>False</td>\n",
       "      <td>False</td>\n",
       "      <td>False</td>\n",
       "      <td>Possible</td>\n",
       "      <td>...</td>\n",
       "      <td>400.0</td>\n",
       "      <td>True</td>\n",
       "      <td>True</td>\n",
       "      <td>False</td>\n",
       "      <td>False</td>\n",
       "      <td>False</td>\n",
       "      <td>True</td>\n",
       "      <td>False</td>\n",
       "      <td>False</td>\n",
       "      <td>Polite</td>\n",
       "    </tr>\n",
       "    <tr>\n",
       "      <th>22</th>\n",
       "      <td>jewel</td>\n",
       "      <td>65</td>\n",
       "      <td>223</td>\n",
       "      <td>8</td>\n",
       "      <td>False</td>\n",
       "      <td>True</td>\n",
       "      <td>False</td>\n",
       "      <td>False</td>\n",
       "      <td>False</td>\n",
       "      <td>Difficult</td>\n",
       "      <td>...</td>\n",
       "      <td>90.0</td>\n",
       "      <td>True</td>\n",
       "      <td>False</td>\n",
       "      <td>False</td>\n",
       "      <td>True</td>\n",
       "      <td>False</td>\n",
       "      <td>True</td>\n",
       "      <td>True</td>\n",
       "      <td>True</td>\n",
       "      <td>Tough</td>\n",
       "    </tr>\n",
       "    <tr>\n",
       "      <th>23</th>\n",
       "      <td>karn</td>\n",
       "      <td>63</td>\n",
       "      <td>362</td>\n",
       "      <td>17</td>\n",
       "      <td>True</td>\n",
       "      <td>True</td>\n",
       "      <td>True</td>\n",
       "      <td>False</td>\n",
       "      <td>False</td>\n",
       "      <td>Difficult</td>\n",
       "      <td>...</td>\n",
       "      <td>170.0</td>\n",
       "      <td>False</td>\n",
       "      <td>True</td>\n",
       "      <td>False</td>\n",
       "      <td>False</td>\n",
       "      <td>True</td>\n",
       "      <td>True</td>\n",
       "      <td>True</td>\n",
       "      <td>True</td>\n",
       "      <td>Nasty</td>\n",
       "    </tr>\n",
       "    <tr>\n",
       "      <th>24</th>\n",
       "      <td>library</td>\n",
       "      <td>37</td>\n",
       "      <td>52</td>\n",
       "      <td>5</td>\n",
       "      <td>False</td>\n",
       "      <td>True</td>\n",
       "      <td>False</td>\n",
       "      <td>True</td>\n",
       "      <td>False</td>\n",
       "      <td>Possible</td>\n",
       "      <td>...</td>\n",
       "      <td>30.0</td>\n",
       "      <td>False</td>\n",
       "      <td>True</td>\n",
       "      <td>False</td>\n",
       "      <td>False</td>\n",
       "      <td>False</td>\n",
       "      <td>False</td>\n",
       "      <td>False</td>\n",
       "      <td>False</td>\n",
       "      <td>Merciful</td>\n",
       "    </tr>\n",
       "    <tr>\n",
       "      <th>25</th>\n",
       "      <td>loose</td>\n",
       "      <td>311</td>\n",
       "      <td>51</td>\n",
       "      <td>5</td>\n",
       "      <td>False</td>\n",
       "      <td>True</td>\n",
       "      <td>False</td>\n",
       "      <td>True</td>\n",
       "      <td>False</td>\n",
       "      <td>Possible</td>\n",
       "      <td>...</td>\n",
       "      <td>50.0</td>\n",
       "      <td>False</td>\n",
       "      <td>True</td>\n",
       "      <td>False</td>\n",
       "      <td>False</td>\n",
       "      <td>False</td>\n",
       "      <td>False</td>\n",
       "      <td>False</td>\n",
       "      <td>False</td>\n",
       "      <td>Merciful</td>\n",
       "    </tr>\n",
       "    <tr>\n",
       "      <th>26</th>\n",
       "      <td>lostpig</td>\n",
       "      <td>1118</td>\n",
       "      <td>146</td>\n",
       "      <td>18</td>\n",
       "      <td>False</td>\n",
       "      <td>True</td>\n",
       "      <td>True</td>\n",
       "      <td>False</td>\n",
       "      <td>False</td>\n",
       "      <td>Difficult</td>\n",
       "      <td>...</td>\n",
       "      <td>7.0</td>\n",
       "      <td>False</td>\n",
       "      <td>False</td>\n",
       "      <td>False</td>\n",
       "      <td>False</td>\n",
       "      <td>False</td>\n",
       "      <td>True</td>\n",
       "      <td>False</td>\n",
       "      <td>False</td>\n",
       "      <td>Merciful</td>\n",
       "    </tr>\n",
       "    <tr>\n",
       "      <th>27</th>\n",
       "      <td>ludicorp</td>\n",
       "      <td>45</td>\n",
       "      <td>364</td>\n",
       "      <td>4</td>\n",
       "      <td>False</td>\n",
       "      <td>False</td>\n",
       "      <td>False</td>\n",
       "      <td>True</td>\n",
       "      <td>True</td>\n",
       "      <td>Difficult</td>\n",
       "      <td>...</td>\n",
       "      <td>150.0</td>\n",
       "      <td>True</td>\n",
       "      <td>False</td>\n",
       "      <td>False</td>\n",
       "      <td>False</td>\n",
       "      <td>False</td>\n",
       "      <td>True</td>\n",
       "      <td>False</td>\n",
       "      <td>False</td>\n",
       "      <td>Polite</td>\n",
       "    </tr>\n",
       "    <tr>\n",
       "      <th>28</th>\n",
       "      <td>lurking</td>\n",
       "      <td>207</td>\n",
       "      <td>294</td>\n",
       "      <td>15</td>\n",
       "      <td>True</td>\n",
       "      <td>True</td>\n",
       "      <td>True</td>\n",
       "      <td>False</td>\n",
       "      <td>True</td>\n",
       "      <td>Difficult</td>\n",
       "      <td>...</td>\n",
       "      <td>100.0</td>\n",
       "      <td>True</td>\n",
       "      <td>False</td>\n",
       "      <td>True</td>\n",
       "      <td>True</td>\n",
       "      <td>True</td>\n",
       "      <td>True</td>\n",
       "      <td>True</td>\n",
       "      <td>False</td>\n",
       "      <td>Polite</td>\n",
       "    </tr>\n",
       "    <tr>\n",
       "      <th>29</th>\n",
       "      <td>moonlit</td>\n",
       "      <td>70</td>\n",
       "      <td>59</td>\n",
       "      <td>59</td>\n",
       "      <td>False</td>\n",
       "      <td>False</td>\n",
       "      <td>False</td>\n",
       "      <td>False</td>\n",
       "      <td>False</td>\n",
       "      <td>Possible</td>\n",
       "      <td>...</td>\n",
       "      <td>1.0</td>\n",
       "      <td>False</td>\n",
       "      <td>False</td>\n",
       "      <td>False</td>\n",
       "      <td>False</td>\n",
       "      <td>False</td>\n",
       "      <td>True</td>\n",
       "      <td>False</td>\n",
       "      <td>False</td>\n",
       "      <td>Merciful</td>\n",
       "    </tr>\n",
       "    <tr>\n",
       "      <th>30</th>\n",
       "      <td>murdac</td>\n",
       "      <td>10</td>\n",
       "      <td>304</td>\n",
       "      <td>4</td>\n",
       "      <td>True</td>\n",
       "      <td>False</td>\n",
       "      <td>True</td>\n",
       "      <td>True</td>\n",
       "      <td>True</td>\n",
       "      <td>Difficult</td>\n",
       "      <td>...</td>\n",
       "      <td>250.0</td>\n",
       "      <td>True</td>\n",
       "      <td>False</td>\n",
       "      <td>False</td>\n",
       "      <td>True</td>\n",
       "      <td>True</td>\n",
       "      <td>False</td>\n",
       "      <td>False</td>\n",
       "      <td>True</td>\n",
       "      <td>Nasty</td>\n",
       "    </tr>\n",
       "    <tr>\n",
       "      <th>31</th>\n",
       "      <td>night</td>\n",
       "      <td>34</td>\n",
       "      <td>90</td>\n",
       "      <td>18</td>\n",
       "      <td>False</td>\n",
       "      <td>True</td>\n",
       "      <td>True</td>\n",
       "      <td>True</td>\n",
       "      <td>False</td>\n",
       "      <td>Difficult</td>\n",
       "      <td>...</td>\n",
       "      <td>10.0</td>\n",
       "      <td>True</td>\n",
       "      <td>True</td>\n",
       "      <td>False</td>\n",
       "      <td>False</td>\n",
       "      <td>False</td>\n",
       "      <td>False</td>\n",
       "      <td>False</td>\n",
       "      <td>False</td>\n",
       "      <td>Merciful</td>\n",
       "    </tr>\n",
       "    <tr>\n",
       "      <th>32</th>\n",
       "      <td>omniquest</td>\n",
       "      <td>37</td>\n",
       "      <td>78</td>\n",
       "      <td>13</td>\n",
       "      <td>False</td>\n",
       "      <td>False</td>\n",
       "      <td>True</td>\n",
       "      <td>False</td>\n",
       "      <td>False</td>\n",
       "      <td>Possible</td>\n",
       "      <td>...</td>\n",
       "      <td>50.0</td>\n",
       "      <td>False</td>\n",
       "      <td>True</td>\n",
       "      <td>False</td>\n",
       "      <td>True</td>\n",
       "      <td>False</td>\n",
       "      <td>False</td>\n",
       "      <td>False</td>\n",
       "      <td>False</td>\n",
       "      <td>Polite</td>\n",
       "    </tr>\n",
       "    <tr>\n",
       "      <th>33</th>\n",
       "      <td>partyfoul</td>\n",
       "      <td>81</td>\n",
       "      <td>56</td>\n",
       "      <td>56</td>\n",
       "      <td>True</td>\n",
       "      <td>False</td>\n",
       "      <td>False</td>\n",
       "      <td>False</td>\n",
       "      <td>False</td>\n",
       "      <td>Difficult</td>\n",
       "      <td>...</td>\n",
       "      <td>NaN</td>\n",
       "      <td>False</td>\n",
       "      <td>True</td>\n",
       "      <td>False</td>\n",
       "      <td>False</td>\n",
       "      <td>True</td>\n",
       "      <td>True</td>\n",
       "      <td>False</td>\n",
       "      <td>True</td>\n",
       "      <td>Merciful</td>\n",
       "    </tr>\n",
       "    <tr>\n",
       "      <th>34</th>\n",
       "      <td>pentari</td>\n",
       "      <td>32</td>\n",
       "      <td>34</td>\n",
       "      <td>5</td>\n",
       "      <td>True</td>\n",
       "      <td>False</td>\n",
       "      <td>False</td>\n",
       "      <td>True</td>\n",
       "      <td>False</td>\n",
       "      <td>Possible</td>\n",
       "      <td>...</td>\n",
       "      <td>70.0</td>\n",
       "      <td>False</td>\n",
       "      <td>False</td>\n",
       "      <td>False</td>\n",
       "      <td>True</td>\n",
       "      <td>True</td>\n",
       "      <td>False</td>\n",
       "      <td>False</td>\n",
       "      <td>True</td>\n",
       "      <td>Polite</td>\n",
       "    </tr>\n",
       "    <tr>\n",
       "      <th>35</th>\n",
       "      <td>planetfall</td>\n",
       "      <td>96</td>\n",
       "      <td>399</td>\n",
       "      <td>18</td>\n",
       "      <td>True</td>\n",
       "      <td>False</td>\n",
       "      <td>False</td>\n",
       "      <td>False</td>\n",
       "      <td>True</td>\n",
       "      <td>Extreme</td>\n",
       "      <td>...</td>\n",
       "      <td>80.0</td>\n",
       "      <td>False</td>\n",
       "      <td>False</td>\n",
       "      <td>True</td>\n",
       "      <td>True</td>\n",
       "      <td>True</td>\n",
       "      <td>True</td>\n",
       "      <td>True</td>\n",
       "      <td>True</td>\n",
       "      <td>Polite</td>\n",
       "    </tr>\n",
       "    <tr>\n",
       "      <th>36</th>\n",
       "      <td>plundered</td>\n",
       "      <td>242</td>\n",
       "      <td>188</td>\n",
       "      <td>8</td>\n",
       "      <td>False</td>\n",
       "      <td>False</td>\n",
       "      <td>False</td>\n",
       "      <td>False</td>\n",
       "      <td>False</td>\n",
       "      <td>Difficult</td>\n",
       "      <td>...</td>\n",
       "      <td>25.0</td>\n",
       "      <td>False</td>\n",
       "      <td>True</td>\n",
       "      <td>False</td>\n",
       "      <td>True</td>\n",
       "      <td>True</td>\n",
       "      <td>True</td>\n",
       "      <td>False</td>\n",
       "      <td>False</td>\n",
       "      <td>Polite</td>\n",
       "    </tr>\n",
       "    <tr>\n",
       "      <th>37</th>\n",
       "      <td>reverb</td>\n",
       "      <td>47</td>\n",
       "      <td>74</td>\n",
       "      <td>6</td>\n",
       "      <td>False</td>\n",
       "      <td>True</td>\n",
       "      <td>False</td>\n",
       "      <td>False</td>\n",
       "      <td>False</td>\n",
       "      <td>Possible</td>\n",
       "      <td>...</td>\n",
       "      <td>50.0</td>\n",
       "      <td>False</td>\n",
       "      <td>True</td>\n",
       "      <td>False</td>\n",
       "      <td>True</td>\n",
       "      <td>True</td>\n",
       "      <td>True</td>\n",
       "      <td>False</td>\n",
       "      <td>False</td>\n",
       "      <td>Polite</td>\n",
       "    </tr>\n",
       "    <tr>\n",
       "      <th>38</th>\n",
       "      <td>seastalker</td>\n",
       "      <td>243</td>\n",
       "      <td>204</td>\n",
       "      <td>8</td>\n",
       "      <td>False</td>\n",
       "      <td>True</td>\n",
       "      <td>False</td>\n",
       "      <td>False</td>\n",
       "      <td>False</td>\n",
       "      <td>Difficult</td>\n",
       "      <td>...</td>\n",
       "      <td>100.0</td>\n",
       "      <td>False</td>\n",
       "      <td>False</td>\n",
       "      <td>False</td>\n",
       "      <td>True</td>\n",
       "      <td>True</td>\n",
       "      <td>True</td>\n",
       "      <td>True</td>\n",
       "      <td>False</td>\n",
       "      <td>Nasty</td>\n",
       "    </tr>\n",
       "    <tr>\n",
       "      <th>39</th>\n",
       "      <td>sherlock</td>\n",
       "      <td>739</td>\n",
       "      <td>339</td>\n",
       "      <td>10</td>\n",
       "      <td>True</td>\n",
       "      <td>True</td>\n",
       "      <td>False</td>\n",
       "      <td>False</td>\n",
       "      <td>True</td>\n",
       "      <td>Extreme</td>\n",
       "      <td>...</td>\n",
       "      <td>100.0</td>\n",
       "      <td>False</td>\n",
       "      <td>True</td>\n",
       "      <td>False</td>\n",
       "      <td>True</td>\n",
       "      <td>True</td>\n",
       "      <td>True</td>\n",
       "      <td>True</td>\n",
       "      <td>True</td>\n",
       "      <td>Nasty</td>\n",
       "    </tr>\n",
       "    <tr>\n",
       "      <th>40</th>\n",
       "      <td>snacktime</td>\n",
       "      <td>42</td>\n",
       "      <td>34</td>\n",
       "      <td>8</td>\n",
       "      <td>False</td>\n",
       "      <td>False</td>\n",
       "      <td>False</td>\n",
       "      <td>False</td>\n",
       "      <td>False</td>\n",
       "      <td>Possible</td>\n",
       "      <td>...</td>\n",
       "      <td>50.0</td>\n",
       "      <td>False</td>\n",
       "      <td>True</td>\n",
       "      <td>False</td>\n",
       "      <td>False</td>\n",
       "      <td>True</td>\n",
       "      <td>True</td>\n",
       "      <td>True</td>\n",
       "      <td>False</td>\n",
       "      <td>Polite</td>\n",
       "    </tr>\n",
       "    <tr>\n",
       "      <th>41</th>\n",
       "      <td>sorcerer</td>\n",
       "      <td>296</td>\n",
       "      <td>254</td>\n",
       "      <td>11</td>\n",
       "      <td>True</td>\n",
       "      <td>False</td>\n",
       "      <td>True</td>\n",
       "      <td>True</td>\n",
       "      <td>True</td>\n",
       "      <td>Extreme</td>\n",
       "      <td>...</td>\n",
       "      <td>400.0</td>\n",
       "      <td>True</td>\n",
       "      <td>True</td>\n",
       "      <td>True</td>\n",
       "      <td>True</td>\n",
       "      <td>True</td>\n",
       "      <td>True</td>\n",
       "      <td>True</td>\n",
       "      <td>True</td>\n",
       "      <td>Nasty</td>\n",
       "    </tr>\n",
       "    <tr>\n",
       "      <th>42</th>\n",
       "      <td>spellbrkr</td>\n",
       "      <td>236</td>\n",
       "      <td>412</td>\n",
       "      <td>13</td>\n",
       "      <td>True</td>\n",
       "      <td>False</td>\n",
       "      <td>True</td>\n",
       "      <td>True</td>\n",
       "      <td>True</td>\n",
       "      <td>Extreme</td>\n",
       "      <td>...</td>\n",
       "      <td>600.0</td>\n",
       "      <td>True</td>\n",
       "      <td>True</td>\n",
       "      <td>False</td>\n",
       "      <td>True</td>\n",
       "      <td>True</td>\n",
       "      <td>True</td>\n",
       "      <td>True</td>\n",
       "      <td>True</td>\n",
       "      <td>Cruel</td>\n",
       "    </tr>\n",
       "    <tr>\n",
       "      <th>43</th>\n",
       "      <td>spirit</td>\n",
       "      <td>195</td>\n",
       "      <td>1264</td>\n",
       "      <td>21</td>\n",
       "      <td>False</td>\n",
       "      <td>True</td>\n",
       "      <td>True</td>\n",
       "      <td>True</td>\n",
       "      <td>True</td>\n",
       "      <td>Extreme</td>\n",
       "      <td>...</td>\n",
       "      <td>250.0</td>\n",
       "      <td>True</td>\n",
       "      <td>True</td>\n",
       "      <td>True</td>\n",
       "      <td>True</td>\n",
       "      <td>True</td>\n",
       "      <td>True</td>\n",
       "      <td>True</td>\n",
       "      <td>True</td>\n",
       "      <td>Polite</td>\n",
       "    </tr>\n",
       "    <tr>\n",
       "      <th>44</th>\n",
       "      <td>temple</td>\n",
       "      <td>63</td>\n",
       "      <td>182</td>\n",
       "      <td>20</td>\n",
       "      <td>False</td>\n",
       "      <td>False</td>\n",
       "      <td>False</td>\n",
       "      <td>False</td>\n",
       "      <td>False</td>\n",
       "      <td>Possible</td>\n",
       "      <td>...</td>\n",
       "      <td>35.0</td>\n",
       "      <td>False</td>\n",
       "      <td>True</td>\n",
       "      <td>False</td>\n",
       "      <td>True</td>\n",
       "      <td>True</td>\n",
       "      <td>False</td>\n",
       "      <td>True</td>\n",
       "      <td>False</td>\n",
       "      <td>Polite</td>\n",
       "    </tr>\n",
       "    <tr>\n",
       "      <th>45</th>\n",
       "      <td>theatre</td>\n",
       "      <td>167</td>\n",
       "      <td>296</td>\n",
       "      <td>14</td>\n",
       "      <td>False</td>\n",
       "      <td>True</td>\n",
       "      <td>False</td>\n",
       "      <td>False</td>\n",
       "      <td>False</td>\n",
       "      <td>Difficult</td>\n",
       "      <td>...</td>\n",
       "      <td>50.0</td>\n",
       "      <td>False</td>\n",
       "      <td>True</td>\n",
       "      <td>False</td>\n",
       "      <td>True</td>\n",
       "      <td>True</td>\n",
       "      <td>True</td>\n",
       "      <td>True</td>\n",
       "      <td>False</td>\n",
       "      <td>Polite</td>\n",
       "    </tr>\n",
       "    <tr>\n",
       "      <th>46</th>\n",
       "      <td>trinity</td>\n",
       "      <td>2274</td>\n",
       "      <td>610</td>\n",
       "      <td>12</td>\n",
       "      <td>False</td>\n",
       "      <td>True</td>\n",
       "      <td>True</td>\n",
       "      <td>False</td>\n",
       "      <td>True</td>\n",
       "      <td>Extreme</td>\n",
       "      <td>...</td>\n",
       "      <td>100.0</td>\n",
       "      <td>True</td>\n",
       "      <td>True</td>\n",
       "      <td>False</td>\n",
       "      <td>False</td>\n",
       "      <td>True</td>\n",
       "      <td>True</td>\n",
       "      <td>False</td>\n",
       "      <td>True</td>\n",
       "      <td>Tough</td>\n",
       "    </tr>\n",
       "    <tr>\n",
       "      <th>47</th>\n",
       "      <td>tryst205</td>\n",
       "      <td>141</td>\n",
       "      <td>518</td>\n",
       "      <td>12</td>\n",
       "      <td>False</td>\n",
       "      <td>True</td>\n",
       "      <td>False</td>\n",
       "      <td>True</td>\n",
       "      <td>True</td>\n",
       "      <td>Extreme</td>\n",
       "      <td>...</td>\n",
       "      <td>350.0</td>\n",
       "      <td>True</td>\n",
       "      <td>True</td>\n",
       "      <td>False</td>\n",
       "      <td>True</td>\n",
       "      <td>True</td>\n",
       "      <td>True</td>\n",
       "      <td>True</td>\n",
       "      <td>True</td>\n",
       "      <td>Polite</td>\n",
       "    </tr>\n",
       "    <tr>\n",
       "      <th>48</th>\n",
       "      <td>weapon</td>\n",
       "      <td>42</td>\n",
       "      <td>72</td>\n",
       "      <td>72</td>\n",
       "      <td>False</td>\n",
       "      <td>True</td>\n",
       "      <td>False</td>\n",
       "      <td>False</td>\n",
       "      <td>False</td>\n",
       "      <td>Difficult</td>\n",
       "      <td>...</td>\n",
       "      <td>1.0</td>\n",
       "      <td>False</td>\n",
       "      <td>True</td>\n",
       "      <td>False</td>\n",
       "      <td>False</td>\n",
       "      <td>True</td>\n",
       "      <td>True</td>\n",
       "      <td>True</td>\n",
       "      <td>False</td>\n",
       "      <td>Polite</td>\n",
       "    </tr>\n",
       "    <tr>\n",
       "      <th>49</th>\n",
       "      <td>wishbringer</td>\n",
       "      <td>312</td>\n",
       "      <td>184</td>\n",
       "      <td>5</td>\n",
       "      <td>True</td>\n",
       "      <td>True</td>\n",
       "      <td>False</td>\n",
       "      <td>False</td>\n",
       "      <td>True</td>\n",
       "      <td>Difficult</td>\n",
       "      <td>...</td>\n",
       "      <td>100.0</td>\n",
       "      <td>True</td>\n",
       "      <td>False</td>\n",
       "      <td>False</td>\n",
       "      <td>True</td>\n",
       "      <td>True</td>\n",
       "      <td>True</td>\n",
       "      <td>True</td>\n",
       "      <td>True</td>\n",
       "      <td>Tough</td>\n",
       "    </tr>\n",
       "    <tr>\n",
       "      <th>50</th>\n",
       "      <td>yomomma</td>\n",
       "      <td>50</td>\n",
       "      <td>98</td>\n",
       "      <td>6</td>\n",
       "      <td>False</td>\n",
       "      <td>True</td>\n",
       "      <td>False</td>\n",
       "      <td>False</td>\n",
       "      <td>False</td>\n",
       "      <td>Difficult</td>\n",
       "      <td>...</td>\n",
       "      <td>35.0</td>\n",
       "      <td>False</td>\n",
       "      <td>True</td>\n",
       "      <td>False</td>\n",
       "      <td>False</td>\n",
       "      <td>False</td>\n",
       "      <td>True</td>\n",
       "      <td>False</td>\n",
       "      <td>True</td>\n",
       "      <td>Merciful</td>\n",
       "    </tr>\n",
       "    <tr>\n",
       "      <th>51</th>\n",
       "      <td>zenon</td>\n",
       "      <td>22</td>\n",
       "      <td>83</td>\n",
       "      <td>17</td>\n",
       "      <td>False</td>\n",
       "      <td>True</td>\n",
       "      <td>False</td>\n",
       "      <td>False</td>\n",
       "      <td>False</td>\n",
       "      <td>Difficult</td>\n",
       "      <td>...</td>\n",
       "      <td>20.0</td>\n",
       "      <td>False</td>\n",
       "      <td>False</td>\n",
       "      <td>False</td>\n",
       "      <td>False</td>\n",
       "      <td>True</td>\n",
       "      <td>False</td>\n",
       "      <td>False</td>\n",
       "      <td>False</td>\n",
       "      <td>Polite</td>\n",
       "    </tr>\n",
       "    <tr>\n",
       "      <th>52</th>\n",
       "      <td>zork1</td>\n",
       "      <td>114</td>\n",
       "      <td>400</td>\n",
       "      <td>9</td>\n",
       "      <td>True</td>\n",
       "      <td>False</td>\n",
       "      <td>True</td>\n",
       "      <td>False</td>\n",
       "      <td>True</td>\n",
       "      <td>Difficult</td>\n",
       "      <td>...</td>\n",
       "      <td>350.0</td>\n",
       "      <td>True</td>\n",
       "      <td>True</td>\n",
       "      <td>True</td>\n",
       "      <td>True</td>\n",
       "      <td>True</td>\n",
       "      <td>True</td>\n",
       "      <td>True</td>\n",
       "      <td>True</td>\n",
       "      <td>Cruel</td>\n",
       "    </tr>\n",
       "    <tr>\n",
       "      <th>53</th>\n",
       "      <td>zork2</td>\n",
       "      <td>112</td>\n",
       "      <td>296</td>\n",
       "      <td>11</td>\n",
       "      <td>True</td>\n",
       "      <td>True</td>\n",
       "      <td>True</td>\n",
       "      <td>False</td>\n",
       "      <td>True</td>\n",
       "      <td>Difficult</td>\n",
       "      <td>...</td>\n",
       "      <td>400.0</td>\n",
       "      <td>True</td>\n",
       "      <td>True</td>\n",
       "      <td>True</td>\n",
       "      <td>True</td>\n",
       "      <td>True</td>\n",
       "      <td>True</td>\n",
       "      <td>False</td>\n",
       "      <td>False</td>\n",
       "      <td>Cruel</td>\n",
       "    </tr>\n",
       "    <tr>\n",
       "      <th>54</th>\n",
       "      <td>zork3</td>\n",
       "      <td>67</td>\n",
       "      <td>273</td>\n",
       "      <td>39</td>\n",
       "      <td>True</td>\n",
       "      <td>True</td>\n",
       "      <td>True</td>\n",
       "      <td>False</td>\n",
       "      <td>True</td>\n",
       "      <td>Difficult</td>\n",
       "      <td>...</td>\n",
       "      <td>7.0</td>\n",
       "      <td>True</td>\n",
       "      <td>True</td>\n",
       "      <td>True</td>\n",
       "      <td>True</td>\n",
       "      <td>True</td>\n",
       "      <td>True</td>\n",
       "      <td>True</td>\n",
       "      <td>True</td>\n",
       "      <td>Cruel</td>\n",
       "    </tr>\n",
       "    <tr>\n",
       "      <th>55</th>\n",
       "      <td>ztuu</td>\n",
       "      <td>64</td>\n",
       "      <td>84</td>\n",
       "      <td>5</td>\n",
       "      <td>True</td>\n",
       "      <td>False</td>\n",
       "      <td>True</td>\n",
       "      <td>False</td>\n",
       "      <td>False</td>\n",
       "      <td>Possible</td>\n",
       "      <td>...</td>\n",
       "      <td>100.0</td>\n",
       "      <td>True</td>\n",
       "      <td>True</td>\n",
       "      <td>False</td>\n",
       "      <td>False</td>\n",
       "      <td>True</td>\n",
       "      <td>True</td>\n",
       "      <td>True</td>\n",
       "      <td>True</td>\n",
       "      <td>Tough</td>\n",
       "    </tr>\n",
       "  </tbody>\n",
       "</table>\n",
       "<p>56 rows × 22 columns</p>\n",
       "</div>"
      ],
      "text/plain": [
       "         Filename  Template Action  Solution  Avg. Steps  Stochastic  Dialog  \\\n",
       "0             905                7        22          22       False   False   \n",
       "1      acorncourt               17        17           8       False   False   \n",
       "2          advent              107       277           7        True   False   \n",
       "3   adventureland               23       170          13        True   False   \n",
       "4       afflicted               79        98           7       False   False   \n",
       "5          anchor             1268       531          15        True    True   \n",
       "6          awaken               37        57           8       False   False   \n",
       "7        balances               30       122          12       False   False   \n",
       "8        ballyhoo              310       416          21       False    True   \n",
       "9          curses              398       816           9        True    True   \n",
       "10      cutthroat              185       336          34        True   False   \n",
       "11       deephome               93       327           6        True    True   \n",
       "12      detective               19        51           2       False   False   \n",
       "13         dragon              182       101           9        True   False   \n",
       "14      enchanter              151       265          15        True   False   \n",
       "15          enter               32       102           5       False    True   \n",
       "16           gold               97       345          10        True    True   \n",
       "17           hhgg              277       361          20        True    True   \n",
       "18      hollywood              216       397          28        True   False   \n",
       "19       huntdark               45        67          67       False   False   \n",
       "20        infidel              102       226          10       False   False   \n",
       "21       inhumane               22       123          14       False   False   \n",
       "22          jewel               65       223           8       False    True   \n",
       "23           karn               63       362          17        True    True   \n",
       "24        library               37        52           5       False    True   \n",
       "25          loose              311        51           5       False    True   \n",
       "26        lostpig             1118       146          18       False    True   \n",
       "27       ludicorp               45       364           4       False   False   \n",
       "28        lurking              207       294          15        True    True   \n",
       "29        moonlit               70        59          59       False   False   \n",
       "30         murdac               10       304           4        True   False   \n",
       "31          night               34        90          18       False    True   \n",
       "32      omniquest               37        78          13       False   False   \n",
       "33      partyfoul               81        56          56        True   False   \n",
       "34        pentari               32        34           5        True   False   \n",
       "35     planetfall               96       399          18        True   False   \n",
       "36      plundered              242       188           8       False   False   \n",
       "37         reverb               47        74           6       False    True   \n",
       "38     seastalker              243       204           8       False    True   \n",
       "39       sherlock              739       339          10        True    True   \n",
       "40      snacktime               42        34           8       False   False   \n",
       "41       sorcerer              296       254          11        True   False   \n",
       "42      spellbrkr              236       412          13        True   False   \n",
       "43         spirit              195      1264          21       False    True   \n",
       "44         temple               63       182          20       False   False   \n",
       "45        theatre              167       296          14       False    True   \n",
       "46        trinity             2274       610          12       False    True   \n",
       "47       tryst205              141       518          12       False    True   \n",
       "48         weapon               42        72          72       False    True   \n",
       "49    wishbringer              312       184           5        True    True   \n",
       "50        yomomma               50        98           6       False    True   \n",
       "51          zenon               22        83          17       False    True   \n",
       "52          zork1              114       400           9        True   False   \n",
       "53          zork2              112       296          11        True    True   \n",
       "54          zork3               67       273          39        True    True   \n",
       "55           ztuu               64        84           5        True   False   \n",
       "\n",
       "    Darkness  Nonstandard Action  Inventory Difficulty  ... Max Score   Maze  \\\n",
       "0      False               False      False   Possible  ...       NaN  False   \n",
       "1      False               False      False   Possible  ...      30.0  False   \n",
       "2       True                True       True  Difficult  ...     350.0   True   \n",
       "3       True               False       True   Possible  ...     100.0   True   \n",
       "4       True               False      False   Possible  ...      75.0  False   \n",
       "5       True               False      False    Extreme  ...     100.0  False   \n",
       "6      False               False      False   Possible  ...      50.0  False   \n",
       "7       True                True      False  Difficult  ...      51.0  False   \n",
       "8      False               False       True    Extreme  ...     300.0   True   \n",
       "9       True               False       True    Extreme  ...     550.0  False   \n",
       "10      True                True       True    Extreme  ...     250.0   True   \n",
       "11     False                True       True  Difficult  ...     300.0   True   \n",
       "12     False               False      False   Possible  ...     360.0  False   \n",
       "13      True               False       True   Possible  ...      25.0  False   \n",
       "14      True                True       True    Extreme  ...     400.0   True   \n",
       "15     False               False      False  Difficult  ...      10.0  False   \n",
       "16     False               False      False  Difficult  ...     100.0   True   \n",
       "17      True               False       True    Extreme  ...     100.0   True   \n",
       "18      True               False      False  Difficult  ...     150.0   True   \n",
       "19     False               False      False  Difficult  ...       1.0   True   \n",
       "20      True               False       True   Possible  ...     400.0   True   \n",
       "21     False               False      False   Possible  ...     400.0   True   \n",
       "22     False               False      False  Difficult  ...      90.0   True   \n",
       "23      True               False      False  Difficult  ...     170.0  False   \n",
       "24     False                True      False   Possible  ...      30.0  False   \n",
       "25     False                True      False   Possible  ...      50.0  False   \n",
       "26      True               False      False  Difficult  ...       7.0  False   \n",
       "27     False                True       True  Difficult  ...     150.0   True   \n",
       "28      True               False       True  Difficult  ...     100.0   True   \n",
       "29     False               False      False   Possible  ...       1.0  False   \n",
       "30      True                True       True  Difficult  ...     250.0   True   \n",
       "31      True                True      False  Difficult  ...      10.0   True   \n",
       "32      True               False      False   Possible  ...      50.0  False   \n",
       "33     False               False      False  Difficult  ...       NaN  False   \n",
       "34     False                True      False   Possible  ...      70.0  False   \n",
       "35     False               False       True    Extreme  ...      80.0  False   \n",
       "36     False               False      False  Difficult  ...      25.0  False   \n",
       "37     False               False      False   Possible  ...      50.0  False   \n",
       "38     False               False      False  Difficult  ...     100.0  False   \n",
       "39     False               False       True    Extreme  ...     100.0  False   \n",
       "40     False               False      False   Possible  ...      50.0  False   \n",
       "41      True                True       True    Extreme  ...     400.0   True   \n",
       "42      True                True       True    Extreme  ...     600.0   True   \n",
       "43      True                True       True    Extreme  ...     250.0   True   \n",
       "44     False               False      False   Possible  ...      35.0  False   \n",
       "45     False               False      False  Difficult  ...      50.0  False   \n",
       "46      True               False       True    Extreme  ...     100.0   True   \n",
       "47     False                True       True    Extreme  ...     350.0   True   \n",
       "48     False               False      False  Difficult  ...       1.0  False   \n",
       "49     False               False       True  Difficult  ...     100.0   True   \n",
       "50     False               False      False  Difficult  ...      35.0  False   \n",
       "51     False               False      False  Difficult  ...      20.0  False   \n",
       "52      True               False       True  Difficult  ...     350.0   True   \n",
       "53      True               False       True  Difficult  ...     400.0   True   \n",
       "54      True               False       True  Difficult  ...       7.0   True   \n",
       "55      True               False      False   Possible  ...     100.0   True   \n",
       "\n",
       "    Trivia  Self-Maintenance  Combat   Time  Mechanical Puzzle  Persistence  \\\n",
       "0    False             False   False  False              False        False   \n",
       "1    False             False   False  False               True        False   \n",
       "2     True             False    True   True               True         True   \n",
       "3     True             False    True   True               True         True   \n",
       "4    False              True    True   True               True        False   \n",
       "5     True             False    True   True              False         True   \n",
       "6     True             False    True   True               True         True   \n",
       "7     True             False   False  False               True        False   \n",
       "8     True              True   False   True               True        False   \n",
       "9     True             False   False   True              False         True   \n",
       "10   False              True    True   True               True         True   \n",
       "11   False             False    True   True               True         True   \n",
       "12   False             False    True  False              False        False   \n",
       "13   False             False    True  False              False        False   \n",
       "14   False              True    True   True               True         True   \n",
       "15    True             False   False   True              False         True   \n",
       "16    True             False   False  False               True        False   \n",
       "17    True              True   False   True               True         True   \n",
       "18    True             False    True  False               True        False   \n",
       "19   False             False    True   True              False         True   \n",
       "20    True              True   False  False               True        False   \n",
       "21    True             False   False  False               True        False   \n",
       "22   False             False    True  False               True         True   \n",
       "23    True             False   False   True               True         True   \n",
       "24    True             False   False  False              False        False   \n",
       "25    True             False   False  False              False        False   \n",
       "26   False             False   False  False               True        False   \n",
       "27   False             False   False  False               True        False   \n",
       "28   False              True    True   True               True         True   \n",
       "29   False             False   False  False               True        False   \n",
       "30   False             False    True   True              False        False   \n",
       "31    True             False   False  False              False        False   \n",
       "32    True             False    True  False              False        False   \n",
       "33    True             False   False   True               True        False   \n",
       "34   False             False    True   True              False        False   \n",
       "35   False              True    True   True               True         True   \n",
       "36    True             False    True   True               True        False   \n",
       "37    True             False    True   True               True        False   \n",
       "38   False             False    True   True               True         True   \n",
       "39    True             False    True   True               True         True   \n",
       "40    True             False   False   True               True         True   \n",
       "41    True              True    True   True               True         True   \n",
       "42    True             False    True   True               True         True   \n",
       "43    True              True    True   True               True         True   \n",
       "44    True             False    True   True              False         True   \n",
       "45    True             False    True   True               True         True   \n",
       "46    True             False   False   True               True        False   \n",
       "47    True             False    True   True               True         True   \n",
       "48    True             False   False   True               True         True   \n",
       "49   False             False    True   True               True         True   \n",
       "50    True             False   False  False               True        False   \n",
       "51   False             False   False   True              False        False   \n",
       "52    True              True    True   True               True         True   \n",
       "53    True              True    True   True               True        False   \n",
       "54    True              True    True   True               True         True   \n",
       "55    True             False   False   True               True         True   \n",
       "\n",
       "    Stochasticity  Forgiveness  \n",
       "0           False       Polite  \n",
       "1           False     Merciful  \n",
       "2           False        Tough  \n",
       "3            True        Tough  \n",
       "4           False       Polite  \n",
       "5           False        Cruel  \n",
       "6           False       Polite  \n",
       "7           False       Polite  \n",
       "8            True        Tough  \n",
       "9            True       Polite  \n",
       "10           True       Polite  \n",
       "11          False       Polite  \n",
       "12          False        Cruel  \n",
       "13          False     Merciful  \n",
       "14           True        Cruel  \n",
       "15          False     Merciful  \n",
       "16          False       Polite  \n",
       "17           True        Cruel  \n",
       "18          False        Nasty  \n",
       "19           True        Cruel  \n",
       "20          False        Cruel  \n",
       "21          False       Polite  \n",
       "22           True        Tough  \n",
       "23           True        Nasty  \n",
       "24          False     Merciful  \n",
       "25          False     Merciful  \n",
       "26          False     Merciful  \n",
       "27          False       Polite  \n",
       "28          False       Polite  \n",
       "29          False     Merciful  \n",
       "30           True        Nasty  \n",
       "31          False     Merciful  \n",
       "32          False       Polite  \n",
       "33           True     Merciful  \n",
       "34           True       Polite  \n",
       "35           True       Polite  \n",
       "36          False       Polite  \n",
       "37          False       Polite  \n",
       "38          False        Nasty  \n",
       "39           True        Nasty  \n",
       "40          False       Polite  \n",
       "41           True        Nasty  \n",
       "42           True        Cruel  \n",
       "43           True       Polite  \n",
       "44          False       Polite  \n",
       "45          False       Polite  \n",
       "46           True        Tough  \n",
       "47           True       Polite  \n",
       "48          False       Polite  \n",
       "49           True        Tough  \n",
       "50           True     Merciful  \n",
       "51          False       Polite  \n",
       "52           True        Cruel  \n",
       "53          False        Cruel  \n",
       "54           True        Cruel  \n",
       "55           True        Tough  \n",
       "\n",
       "[56 rows x 22 columns]"
      ]
     },
     "execution_count": 54,
     "metadata": {},
     "output_type": "execute_result"
    }
   ],
   "source": [
    "# Load game_infos.tsv\n",
    "import pandas as pd\n",
    "game_infos = pd.read_csv(\"game_infos.tsv\", sep=\"\\t\")\n",
    "game_infos"
   ]
  },
  {
   "cell_type": "code",
   "execution_count": 327,
   "metadata": {},
   "outputs": [
    {
     "data": {
      "text/html": [
       "<div>\n",
       "<style scoped>\n",
       "    .dataframe tbody tr th:only-of-type {\n",
       "        vertical-align: middle;\n",
       "    }\n",
       "\n",
       "    .dataframe tbody tr th {\n",
       "        vertical-align: top;\n",
       "    }\n",
       "\n",
       "    .dataframe thead th {\n",
       "        text-align: right;\n",
       "    }\n",
       "</style>\n",
       "<table border=\"1\" class=\"dataframe\">\n",
       "  <thead>\n",
       "    <tr style=\"text-align: right;\">\n",
       "      <th></th>\n",
       "      <th>game</th>\n",
       "      <th>model</th>\n",
       "      <th>Max Normalized Score</th>\n",
       "      <th>Stochastic</th>\n",
       "      <th>Dialog</th>\n",
       "      <th>Darkness</th>\n",
       "      <th>Nonstandard Action</th>\n",
       "      <th>Inventory</th>\n",
       "      <th>Maze</th>\n",
       "      <th>Trivia</th>\n",
       "      <th>Self-Maintenance</th>\n",
       "      <th>Combat</th>\n",
       "      <th>Time</th>\n",
       "      <th>Mechanical Puzzle</th>\n",
       "      <th>Persistence</th>\n",
       "      <th>Difficulty</th>\n",
       "    </tr>\n",
       "  </thead>\n",
       "  <tbody>\n",
       "    <tr>\n",
       "      <th>0</th>\n",
       "      <td>905.z5</td>\n",
       "      <td>phi-3-medium-128k-instruct-1</td>\n",
       "      <td>0.0</td>\n",
       "      <td>False</td>\n",
       "      <td>False</td>\n",
       "      <td>False</td>\n",
       "      <td>False</td>\n",
       "      <td>False</td>\n",
       "      <td>False</td>\n",
       "      <td>False</td>\n",
       "      <td>False</td>\n",
       "      <td>False</td>\n",
       "      <td>False</td>\n",
       "      <td>False</td>\n",
       "      <td>False</td>\n",
       "      <td>Possible</td>\n",
       "    </tr>\n",
       "    <tr>\n",
       "      <th>134</th>\n",
       "      <td>905.z5</td>\n",
       "      <td>gpt-4o</td>\n",
       "      <td>0.0</td>\n",
       "      <td>False</td>\n",
       "      <td>False</td>\n",
       "      <td>False</td>\n",
       "      <td>False</td>\n",
       "      <td>False</td>\n",
       "      <td>False</td>\n",
       "      <td>False</td>\n",
       "      <td>False</td>\n",
       "      <td>False</td>\n",
       "      <td>False</td>\n",
       "      <td>False</td>\n",
       "      <td>False</td>\n",
       "      <td>Possible</td>\n",
       "    </tr>\n",
       "    <tr>\n",
       "      <th>213</th>\n",
       "      <td>905.z5</td>\n",
       "      <td>microsoft/Phi-3-mini-128k-instruct</td>\n",
       "      <td>0.0</td>\n",
       "      <td>False</td>\n",
       "      <td>False</td>\n",
       "      <td>False</td>\n",
       "      <td>False</td>\n",
       "      <td>False</td>\n",
       "      <td>False</td>\n",
       "      <td>False</td>\n",
       "      <td>False</td>\n",
       "      <td>False</td>\n",
       "      <td>False</td>\n",
       "      <td>False</td>\n",
       "      <td>False</td>\n",
       "      <td>Possible</td>\n",
       "    </tr>\n",
       "    <tr>\n",
       "      <th>8</th>\n",
       "      <td>905.z5</td>\n",
       "      <td>meta-llama-3-70b-instruct-4</td>\n",
       "      <td>0.0</td>\n",
       "      <td>False</td>\n",
       "      <td>False</td>\n",
       "      <td>False</td>\n",
       "      <td>False</td>\n",
       "      <td>False</td>\n",
       "      <td>False</td>\n",
       "      <td>False</td>\n",
       "      <td>False</td>\n",
       "      <td>False</td>\n",
       "      <td>False</td>\n",
       "      <td>False</td>\n",
       "      <td>False</td>\n",
       "      <td>Possible</td>\n",
       "    </tr>\n",
       "    <tr>\n",
       "      <th>47</th>\n",
       "      <td>905.z5</td>\n",
       "      <td>microsoft/Phi-3.5-mini-instruct</td>\n",
       "      <td>0.0</td>\n",
       "      <td>False</td>\n",
       "      <td>False</td>\n",
       "      <td>False</td>\n",
       "      <td>False</td>\n",
       "      <td>False</td>\n",
       "      <td>False</td>\n",
       "      <td>False</td>\n",
       "      <td>False</td>\n",
       "      <td>False</td>\n",
       "      <td>False</td>\n",
       "      <td>False</td>\n",
       "      <td>False</td>\n",
       "      <td>Possible</td>\n",
       "    </tr>\n",
       "    <tr>\n",
       "      <th>...</th>\n",
       "      <td>...</td>\n",
       "      <td>...</td>\n",
       "      <td>...</td>\n",
       "      <td>...</td>\n",
       "      <td>...</td>\n",
       "      <td>...</td>\n",
       "      <td>...</td>\n",
       "      <td>...</td>\n",
       "      <td>...</td>\n",
       "      <td>...</td>\n",
       "      <td>...</td>\n",
       "      <td>...</td>\n",
       "      <td>...</td>\n",
       "      <td>...</td>\n",
       "      <td>...</td>\n",
       "      <td>...</td>\n",
       "    </tr>\n",
       "    <tr>\n",
       "      <th>212</th>\n",
       "      <td>ztuu.z5</td>\n",
       "      <td>gpt-4o</td>\n",
       "      <td>19.0</td>\n",
       "      <td>True</td>\n",
       "      <td>False</td>\n",
       "      <td>True</td>\n",
       "      <td>False</td>\n",
       "      <td>False</td>\n",
       "      <td>True</td>\n",
       "      <td>True</td>\n",
       "      <td>False</td>\n",
       "      <td>False</td>\n",
       "      <td>True</td>\n",
       "      <td>True</td>\n",
       "      <td>True</td>\n",
       "      <td>Possible</td>\n",
       "    </tr>\n",
       "    <tr>\n",
       "      <th>178</th>\n",
       "      <td>ztuu.z5</td>\n",
       "      <td>phi-3-medium-128k-instruct-1</td>\n",
       "      <td>5.0</td>\n",
       "      <td>True</td>\n",
       "      <td>False</td>\n",
       "      <td>True</td>\n",
       "      <td>False</td>\n",
       "      <td>False</td>\n",
       "      <td>True</td>\n",
       "      <td>True</td>\n",
       "      <td>False</td>\n",
       "      <td>False</td>\n",
       "      <td>True</td>\n",
       "      <td>True</td>\n",
       "      <td>True</td>\n",
       "      <td>Possible</td>\n",
       "    </tr>\n",
       "    <tr>\n",
       "      <th>265</th>\n",
       "      <td>ztuu.z5</td>\n",
       "      <td>microsoft/Phi-3-mini-128k-instruct</td>\n",
       "      <td>0.0</td>\n",
       "      <td>True</td>\n",
       "      <td>False</td>\n",
       "      <td>True</td>\n",
       "      <td>False</td>\n",
       "      <td>False</td>\n",
       "      <td>True</td>\n",
       "      <td>True</td>\n",
       "      <td>False</td>\n",
       "      <td>False</td>\n",
       "      <td>True</td>\n",
       "      <td>True</td>\n",
       "      <td>True</td>\n",
       "      <td>Possible</td>\n",
       "    </tr>\n",
       "    <tr>\n",
       "      <th>118</th>\n",
       "      <td>ztuu.z5</td>\n",
       "      <td>microsoft/Phi-3.5-mini-instruct</td>\n",
       "      <td>0.0</td>\n",
       "      <td>True</td>\n",
       "      <td>False</td>\n",
       "      <td>True</td>\n",
       "      <td>False</td>\n",
       "      <td>False</td>\n",
       "      <td>True</td>\n",
       "      <td>True</td>\n",
       "      <td>False</td>\n",
       "      <td>False</td>\n",
       "      <td>True</td>\n",
       "      <td>True</td>\n",
       "      <td>True</td>\n",
       "      <td>Possible</td>\n",
       "    </tr>\n",
       "    <tr>\n",
       "      <th>319</th>\n",
       "      <td>ztuu.z5</td>\n",
       "      <td>random-agent</td>\n",
       "      <td>5.0</td>\n",
       "      <td>True</td>\n",
       "      <td>False</td>\n",
       "      <td>True</td>\n",
       "      <td>False</td>\n",
       "      <td>False</td>\n",
       "      <td>True</td>\n",
       "      <td>True</td>\n",
       "      <td>False</td>\n",
       "      <td>False</td>\n",
       "      <td>True</td>\n",
       "      <td>True</td>\n",
       "      <td>True</td>\n",
       "      <td>Possible</td>\n",
       "    </tr>\n",
       "  </tbody>\n",
       "</table>\n",
       "<p>320 rows × 16 columns</p>\n",
       "</div>"
      ],
      "text/plain": [
       "        game                               model  Max Normalized Score  \\\n",
       "0     905.z5        phi-3-medium-128k-instruct-1                   0.0   \n",
       "134   905.z5                              gpt-4o                   0.0   \n",
       "213   905.z5  microsoft/Phi-3-mini-128k-instruct                   0.0   \n",
       "8     905.z5         meta-llama-3-70b-instruct-4                   0.0   \n",
       "47    905.z5     microsoft/Phi-3.5-mini-instruct                   0.0   \n",
       "..       ...                                 ...                   ...   \n",
       "212  ztuu.z5                              gpt-4o                  19.0   \n",
       "178  ztuu.z5        phi-3-medium-128k-instruct-1                   5.0   \n",
       "265  ztuu.z5  microsoft/Phi-3-mini-128k-instruct                   0.0   \n",
       "118  ztuu.z5     microsoft/Phi-3.5-mini-instruct                   0.0   \n",
       "319  ztuu.z5                        random-agent                   5.0   \n",
       "\n",
       "    Stochastic Dialog Darkness Nonstandard Action Inventory   Maze Trivia  \\\n",
       "0        False  False    False              False     False  False  False   \n",
       "134      False  False    False              False     False  False  False   \n",
       "213      False  False    False              False     False  False  False   \n",
       "8        False  False    False              False     False  False  False   \n",
       "47       False  False    False              False     False  False  False   \n",
       "..         ...    ...      ...                ...       ...    ...    ...   \n",
       "212       True  False     True              False     False   True   True   \n",
       "178       True  False     True              False     False   True   True   \n",
       "265       True  False     True              False     False   True   True   \n",
       "118       True  False     True              False     False   True   True   \n",
       "319       True  False     True              False     False   True   True   \n",
       "\n",
       "    Self-Maintenance Combat   Time Mechanical Puzzle Persistence Difficulty  \n",
       "0              False  False  False             False       False   Possible  \n",
       "134            False  False  False             False       False   Possible  \n",
       "213            False  False  False             False       False   Possible  \n",
       "8              False  False  False             False       False   Possible  \n",
       "47             False  False  False             False       False   Possible  \n",
       "..               ...    ...    ...               ...         ...        ...  \n",
       "212            False  False   True              True        True   Possible  \n",
       "178            False  False   True              True        True   Possible  \n",
       "265            False  False   True              True        True   Possible  \n",
       "118            False  False   True              True        True   Possible  \n",
       "319            False  False   True              True        True   Possible  \n",
       "\n",
       "[320 rows x 16 columns]"
      ]
     },
     "execution_count": 327,
     "metadata": {},
     "output_type": "execute_result"
    }
   ],
   "source": [
    "# Conver Wandb RUNS to a pandas dataframe\n",
    "import pandas as pd\n",
    "import numpy as np\n",
    "runs_data = []\n",
    "for run in runs:\n",
    "    run_data = dict(run.summary)\n",
    "    run_data[\"model\"] = run.config[\"model\"]\n",
    "    run_data[\"game\"] = run.config[\"game\"]\n",
    "    #run_data[\"game_description\"] = game_infos[game_infos[\"game\"] == run.config[\"game\"]][\"description\"].values[0]\n",
    "    runs_data.append(run_data)\n",
    "\n",
    "runs_df = pd.DataFrame(runs_data)\n",
    "\n",
    "categories = [\"Stochastic\", \"Dialog\", \"Darkness\", \"Nonstandard Action\", \"Inventory\", \"Maze\", \"Maze\", \"Trivia\", \"Self-Maintenance\", \"Combat\", \"Time\", \"Mechanical Puzzle\", \"Persistence\", \"Difficulty\"]\n",
    "ignore_categories = [\"Difficulty\"]\n",
    "\n",
    "# Keep game, model, Max Normalized Score\n",
    "runs_df = runs_df[[\"game\", \"model\", \"Max Normalized Score\"]]\n",
    "runs_df = runs_df.sort_values(by=\"game\")\n",
    "\n",
    "# For each game add columns with the following games infos: Stochastic, Dialog, Darkness, Nonstandard Action, Inventory, Difficulty\n",
    "for game in runs_df[\"game\"].unique():\n",
    "    game_info = game_infos[game_infos[\"Filename\"] == game.split(\".\")[0]]\n",
    "    for col in categories:\n",
    "        runs_df.loc[runs_df[\"game\"] == game, col] = game_info[col].values[0]\n",
    "\n",
    "runs_df\n"
   ]
  },
  {
   "cell_type": "code",
   "execution_count": 328,
   "metadata": {},
   "outputs": [
    {
     "data": {
      "text/html": [
       "<div>\n",
       "<style scoped>\n",
       "    .dataframe tbody tr th:only-of-type {\n",
       "        vertical-align: middle;\n",
       "    }\n",
       "\n",
       "    .dataframe tbody tr th {\n",
       "        vertical-align: top;\n",
       "    }\n",
       "\n",
       "    .dataframe thead th {\n",
       "        text-align: right;\n",
       "    }\n",
       "</style>\n",
       "<table border=\"1\" class=\"dataframe\">\n",
       "  <thead>\n",
       "    <tr style=\"text-align: right;\">\n",
       "      <th></th>\n",
       "      <th>model</th>\n",
       "      <th>feature</th>\n",
       "      <th>score</th>\n",
       "    </tr>\n",
       "  </thead>\n",
       "  <tbody>\n",
       "    <tr>\n",
       "      <th>0</th>\n",
       "      <td>gpt-4o</td>\n",
       "      <td>Stochastic</td>\n",
       "      <td>6.066962</td>\n",
       "    </tr>\n",
       "    <tr>\n",
       "      <th>1</th>\n",
       "      <td>meta-llama-3-70b-instruct-4</td>\n",
       "      <td>Stochastic</td>\n",
       "      <td>5.299504</td>\n",
       "    </tr>\n",
       "    <tr>\n",
       "      <th>2</th>\n",
       "      <td>microsoft/Phi-3-mini-128k-instruct</td>\n",
       "      <td>Stochastic</td>\n",
       "      <td>0.823593</td>\n",
       "    </tr>\n",
       "    <tr>\n",
       "      <th>3</th>\n",
       "      <td>microsoft/Phi-3.5-mini-instruct</td>\n",
       "      <td>Stochastic</td>\n",
       "      <td>0.885611</td>\n",
       "    </tr>\n",
       "    <tr>\n",
       "      <th>4</th>\n",
       "      <td>phi-3-medium-128k-instruct-1</td>\n",
       "      <td>Stochastic</td>\n",
       "      <td>2.917702</td>\n",
       "    </tr>\n",
       "    <tr>\n",
       "      <th>...</th>\n",
       "      <td>...</td>\n",
       "      <td>...</td>\n",
       "      <td>...</td>\n",
       "    </tr>\n",
       "    <tr>\n",
       "      <th>67</th>\n",
       "      <td>meta-llama-3-70b-instruct-4</td>\n",
       "      <td>Persistence</td>\n",
       "      <td>6.334042</td>\n",
       "    </tr>\n",
       "    <tr>\n",
       "      <th>68</th>\n",
       "      <td>microsoft/Phi-3-mini-128k-instruct</td>\n",
       "      <td>Persistence</td>\n",
       "      <td>2.383700</td>\n",
       "    </tr>\n",
       "    <tr>\n",
       "      <th>69</th>\n",
       "      <td>microsoft/Phi-3.5-mini-instruct</td>\n",
       "      <td>Persistence</td>\n",
       "      <td>1.532187</td>\n",
       "    </tr>\n",
       "    <tr>\n",
       "      <th>70</th>\n",
       "      <td>phi-3-medium-128k-instruct-1</td>\n",
       "      <td>Persistence</td>\n",
       "      <td>4.361264</td>\n",
       "    </tr>\n",
       "    <tr>\n",
       "      <th>71</th>\n",
       "      <td>random-agent</td>\n",
       "      <td>Persistence</td>\n",
       "      <td>1.029847</td>\n",
       "    </tr>\n",
       "  </tbody>\n",
       "</table>\n",
       "<p>72 rows × 3 columns</p>\n",
       "</div>"
      ],
      "text/plain": [
       "                                 model      feature     score\n",
       "0                               gpt-4o   Stochastic  6.066962\n",
       "1          meta-llama-3-70b-instruct-4   Stochastic  5.299504\n",
       "2   microsoft/Phi-3-mini-128k-instruct   Stochastic  0.823593\n",
       "3      microsoft/Phi-3.5-mini-instruct   Stochastic  0.885611\n",
       "4         phi-3-medium-128k-instruct-1   Stochastic  2.917702\n",
       "..                                 ...          ...       ...\n",
       "67         meta-llama-3-70b-instruct-4  Persistence  6.334042\n",
       "68  microsoft/Phi-3-mini-128k-instruct  Persistence  2.383700\n",
       "69     microsoft/Phi-3.5-mini-instruct  Persistence  1.532187\n",
       "70        phi-3-medium-128k-instruct-1  Persistence  4.361264\n",
       "71                        random-agent  Persistence  1.029847\n",
       "\n",
       "[72 rows x 3 columns]"
      ]
     },
     "execution_count": 328,
     "metadata": {},
     "output_type": "execute_result"
    }
   ],
   "source": [
    "# Compute the average score for binary features: \"Stochastic\", \"Dialog\", \"Darkness\", \"Nonstandard Action\", \"Inventory\"\n",
    "# and augment the dataframe with these values\n",
    "\n",
    "radar_df = pd.DataFrame()\n",
    "\n",
    "for col in categories:\n",
    "    if col in ignore_categories:\n",
    "        continue\n",
    "    radar_df[col] = runs_df.groupby([\"model\", col])[\"Max Normalized Score\"].mean().unstack()[True]\n",
    "\n",
    "radar_df.reset_index(inplace=True)\n",
    "\n",
    "# Convert to three columns format: model, feature, score\n",
    "radar_df = radar_df.melt(id_vars=[\"model\"], var_name=\"feature\", value_name=\"score\")\n",
    "radar_df"
   ]
  },
  {
   "cell_type": "code",
   "execution_count": 334,
   "metadata": {},
   "outputs": [
    {
     "data": {
      "application/vnd.plotly.v1+json": {
       "config": {
        "plotlyServerURL": "https://plot.ly"
       },
       "data": [
        {
         "hovertemplate": "model=gpt-4o<br>score=%{r}<br>feature=%{theta}<extra></extra>",
         "legendgroup": "gpt-4o",
         "line": {
          "color": "#636efa",
          "dash": "solid"
         },
         "marker": {
          "symbol": "circle"
         },
         "mode": "lines",
         "name": "gpt-4o",
         "r": [
          6.066961826052736,
          8.22103775853776,
          8.693169916187818,
          10.208459383753501,
          5.5295609152752005,
          6.353306878306879,
          9.523811067126575,
          7.887301587301587,
          11.490052910052912,
          7.203450834879406,
          8.243927120397709,
          8.33580781358559,
          6.066961826052736
         ],
         "showlegend": true,
         "subplot": "polar",
         "theta": [
          "Stochastic",
          "Dialog",
          "Darkness",
          "Nonstandard Action",
          "Inventory",
          "Maze",
          "Trivia",
          "Self-Maintenance",
          "Combat",
          "Time",
          "Mechanical Puzzle",
          "Persistence",
          "Stochastic"
         ],
         "type": "scatterpolar"
        },
        {
         "hovertemplate": "model=meta-llama-3-70b-instruct-4<br>score=%{r}<br>feature=%{theta}<extra></extra>",
         "legendgroup": "meta-llama-3-70b-instruct-4",
         "line": {
          "color": "#EF553B",
          "dash": "solid"
         },
         "marker": {
          "symbol": "circle"
         },
         "mode": "lines",
         "name": "meta-llama-3-70b-instruct-4",
         "r": [
          5.299503968253968,
          4.966031746031746,
          6.458980392156863,
          6.360205415499533,
          5.638419913419913,
          5.01990231990232,
          5.0805528093590375,
          6.299450549450549,
          7.590552995391705,
          5.818716931216931,
          6.630258086140439,
          6.334041950113379,
          5.299503968253968
         ],
         "showlegend": true,
         "subplot": "polar",
         "theta": [
          "Stochastic",
          "Dialog",
          "Darkness",
          "Nonstandard Action",
          "Inventory",
          "Maze",
          "Trivia",
          "Self-Maintenance",
          "Combat",
          "Time",
          "Mechanical Puzzle",
          "Persistence",
          "Stochastic"
         ],
         "type": "scatterpolar"
        },
        {
         "hovertemplate": "model=microsoft/Phi-3-mini-128k-instruct<br>score=%{r}<br>feature=%{theta}<extra></extra>",
         "legendgroup": "microsoft/Phi-3-mini-128k-instruct",
         "line": {
          "color": "#00cc96",
          "dash": "solid"
         },
         "marker": {
          "symbol": "circle"
         },
         "mode": "lines",
         "name": "microsoft/Phi-3-mini-128k-instruct",
         "r": [
          0.8235930735930737,
          1.6493506493506493,
          1.6661490683229814,
          2.646825396825397,
          1.1392857142857142,
          0.7931547619047619,
          2.736235119047619,
          0.45454545454545453,
          2.451530612244898,
          1.8780663780663782,
          1.6130952380952381,
          2.383699633699634,
          0.8235930735930737
         ],
         "showlegend": true,
         "subplot": "polar",
         "theta": [
          "Stochastic",
          "Dialog",
          "Darkness",
          "Nonstandard Action",
          "Inventory",
          "Maze",
          "Trivia",
          "Self-Maintenance",
          "Combat",
          "Time",
          "Mechanical Puzzle",
          "Persistence",
          "Stochastic"
         ],
         "type": "scatterpolar"
        },
        {
         "hovertemplate": "model=microsoft/Phi-3.5-mini-instruct<br>score=%{r}<br>feature=%{theta}<extra></extra>",
         "legendgroup": "microsoft/Phi-3.5-mini-instruct",
         "line": {
          "color": "#ab63fa",
          "dash": "solid"
         },
         "marker": {
          "symbol": "circle"
         },
         "mode": "lines",
         "name": "microsoft/Phi-3.5-mini-instruct",
         "r": [
          0.8856107660455487,
          0.9007936507936508,
          1.5967261904761905,
          1.1801587301587302,
          1.1286848072562359,
          0.9480952380952381,
          1.2951680672268908,
          0.10416666666666667,
          1.6011904761904765,
          1.1819727891156464,
          1.5523182957393484,
          1.5321869488536155,
          0.8856107660455487
         ],
         "showlegend": true,
         "subplot": "polar",
         "theta": [
          "Stochastic",
          "Dialog",
          "Darkness",
          "Nonstandard Action",
          "Inventory",
          "Maze",
          "Trivia",
          "Self-Maintenance",
          "Combat",
          "Time",
          "Mechanical Puzzle",
          "Persistence",
          "Stochastic"
         ],
         "type": "scatterpolar"
        },
        {
         "hovertemplate": "model=phi-3-medium-128k-instruct-1<br>score=%{r}<br>feature=%{theta}<extra></extra>",
         "legendgroup": "phi-3-medium-128k-instruct-1",
         "line": {
          "color": "#FFA15A",
          "dash": "solid"
         },
         "marker": {
          "symbol": "circle"
         },
         "mode": "lines",
         "name": "phi-3-medium-128k-instruct-1",
         "r": [
          2.9177018633540373,
          4.730848861283644,
          4.547881652661065,
          5.476640656262505,
          3.405357142857143,
          3.0461309523809526,
          4.521114506408624,
          3.2351190476190474,
          3.96494708994709,
          3.335084033613445,
          3.60763494587024,
          4.361263736263736,
          2.9177018633540373
         ],
         "showlegend": true,
         "subplot": "polar",
         "theta": [
          "Stochastic",
          "Dialog",
          "Darkness",
          "Nonstandard Action",
          "Inventory",
          "Maze",
          "Trivia",
          "Self-Maintenance",
          "Combat",
          "Time",
          "Mechanical Puzzle",
          "Persistence",
          "Stochastic"
         ],
         "type": "scatterpolar"
        },
        {
         "hovertemplate": "model=random-agent<br>score=%{r}<br>feature=%{theta}<extra></extra>",
         "legendgroup": "random-agent",
         "line": {
          "color": "#19d3f3",
          "dash": "solid"
         },
         "marker": {
          "symbol": "circle"
         },
         "mode": "lines",
         "name": "random-agent",
         "r": [
          1.2598214285714286,
          0.8967619047619049,
          1.5595238095238095,
          2.0023809523809524,
          1.6379870129870129,
          1.5782967032967032,
          0.632422969187675,
          0.1576923076923077,
          1.5889656938044034,
          0.8898809523809523,
          1.3620879120879121,
          1.0298469387755103,
          1.2598214285714286
         ],
         "showlegend": true,
         "subplot": "polar",
         "theta": [
          "Stochastic",
          "Dialog",
          "Darkness",
          "Nonstandard Action",
          "Inventory",
          "Maze",
          "Trivia",
          "Self-Maintenance",
          "Combat",
          "Time",
          "Mechanical Puzzle",
          "Persistence",
          "Stochastic"
         ],
         "type": "scatterpolar"
        }
       ],
       "layout": {
        "legend": {
         "orientation": "v",
         "title": {
          "text": ""
         },
         "tracegroupgap": 0,
         "x": 1,
         "xanchor": "right",
         "y": 1.02,
         "yanchor": "bottom"
        },
        "polar": {
         "angularaxis": {
          "direction": "clockwise",
          "rotation": 90
         },
         "domain": {
          "x": [
           0,
           1
          ],
          "y": [
           0,
           1
          ]
         },
         "radialaxis": {
          "range": [
           0,
           100
          ]
         }
        },
        "template": {
         "data": {
          "bar": [
           {
            "error_x": {
             "color": "#2a3f5f"
            },
            "error_y": {
             "color": "#2a3f5f"
            },
            "marker": {
             "line": {
              "color": "#E5ECF6",
              "width": 0.5
             },
             "pattern": {
              "fillmode": "overlay",
              "size": 10,
              "solidity": 0.2
             }
            },
            "type": "bar"
           }
          ],
          "barpolar": [
           {
            "marker": {
             "line": {
              "color": "#E5ECF6",
              "width": 0.5
             },
             "pattern": {
              "fillmode": "overlay",
              "size": 10,
              "solidity": 0.2
             }
            },
            "type": "barpolar"
           }
          ],
          "carpet": [
           {
            "aaxis": {
             "endlinecolor": "#2a3f5f",
             "gridcolor": "white",
             "linecolor": "white",
             "minorgridcolor": "white",
             "startlinecolor": "#2a3f5f"
            },
            "baxis": {
             "endlinecolor": "#2a3f5f",
             "gridcolor": "white",
             "linecolor": "white",
             "minorgridcolor": "white",
             "startlinecolor": "#2a3f5f"
            },
            "type": "carpet"
           }
          ],
          "choropleth": [
           {
            "colorbar": {
             "outlinewidth": 0,
             "ticks": ""
            },
            "type": "choropleth"
           }
          ],
          "contour": [
           {
            "colorbar": {
             "outlinewidth": 0,
             "ticks": ""
            },
            "colorscale": [
             [
              0,
              "#0d0887"
             ],
             [
              0.1111111111111111,
              "#46039f"
             ],
             [
              0.2222222222222222,
              "#7201a8"
             ],
             [
              0.3333333333333333,
              "#9c179e"
             ],
             [
              0.4444444444444444,
              "#bd3786"
             ],
             [
              0.5555555555555556,
              "#d8576b"
             ],
             [
              0.6666666666666666,
              "#ed7953"
             ],
             [
              0.7777777777777778,
              "#fb9f3a"
             ],
             [
              0.8888888888888888,
              "#fdca26"
             ],
             [
              1,
              "#f0f921"
             ]
            ],
            "type": "contour"
           }
          ],
          "contourcarpet": [
           {
            "colorbar": {
             "outlinewidth": 0,
             "ticks": ""
            },
            "type": "contourcarpet"
           }
          ],
          "heatmap": [
           {
            "colorbar": {
             "outlinewidth": 0,
             "ticks": ""
            },
            "colorscale": [
             [
              0,
              "#0d0887"
             ],
             [
              0.1111111111111111,
              "#46039f"
             ],
             [
              0.2222222222222222,
              "#7201a8"
             ],
             [
              0.3333333333333333,
              "#9c179e"
             ],
             [
              0.4444444444444444,
              "#bd3786"
             ],
             [
              0.5555555555555556,
              "#d8576b"
             ],
             [
              0.6666666666666666,
              "#ed7953"
             ],
             [
              0.7777777777777778,
              "#fb9f3a"
             ],
             [
              0.8888888888888888,
              "#fdca26"
             ],
             [
              1,
              "#f0f921"
             ]
            ],
            "type": "heatmap"
           }
          ],
          "heatmapgl": [
           {
            "colorbar": {
             "outlinewidth": 0,
             "ticks": ""
            },
            "colorscale": [
             [
              0,
              "#0d0887"
             ],
             [
              0.1111111111111111,
              "#46039f"
             ],
             [
              0.2222222222222222,
              "#7201a8"
             ],
             [
              0.3333333333333333,
              "#9c179e"
             ],
             [
              0.4444444444444444,
              "#bd3786"
             ],
             [
              0.5555555555555556,
              "#d8576b"
             ],
             [
              0.6666666666666666,
              "#ed7953"
             ],
             [
              0.7777777777777778,
              "#fb9f3a"
             ],
             [
              0.8888888888888888,
              "#fdca26"
             ],
             [
              1,
              "#f0f921"
             ]
            ],
            "type": "heatmapgl"
           }
          ],
          "histogram": [
           {
            "marker": {
             "pattern": {
              "fillmode": "overlay",
              "size": 10,
              "solidity": 0.2
             }
            },
            "type": "histogram"
           }
          ],
          "histogram2d": [
           {
            "colorbar": {
             "outlinewidth": 0,
             "ticks": ""
            },
            "colorscale": [
             [
              0,
              "#0d0887"
             ],
             [
              0.1111111111111111,
              "#46039f"
             ],
             [
              0.2222222222222222,
              "#7201a8"
             ],
             [
              0.3333333333333333,
              "#9c179e"
             ],
             [
              0.4444444444444444,
              "#bd3786"
             ],
             [
              0.5555555555555556,
              "#d8576b"
             ],
             [
              0.6666666666666666,
              "#ed7953"
             ],
             [
              0.7777777777777778,
              "#fb9f3a"
             ],
             [
              0.8888888888888888,
              "#fdca26"
             ],
             [
              1,
              "#f0f921"
             ]
            ],
            "type": "histogram2d"
           }
          ],
          "histogram2dcontour": [
           {
            "colorbar": {
             "outlinewidth": 0,
             "ticks": ""
            },
            "colorscale": [
             [
              0,
              "#0d0887"
             ],
             [
              0.1111111111111111,
              "#46039f"
             ],
             [
              0.2222222222222222,
              "#7201a8"
             ],
             [
              0.3333333333333333,
              "#9c179e"
             ],
             [
              0.4444444444444444,
              "#bd3786"
             ],
             [
              0.5555555555555556,
              "#d8576b"
             ],
             [
              0.6666666666666666,
              "#ed7953"
             ],
             [
              0.7777777777777778,
              "#fb9f3a"
             ],
             [
              0.8888888888888888,
              "#fdca26"
             ],
             [
              1,
              "#f0f921"
             ]
            ],
            "type": "histogram2dcontour"
           }
          ],
          "mesh3d": [
           {
            "colorbar": {
             "outlinewidth": 0,
             "ticks": ""
            },
            "type": "mesh3d"
           }
          ],
          "parcoords": [
           {
            "line": {
             "colorbar": {
              "outlinewidth": 0,
              "ticks": ""
             }
            },
            "type": "parcoords"
           }
          ],
          "pie": [
           {
            "automargin": true,
            "type": "pie"
           }
          ],
          "scatter": [
           {
            "fillpattern": {
             "fillmode": "overlay",
             "size": 10,
             "solidity": 0.2
            },
            "type": "scatter"
           }
          ],
          "scatter3d": [
           {
            "line": {
             "colorbar": {
              "outlinewidth": 0,
              "ticks": ""
             }
            },
            "marker": {
             "colorbar": {
              "outlinewidth": 0,
              "ticks": ""
             }
            },
            "type": "scatter3d"
           }
          ],
          "scattercarpet": [
           {
            "marker": {
             "colorbar": {
              "outlinewidth": 0,
              "ticks": ""
             }
            },
            "type": "scattercarpet"
           }
          ],
          "scattergeo": [
           {
            "marker": {
             "colorbar": {
              "outlinewidth": 0,
              "ticks": ""
             }
            },
            "type": "scattergeo"
           }
          ],
          "scattergl": [
           {
            "marker": {
             "colorbar": {
              "outlinewidth": 0,
              "ticks": ""
             }
            },
            "type": "scattergl"
           }
          ],
          "scattermapbox": [
           {
            "marker": {
             "colorbar": {
              "outlinewidth": 0,
              "ticks": ""
             }
            },
            "type": "scattermapbox"
           }
          ],
          "scatterpolar": [
           {
            "marker": {
             "colorbar": {
              "outlinewidth": 0,
              "ticks": ""
             }
            },
            "type": "scatterpolar"
           }
          ],
          "scatterpolargl": [
           {
            "marker": {
             "colorbar": {
              "outlinewidth": 0,
              "ticks": ""
             }
            },
            "type": "scatterpolargl"
           }
          ],
          "scatterternary": [
           {
            "marker": {
             "colorbar": {
              "outlinewidth": 0,
              "ticks": ""
             }
            },
            "type": "scatterternary"
           }
          ],
          "surface": [
           {
            "colorbar": {
             "outlinewidth": 0,
             "ticks": ""
            },
            "colorscale": [
             [
              0,
              "#0d0887"
             ],
             [
              0.1111111111111111,
              "#46039f"
             ],
             [
              0.2222222222222222,
              "#7201a8"
             ],
             [
              0.3333333333333333,
              "#9c179e"
             ],
             [
              0.4444444444444444,
              "#bd3786"
             ],
             [
              0.5555555555555556,
              "#d8576b"
             ],
             [
              0.6666666666666666,
              "#ed7953"
             ],
             [
              0.7777777777777778,
              "#fb9f3a"
             ],
             [
              0.8888888888888888,
              "#fdca26"
             ],
             [
              1,
              "#f0f921"
             ]
            ],
            "type": "surface"
           }
          ],
          "table": [
           {
            "cells": {
             "fill": {
              "color": "#EBF0F8"
             },
             "line": {
              "color": "white"
             }
            },
            "header": {
             "fill": {
              "color": "#C8D4E3"
             },
             "line": {
              "color": "white"
             }
            },
            "type": "table"
           }
          ]
         },
         "layout": {
          "annotationdefaults": {
           "arrowcolor": "#2a3f5f",
           "arrowhead": 0,
           "arrowwidth": 1
          },
          "autotypenumbers": "strict",
          "coloraxis": {
           "colorbar": {
            "outlinewidth": 0,
            "ticks": ""
           }
          },
          "colorscale": {
           "diverging": [
            [
             0,
             "#8e0152"
            ],
            [
             0.1,
             "#c51b7d"
            ],
            [
             0.2,
             "#de77ae"
            ],
            [
             0.3,
             "#f1b6da"
            ],
            [
             0.4,
             "#fde0ef"
            ],
            [
             0.5,
             "#f7f7f7"
            ],
            [
             0.6,
             "#e6f5d0"
            ],
            [
             0.7,
             "#b8e186"
            ],
            [
             0.8,
             "#7fbc41"
            ],
            [
             0.9,
             "#4d9221"
            ],
            [
             1,
             "#276419"
            ]
           ],
           "sequential": [
            [
             0,
             "#0d0887"
            ],
            [
             0.1111111111111111,
             "#46039f"
            ],
            [
             0.2222222222222222,
             "#7201a8"
            ],
            [
             0.3333333333333333,
             "#9c179e"
            ],
            [
             0.4444444444444444,
             "#bd3786"
            ],
            [
             0.5555555555555556,
             "#d8576b"
            ],
            [
             0.6666666666666666,
             "#ed7953"
            ],
            [
             0.7777777777777778,
             "#fb9f3a"
            ],
            [
             0.8888888888888888,
             "#fdca26"
            ],
            [
             1,
             "#f0f921"
            ]
           ],
           "sequentialminus": [
            [
             0,
             "#0d0887"
            ],
            [
             0.1111111111111111,
             "#46039f"
            ],
            [
             0.2222222222222222,
             "#7201a8"
            ],
            [
             0.3333333333333333,
             "#9c179e"
            ],
            [
             0.4444444444444444,
             "#bd3786"
            ],
            [
             0.5555555555555556,
             "#d8576b"
            ],
            [
             0.6666666666666666,
             "#ed7953"
            ],
            [
             0.7777777777777778,
             "#fb9f3a"
            ],
            [
             0.8888888888888888,
             "#fdca26"
            ],
            [
             1,
             "#f0f921"
            ]
           ]
          },
          "colorway": [
           "#636efa",
           "#EF553B",
           "#00cc96",
           "#ab63fa",
           "#FFA15A",
           "#19d3f3",
           "#FF6692",
           "#B6E880",
           "#FF97FF",
           "#FECB52"
          ],
          "font": {
           "color": "#2a3f5f"
          },
          "geo": {
           "bgcolor": "white",
           "lakecolor": "white",
           "landcolor": "#E5ECF6",
           "showlakes": true,
           "showland": true,
           "subunitcolor": "white"
          },
          "hoverlabel": {
           "align": "left"
          },
          "hovermode": "closest",
          "mapbox": {
           "style": "light"
          },
          "paper_bgcolor": "white",
          "plot_bgcolor": "#E5ECF6",
          "polar": {
           "angularaxis": {
            "gridcolor": "white",
            "linecolor": "white",
            "ticks": ""
           },
           "bgcolor": "#E5ECF6",
           "radialaxis": {
            "gridcolor": "white",
            "linecolor": "white",
            "ticks": ""
           }
          },
          "scene": {
           "xaxis": {
            "backgroundcolor": "#E5ECF6",
            "gridcolor": "white",
            "gridwidth": 2,
            "linecolor": "white",
            "showbackground": true,
            "ticks": "",
            "zerolinecolor": "white"
           },
           "yaxis": {
            "backgroundcolor": "#E5ECF6",
            "gridcolor": "white",
            "gridwidth": 2,
            "linecolor": "white",
            "showbackground": true,
            "ticks": "",
            "zerolinecolor": "white"
           },
           "zaxis": {
            "backgroundcolor": "#E5ECF6",
            "gridcolor": "white",
            "gridwidth": 2,
            "linecolor": "white",
            "showbackground": true,
            "ticks": "",
            "zerolinecolor": "white"
           }
          },
          "shapedefaults": {
           "line": {
            "color": "#2a3f5f"
           }
          },
          "ternary": {
           "aaxis": {
            "gridcolor": "white",
            "linecolor": "white",
            "ticks": ""
           },
           "baxis": {
            "gridcolor": "white",
            "linecolor": "white",
            "ticks": ""
           },
           "bgcolor": "#E5ECF6",
           "caxis": {
            "gridcolor": "white",
            "linecolor": "white",
            "ticks": ""
           }
          },
          "title": {
           "x": 0.05
          },
          "xaxis": {
           "automargin": true,
           "gridcolor": "white",
           "linecolor": "white",
           "ticks": "",
           "title": {
            "standoff": 15
           },
           "zerolinecolor": "white",
           "zerolinewidth": 2
          },
          "yaxis": {
           "automargin": true,
           "gridcolor": "white",
           "linecolor": "white",
           "ticks": "",
           "title": {
            "standoff": 15
           },
           "zerolinecolor": "white",
           "zerolinewidth": 2
          }
         }
        },
        "title": {
         "text": ""
        }
       }
      }
     },
     "metadata": {},
     "output_type": "display_data"
    }
   ],
   "source": [
    "# Using plotly build radar chart for each binary feature: \"Stochastic\", \"Dialog\", \"Darkness\", \"Nonstandard Action\", \"Inventory\"\n",
    "import plotly.express as px\n",
    "import plotly.graph_objects as go\n",
    "\n",
    "\n",
    "fig = px.line_polar(radar_df,\n",
    "                    r=\"score\",\n",
    "                    theta=\"feature\",\n",
    "                    line_group=\"model\",\n",
    "                    color=\"model\",\n",
    "                    line_close=True,\n",
    "                    #template=\"plotly_dark\",\n",
    "                    title=\"Max Normalized Score per Criteria\",)\n",
    "fig.update_layout(polar=dict(radialaxis=dict(range=[0, 100])))\n",
    "\n",
    "# Move legend to the bottom left\n",
    "fig.update_layout(legend=dict(\n",
    "    orientation=\"v\",\n",
    "    yanchor=\"bottom\",\n",
    "    y=1.02,\n",
    "    xanchor=\"right\",\n",
    "    x=1\n",
    "))\n",
    "# Hide title\n",
    "fig.update_layout(title=\"\")\n",
    "# Hide legen title\n",
    "fig.update_layout(legend_title=\"\")\n",
    "# Change figure size to be\n",
    "fig.write_image(\"radar_chart.png\", width=1600, height=1600)\n",
    "fig.show()\n",
    "\n",
    "fig.update_layout(polar=dict(radialaxis=dict(range=[0, 14])))\n",
    "# Save image to disk\n",
    "fig.write_image(\"radar_chart_zoom.png\", width=800, height=800)\n"
   ]
  },
  {
   "cell_type": "code",
   "execution_count": 167,
   "metadata": {},
   "outputs": [
    {
     "data": {
      "application/vnd.plotly.v1+json": {
       "config": {
        "plotlyServerURL": "https://plot.ly"
       },
       "data": [
        {
         "hovertemplate": "model=gpt-4o<br>score=%{r}<br>feature=%{theta}<extra></extra>",
         "legendgroup": "gpt-4o",
         "line": {
          "color": "#636efa",
          "dash": "solid"
         },
         "marker": {
          "symbol": "circle"
         },
         "mode": "lines",
         "name": "gpt-4o",
         "r": [
          19.197852474323064,
          14.521883139220602,
          18.59027777777778,
          12.706644365735276,
          18.981185807656395,
          19.197852474323064
         ],
         "showlegend": true,
         "subplot": "polar",
         "theta": [
          "Stochastic",
          "Dialog",
          "Darkness",
          "Nonstandard Action",
          "Inventory",
          "Stochastic"
         ],
         "type": "scatterpolar"
        },
        {
         "hovertemplate": "model=meta-llama-3-70b-instruct-4<br>score=%{r}<br>feature=%{theta}<extra></extra>",
         "legendgroup": "meta-llama-3-70b-instruct-4",
         "line": {
          "color": "#EF553B",
          "dash": "solid"
         },
         "marker": {
          "symbol": "circle"
         },
         "mode": "lines",
         "name": "meta-llama-3-70b-instruct-4",
         "r": [
          9.371055088702148,
          9.798929456840206,
          8.511904761904763,
          8.023504273504274,
          8.883578431372548,
          9.371055088702148
         ],
         "showlegend": true,
         "subplot": "polar",
         "theta": [
          "Stochastic",
          "Dialog",
          "Darkness",
          "Nonstandard Action",
          "Inventory",
          "Stochastic"
         ],
         "type": "scatterpolar"
        },
        {
         "hovertemplate": "model=microsoft/Phi-3.5-mini-instruct<br>score=%{r}<br>feature=%{theta}<extra></extra>",
         "legendgroup": "microsoft/Phi-3.5-mini-instruct",
         "line": {
          "color": "#00cc96",
          "dash": "solid"
         },
         "marker": {
          "symbol": "circle"
         },
         "mode": "lines",
         "name": "microsoft/Phi-3.5-mini-instruct",
         "r": [
          2.1761904761904765,
          2.2081280788177335,
          1.6321839080459768,
          1.7882205513784464,
          1.9360119047619049,
          2.1761904761904765
         ],
         "showlegend": true,
         "subplot": "polar",
         "theta": [
          "Stochastic",
          "Dialog",
          "Darkness",
          "Nonstandard Action",
          "Inventory",
          "Stochastic"
         ],
         "type": "scatterpolar"
        },
        {
         "hovertemplate": "model=phi-3-medium-128k-instruct-1<br>score=%{r}<br>feature=%{theta}<extra></extra>",
         "legendgroup": "phi-3-medium-128k-instruct-1",
         "line": {
          "color": "#ab63fa",
          "dash": "solid"
         },
         "marker": {
          "symbol": "circle"
         },
         "mode": "lines",
         "name": "phi-3-medium-128k-instruct-1",
         "r": [
          5.484998443821974,
          4.094919078742608,
          4.224411603721949,
          3.973951973951974,
          4.956059191353309,
          5.484998443821974
         ],
         "showlegend": true,
         "subplot": "polar",
         "theta": [
          "Stochastic",
          "Dialog",
          "Darkness",
          "Nonstandard Action",
          "Inventory",
          "Stochastic"
         ],
         "type": "scatterpolar"
        }
       ],
       "layout": {
        "legend": {
         "title": {
          "text": "model"
         },
         "tracegroupgap": 0
        },
        "polar": {
         "angularaxis": {
          "direction": "clockwise",
          "rotation": 90
         },
         "domain": {
          "x": [
           0,
           1
          ],
          "y": [
           0,
           1
          ]
         },
         "radialaxis": {
          "range": [
           0,
           100
          ]
         }
        },
        "template": {
         "data": {
          "bar": [
           {
            "error_x": {
             "color": "#f2f5fa"
            },
            "error_y": {
             "color": "#f2f5fa"
            },
            "marker": {
             "line": {
              "color": "rgb(17,17,17)",
              "width": 0.5
             },
             "pattern": {
              "fillmode": "overlay",
              "size": 10,
              "solidity": 0.2
             }
            },
            "type": "bar"
           }
          ],
          "barpolar": [
           {
            "marker": {
             "line": {
              "color": "rgb(17,17,17)",
              "width": 0.5
             },
             "pattern": {
              "fillmode": "overlay",
              "size": 10,
              "solidity": 0.2
             }
            },
            "type": "barpolar"
           }
          ],
          "carpet": [
           {
            "aaxis": {
             "endlinecolor": "#A2B1C6",
             "gridcolor": "#506784",
             "linecolor": "#506784",
             "minorgridcolor": "#506784",
             "startlinecolor": "#A2B1C6"
            },
            "baxis": {
             "endlinecolor": "#A2B1C6",
             "gridcolor": "#506784",
             "linecolor": "#506784",
             "minorgridcolor": "#506784",
             "startlinecolor": "#A2B1C6"
            },
            "type": "carpet"
           }
          ],
          "choropleth": [
           {
            "colorbar": {
             "outlinewidth": 0,
             "ticks": ""
            },
            "type": "choropleth"
           }
          ],
          "contour": [
           {
            "colorbar": {
             "outlinewidth": 0,
             "ticks": ""
            },
            "colorscale": [
             [
              0,
              "#0d0887"
             ],
             [
              0.1111111111111111,
              "#46039f"
             ],
             [
              0.2222222222222222,
              "#7201a8"
             ],
             [
              0.3333333333333333,
              "#9c179e"
             ],
             [
              0.4444444444444444,
              "#bd3786"
             ],
             [
              0.5555555555555556,
              "#d8576b"
             ],
             [
              0.6666666666666666,
              "#ed7953"
             ],
             [
              0.7777777777777778,
              "#fb9f3a"
             ],
             [
              0.8888888888888888,
              "#fdca26"
             ],
             [
              1,
              "#f0f921"
             ]
            ],
            "type": "contour"
           }
          ],
          "contourcarpet": [
           {
            "colorbar": {
             "outlinewidth": 0,
             "ticks": ""
            },
            "type": "contourcarpet"
           }
          ],
          "heatmap": [
           {
            "colorbar": {
             "outlinewidth": 0,
             "ticks": ""
            },
            "colorscale": [
             [
              0,
              "#0d0887"
             ],
             [
              0.1111111111111111,
              "#46039f"
             ],
             [
              0.2222222222222222,
              "#7201a8"
             ],
             [
              0.3333333333333333,
              "#9c179e"
             ],
             [
              0.4444444444444444,
              "#bd3786"
             ],
             [
              0.5555555555555556,
              "#d8576b"
             ],
             [
              0.6666666666666666,
              "#ed7953"
             ],
             [
              0.7777777777777778,
              "#fb9f3a"
             ],
             [
              0.8888888888888888,
              "#fdca26"
             ],
             [
              1,
              "#f0f921"
             ]
            ],
            "type": "heatmap"
           }
          ],
          "heatmapgl": [
           {
            "colorbar": {
             "outlinewidth": 0,
             "ticks": ""
            },
            "colorscale": [
             [
              0,
              "#0d0887"
             ],
             [
              0.1111111111111111,
              "#46039f"
             ],
             [
              0.2222222222222222,
              "#7201a8"
             ],
             [
              0.3333333333333333,
              "#9c179e"
             ],
             [
              0.4444444444444444,
              "#bd3786"
             ],
             [
              0.5555555555555556,
              "#d8576b"
             ],
             [
              0.6666666666666666,
              "#ed7953"
             ],
             [
              0.7777777777777778,
              "#fb9f3a"
             ],
             [
              0.8888888888888888,
              "#fdca26"
             ],
             [
              1,
              "#f0f921"
             ]
            ],
            "type": "heatmapgl"
           }
          ],
          "histogram": [
           {
            "marker": {
             "pattern": {
              "fillmode": "overlay",
              "size": 10,
              "solidity": 0.2
             }
            },
            "type": "histogram"
           }
          ],
          "histogram2d": [
           {
            "colorbar": {
             "outlinewidth": 0,
             "ticks": ""
            },
            "colorscale": [
             [
              0,
              "#0d0887"
             ],
             [
              0.1111111111111111,
              "#46039f"
             ],
             [
              0.2222222222222222,
              "#7201a8"
             ],
             [
              0.3333333333333333,
              "#9c179e"
             ],
             [
              0.4444444444444444,
              "#bd3786"
             ],
             [
              0.5555555555555556,
              "#d8576b"
             ],
             [
              0.6666666666666666,
              "#ed7953"
             ],
             [
              0.7777777777777778,
              "#fb9f3a"
             ],
             [
              0.8888888888888888,
              "#fdca26"
             ],
             [
              1,
              "#f0f921"
             ]
            ],
            "type": "histogram2d"
           }
          ],
          "histogram2dcontour": [
           {
            "colorbar": {
             "outlinewidth": 0,
             "ticks": ""
            },
            "colorscale": [
             [
              0,
              "#0d0887"
             ],
             [
              0.1111111111111111,
              "#46039f"
             ],
             [
              0.2222222222222222,
              "#7201a8"
             ],
             [
              0.3333333333333333,
              "#9c179e"
             ],
             [
              0.4444444444444444,
              "#bd3786"
             ],
             [
              0.5555555555555556,
              "#d8576b"
             ],
             [
              0.6666666666666666,
              "#ed7953"
             ],
             [
              0.7777777777777778,
              "#fb9f3a"
             ],
             [
              0.8888888888888888,
              "#fdca26"
             ],
             [
              1,
              "#f0f921"
             ]
            ],
            "type": "histogram2dcontour"
           }
          ],
          "mesh3d": [
           {
            "colorbar": {
             "outlinewidth": 0,
             "ticks": ""
            },
            "type": "mesh3d"
           }
          ],
          "parcoords": [
           {
            "line": {
             "colorbar": {
              "outlinewidth": 0,
              "ticks": ""
             }
            },
            "type": "parcoords"
           }
          ],
          "pie": [
           {
            "automargin": true,
            "type": "pie"
           }
          ],
          "scatter": [
           {
            "marker": {
             "line": {
              "color": "#283442"
             }
            },
            "type": "scatter"
           }
          ],
          "scatter3d": [
           {
            "line": {
             "colorbar": {
              "outlinewidth": 0,
              "ticks": ""
             }
            },
            "marker": {
             "colorbar": {
              "outlinewidth": 0,
              "ticks": ""
             }
            },
            "type": "scatter3d"
           }
          ],
          "scattercarpet": [
           {
            "marker": {
             "colorbar": {
              "outlinewidth": 0,
              "ticks": ""
             }
            },
            "type": "scattercarpet"
           }
          ],
          "scattergeo": [
           {
            "marker": {
             "colorbar": {
              "outlinewidth": 0,
              "ticks": ""
             }
            },
            "type": "scattergeo"
           }
          ],
          "scattergl": [
           {
            "marker": {
             "line": {
              "color": "#283442"
             }
            },
            "type": "scattergl"
           }
          ],
          "scattermapbox": [
           {
            "marker": {
             "colorbar": {
              "outlinewidth": 0,
              "ticks": ""
             }
            },
            "type": "scattermapbox"
           }
          ],
          "scatterpolar": [
           {
            "marker": {
             "colorbar": {
              "outlinewidth": 0,
              "ticks": ""
             }
            },
            "type": "scatterpolar"
           }
          ],
          "scatterpolargl": [
           {
            "marker": {
             "colorbar": {
              "outlinewidth": 0,
              "ticks": ""
             }
            },
            "type": "scatterpolargl"
           }
          ],
          "scatterternary": [
           {
            "marker": {
             "colorbar": {
              "outlinewidth": 0,
              "ticks": ""
             }
            },
            "type": "scatterternary"
           }
          ],
          "surface": [
           {
            "colorbar": {
             "outlinewidth": 0,
             "ticks": ""
            },
            "colorscale": [
             [
              0,
              "#0d0887"
             ],
             [
              0.1111111111111111,
              "#46039f"
             ],
             [
              0.2222222222222222,
              "#7201a8"
             ],
             [
              0.3333333333333333,
              "#9c179e"
             ],
             [
              0.4444444444444444,
              "#bd3786"
             ],
             [
              0.5555555555555556,
              "#d8576b"
             ],
             [
              0.6666666666666666,
              "#ed7953"
             ],
             [
              0.7777777777777778,
              "#fb9f3a"
             ],
             [
              0.8888888888888888,
              "#fdca26"
             ],
             [
              1,
              "#f0f921"
             ]
            ],
            "type": "surface"
           }
          ],
          "table": [
           {
            "cells": {
             "fill": {
              "color": "#506784"
             },
             "line": {
              "color": "rgb(17,17,17)"
             }
            },
            "header": {
             "fill": {
              "color": "#2a3f5f"
             },
             "line": {
              "color": "rgb(17,17,17)"
             }
            },
            "type": "table"
           }
          ]
         },
         "layout": {
          "annotationdefaults": {
           "arrowcolor": "#f2f5fa",
           "arrowhead": 0,
           "arrowwidth": 1
          },
          "autotypenumbers": "strict",
          "coloraxis": {
           "colorbar": {
            "outlinewidth": 0,
            "ticks": ""
           }
          },
          "colorscale": {
           "diverging": [
            [
             0,
             "#8e0152"
            ],
            [
             0.1,
             "#c51b7d"
            ],
            [
             0.2,
             "#de77ae"
            ],
            [
             0.3,
             "#f1b6da"
            ],
            [
             0.4,
             "#fde0ef"
            ],
            [
             0.5,
             "#f7f7f7"
            ],
            [
             0.6,
             "#e6f5d0"
            ],
            [
             0.7,
             "#b8e186"
            ],
            [
             0.8,
             "#7fbc41"
            ],
            [
             0.9,
             "#4d9221"
            ],
            [
             1,
             "#276419"
            ]
           ],
           "sequential": [
            [
             0,
             "#0d0887"
            ],
            [
             0.1111111111111111,
             "#46039f"
            ],
            [
             0.2222222222222222,
             "#7201a8"
            ],
            [
             0.3333333333333333,
             "#9c179e"
            ],
            [
             0.4444444444444444,
             "#bd3786"
            ],
            [
             0.5555555555555556,
             "#d8576b"
            ],
            [
             0.6666666666666666,
             "#ed7953"
            ],
            [
             0.7777777777777778,
             "#fb9f3a"
            ],
            [
             0.8888888888888888,
             "#fdca26"
            ],
            [
             1,
             "#f0f921"
            ]
           ],
           "sequentialminus": [
            [
             0,
             "#0d0887"
            ],
            [
             0.1111111111111111,
             "#46039f"
            ],
            [
             0.2222222222222222,
             "#7201a8"
            ],
            [
             0.3333333333333333,
             "#9c179e"
            ],
            [
             0.4444444444444444,
             "#bd3786"
            ],
            [
             0.5555555555555556,
             "#d8576b"
            ],
            [
             0.6666666666666666,
             "#ed7953"
            ],
            [
             0.7777777777777778,
             "#fb9f3a"
            ],
            [
             0.8888888888888888,
             "#fdca26"
            ],
            [
             1,
             "#f0f921"
            ]
           ]
          },
          "colorway": [
           "#636efa",
           "#EF553B",
           "#00cc96",
           "#ab63fa",
           "#FFA15A",
           "#19d3f3",
           "#FF6692",
           "#B6E880",
           "#FF97FF",
           "#FECB52"
          ],
          "font": {
           "color": "#f2f5fa"
          },
          "geo": {
           "bgcolor": "rgb(17,17,17)",
           "lakecolor": "rgb(17,17,17)",
           "landcolor": "rgb(17,17,17)",
           "showlakes": true,
           "showland": true,
           "subunitcolor": "#506784"
          },
          "hoverlabel": {
           "align": "left"
          },
          "hovermode": "closest",
          "mapbox": {
           "style": "dark"
          },
          "paper_bgcolor": "rgb(17,17,17)",
          "plot_bgcolor": "rgb(17,17,17)",
          "polar": {
           "angularaxis": {
            "gridcolor": "#506784",
            "linecolor": "#506784",
            "ticks": ""
           },
           "bgcolor": "rgb(17,17,17)",
           "radialaxis": {
            "gridcolor": "#506784",
            "linecolor": "#506784",
            "ticks": ""
           }
          },
          "scene": {
           "xaxis": {
            "backgroundcolor": "rgb(17,17,17)",
            "gridcolor": "#506784",
            "gridwidth": 2,
            "linecolor": "#506784",
            "showbackground": true,
            "ticks": "",
            "zerolinecolor": "#C8D4E3"
           },
           "yaxis": {
            "backgroundcolor": "rgb(17,17,17)",
            "gridcolor": "#506784",
            "gridwidth": 2,
            "linecolor": "#506784",
            "showbackground": true,
            "ticks": "",
            "zerolinecolor": "#C8D4E3"
           },
           "zaxis": {
            "backgroundcolor": "rgb(17,17,17)",
            "gridcolor": "#506784",
            "gridwidth": 2,
            "linecolor": "#506784",
            "showbackground": true,
            "ticks": "",
            "zerolinecolor": "#C8D4E3"
           }
          },
          "shapedefaults": {
           "line": {
            "color": "#f2f5fa"
           }
          },
          "sliderdefaults": {
           "bgcolor": "#C8D4E3",
           "bordercolor": "rgb(17,17,17)",
           "borderwidth": 1,
           "tickwidth": 0
          },
          "ternary": {
           "aaxis": {
            "gridcolor": "#506784",
            "linecolor": "#506784",
            "ticks": ""
           },
           "baxis": {
            "gridcolor": "#506784",
            "linecolor": "#506784",
            "ticks": ""
           },
           "bgcolor": "rgb(17,17,17)",
           "caxis": {
            "gridcolor": "#506784",
            "linecolor": "#506784",
            "ticks": ""
           }
          },
          "title": {
           "x": 0.05
          },
          "updatemenudefaults": {
           "bgcolor": "#506784",
           "borderwidth": 0
          },
          "xaxis": {
           "automargin": true,
           "gridcolor": "#283442",
           "linecolor": "#506784",
           "ticks": "",
           "title": {
            "standoff": 15
           },
           "zerolinecolor": "#283442",
           "zerolinewidth": 2
          },
          "yaxis": {
           "automargin": true,
           "gridcolor": "#283442",
           "linecolor": "#506784",
           "ticks": "",
           "title": {
            "standoff": 15
           },
           "zerolinecolor": "#283442",
           "zerolinewidth": 2
          }
         }
        },
        "title": {
         "text": "Max Normalized Score per game"
        }
       }
      }
     },
     "metadata": {},
     "output_type": "display_data"
    }
   ],
   "source": [
    "# Using plotly build radar chart for each binary feature: \"Stochastic\", \"Dialog\", \"Darkness\", \"Nonstandard Action\", \"Inventory\"\n",
    "import plotly.express as px\n",
    "import plotly.graph_objects as go\n",
    "\n",
    "\n",
    "fig = px.line_polar(radar_df,\n",
    "                    r=\"score\",\n",
    "                    theta=\"feature\",\n",
    "                    line_group=\"model\",\n",
    "                    color=\"model\",\n",
    "                    line_close=True, template=\"plotly_dark\", title=\"Max Normalized Score per game\")\n",
    "fig.update_layout(polar=dict(radialaxis=dict(range=[0, 100])))\n",
    "fig.show()"
   ]
  },
  {
   "cell_type": "code",
   "execution_count": 189,
   "metadata": {},
   "outputs": [
    {
     "data": {
      "application/vnd.plotly.v1+json": {
       "config": {
        "plotlyServerURL": "https://plot.ly"
       },
       "data": [
        {
         "hovertemplate": "model=gpt-4o<br>Max Normalized Score=%{r}<br>game=%{theta}<extra></extra>",
         "legendgroup": "gpt-4o",
         "line": {
          "color": "#636efa",
          "dash": "solid"
         },
         "marker": {
          "symbol": "circle"
         },
         "mode": "lines",
         "name": "gpt-4o",
         "r": [
          0,
          0,
          0,
          0,
          0,
          0,
          0,
          0,
          0,
          0,
          0,
          0,
          0,
          0,
          0,
          0,
          0,
          0,
          0,
          0.3636363636363637,
          0.8,
          1.6,
          2.2222222222222223,
          2.5,
          2.857142857142857,
          3,
          3,
          4,
          4.166666666666667,
          5,
          5,
          6,
          7,
          7.142857142857143,
          7.333333333333333,
          7.5,
          10,
          10,
          10,
          10.285714285714286,
          12.857142857142858,
          17.333333333333332,
          19,
          19.607843137254903,
          20,
          22.857142857142858,
          28.571428571428573,
          33.333333333333336,
          42.857142857142854,
          53.333333333333336,
          60,
          86.11111111111111,
          86.11111111111111,
          0
         ],
         "showlegend": true,
         "subplot": "polar",
         "theta": [
          "plundered.z3",
          "zenon.z5",
          "zork2.z5",
          "yomomma.z8",
          "weapon.z5",
          "theatre.z5",
          "dragon.z5",
          "huntdark.z5",
          "infidel.z3",
          "anchor.z8",
          "ballyhoo.z3",
          "cutthroat.z3",
          "905.z5",
          "moonlit.z5",
          "awaken.z5",
          "partyfoul.z8",
          "adventureland.z5",
          "inhumane.z5",
          "karn.z5",
          "curses.z5",
          "murdac.z5",
          "spirit.z5",
          "jewel.z5",
          "hhgg.z3",
          "tryst205.z5",
          "seastalker.z3",
          "gold.z5",
          "reverb.z5",
          "spellbrkr.z3",
          "enchanter.z3",
          "sorcerer.z3",
          "deephome.z5",
          "wishbringer.z3",
          "pentari.z5",
          "ludicorp.z5",
          "planetfall.z3",
          "omniquest.z5",
          "loose.z5",
          "enter.z5",
          "advent.z5",
          "zork1.z5",
          "afflicted.z8",
          "ztuu.z5",
          "balances.z5",
          "night.z5",
          "temple.z5",
          "lostpig.z8",
          "acorncourt.z5",
          "zork3.z5",
          "library.z5",
          "snacktime.z8",
          "detective.z5",
          "detective.z5",
          "plundered.z3"
         ],
         "type": "scatterpolar"
        },
        {
         "hovertemplate": "model=meta-llama-3-70b-instruct-4<br>Max Normalized Score=%{r}<br>game=%{theta}<extra></extra>",
         "legendgroup": "meta-llama-3-70b-instruct-4",
         "line": {
          "color": "#EF553B",
          "dash": "solid"
         },
         "marker": {
          "symbol": "circle"
         },
         "mode": "lines",
         "name": "meta-llama-3-70b-instruct-4",
         "r": [
          0,
          0,
          0,
          0,
          0,
          0,
          0,
          0,
          0,
          0,
          0,
          0,
          0,
          0,
          0,
          0,
          0,
          0,
          0,
          0,
          0,
          0,
          0,
          0,
          0,
          1.25,
          2,
          2.2222222222222223,
          2.5,
          3,
          3.2,
          3.75,
          4,
          4,
          4,
          4.285714285714286,
          5,
          5,
          6,
          6.666666666666667,
          7.142857142857143,
          10,
          10.285714285714286,
          11.25,
          12,
          14.285714285714286,
          16,
          19.607843137254903,
          20,
          28.571428571428573,
          33.333333333333336,
          40,
          42.857142857142854,
          86.11111111111111,
          0
         ],
         "showlegend": true,
         "subplot": "polar",
         "theta": [
          "plundered.z3",
          "anchor.z8",
          "905.z5",
          "zork2.z5",
          "yomomma.z8",
          "weapon.z5",
          "tryst205.z5",
          "theatre.z5",
          "spirit.z5",
          "afflicted.z8",
          "dragon.z5",
          "hollywood.z3",
          "huntdark.z5",
          "awaken.z5",
          "ballyhoo.z3",
          "curses.z5",
          "lurking.z3",
          "moonlit.z5",
          "adventureland.z5",
          "night.z5",
          "partyfoul.z8",
          "infidel.z3",
          "inhumane.z5",
          "karn.z5",
          "library.z5",
          "sorcerer.z3",
          "seastalker.z3",
          "jewel.z5",
          "hhgg.z3",
          "gold.z5",
          "murdac.z5",
          "planetfall.z3",
          "loose.z5",
          "deephome.z5",
          "reverb.z5",
          "zork1.z5",
          "ztuu.z5",
          "enter.z5",
          "wishbringer.z3",
          "spellbrkr.z3",
          "pentari.z5",
          "omniquest.z5",
          "advent.z5",
          "enchanter.z3",
          "ludicorp.z5",
          "temple.z5",
          "cutthroat.z3",
          "balances.z5",
          "zenon.z5",
          "lostpig.z8",
          "acorncourt.z5",
          "snacktime.z8",
          "zork3.z5",
          "detective.z5",
          "plundered.z3"
         ],
         "type": "scatterpolar"
        },
        {
         "hovertemplate": "model=microsoft/Phi-3.5-mini-instruct<br>Max Normalized Score=%{r}<br>game=%{theta}<extra></extra>",
         "legendgroup": "microsoft/Phi-3.5-mini-instruct",
         "line": {
          "color": "#00cc96",
          "dash": "solid"
         },
         "marker": {
          "symbol": "circle"
         },
         "mode": "lines",
         "name": "microsoft/Phi-3.5-mini-instruct",
         "r": [
          0,
          0,
          0,
          0,
          0,
          0,
          0,
          0,
          0,
          0,
          0,
          0,
          0,
          0,
          0,
          0,
          0,
          0,
          0,
          0,
          0,
          0,
          0,
          0,
          0,
          0,
          0,
          0,
          0,
          0,
          0,
          0,
          0,
          0,
          0,
          0,
          0,
          0,
          0,
          0,
          0,
          0,
          0.3333333333333333,
          1,
          1.25,
          2.5,
          3.3333333333333335,
          6,
          10,
          10.285714285714286,
          14.285714285714286,
          16.666666666666668,
          20,
          0
         ],
         "showlegend": true,
         "subplot": "polar",
         "theta": [
          "plundered.z3",
          "planetfall.z3",
          "reverb.z5",
          "adventureland.z5",
          "ztuu.z5",
          "905.z5",
          "zork3.z5",
          "acorncourt.z5",
          "zork2.z5",
          "zork1.z5",
          "zenon.z5",
          "spirit.z5",
          "yomomma.z8",
          "weapon.z5",
          "tryst205.z5",
          "theatre.z5",
          "temple.z5",
          "murdac.z5",
          "pentari.z5",
          "enchanter.z3",
          "enter.z5",
          "gold.z5",
          "hhgg.z3",
          "hollywood.z3",
          "huntdark.z5",
          "dragon.z5",
          "awaken.z5",
          "balances.z5",
          "anchor.z8",
          "ballyhoo.z3",
          "curses.z5",
          "cutthroat.z3",
          "infidel.z3",
          "moonlit.z5",
          "night.z5",
          "partyfoul.z8",
          "inhumane.z5",
          "jewel.z5",
          "karn.z5",
          "library.z5",
          "afflicted.z8",
          "loose.z5",
          "deephome.z5",
          "seastalker.z3",
          "sorcerer.z3",
          "spellbrkr.z3",
          "ludicorp.z5",
          "wishbringer.z3",
          "omniquest.z5",
          "advent.z5",
          "lostpig.z8",
          "detective.z5",
          "snacktime.z8",
          "plundered.z3"
         ],
         "type": "scatterpolar"
        },
        {
         "hovertemplate": "model=phi-3-medium-128k-instruct-1<br>Max Normalized Score=%{r}<br>game=%{theta}<extra></extra>",
         "legendgroup": "phi-3-medium-128k-instruct-1",
         "line": {
          "color": "#ab63fa",
          "dash": "solid"
         },
         "marker": {
          "symbol": "circle"
         },
         "mode": "lines",
         "name": "phi-3-medium-128k-instruct-1",
         "r": [
          0,
          0,
          0,
          0,
          0,
          0,
          0,
          0,
          0,
          0,
          0,
          0,
          0,
          0,
          0,
          0,
          0,
          0,
          0,
          0,
          0,
          0,
          0,
          0,
          0,
          0,
          0,
          0,
          0,
          0,
          0,
          0,
          0,
          0.3333333333333333,
          1.25,
          2,
          4,
          5,
          5,
          6,
          6,
          6.666666666666667,
          9.803921568627452,
          10,
          10,
          10.285714285714286,
          13.88888888888889,
          14.285714285714286,
          16.666666666666668,
          20,
          28.571428571428573,
          28.571428571428573,
          33.333333333333336,
          0
         ],
         "showlegend": true,
         "subplot": "polar",
         "theta": [
          "plundered.z3",
          "reverb.z5",
          "theatre.z5",
          "spirit.z5",
          "zork2.z5",
          "zork1.z5",
          "zenon.z5",
          "acorncourt.z5",
          "yomomma.z8",
          "weapon.z5",
          "planetfall.z3",
          "dragon.z5",
          "gold.z5",
          "hhgg.z3",
          "hollywood.z3",
          "afflicted.z8",
          "anchor.z8",
          "awaken.z5",
          "ballyhoo.z3",
          "curses.z5",
          "huntdark.z5",
          "pentari.z5",
          "moonlit.z5",
          "murdac.z5",
          "night.z5",
          "partyfoul.z8",
          "adventureland.z5",
          "infidel.z3",
          "loose.z5",
          "inhumane.z5",
          "jewel.z5",
          "karn.z5",
          "905.z5",
          "deephome.z5",
          "sorcerer.z3",
          "seastalker.z3",
          "cutthroat.z3",
          "enchanter.z3",
          "ztuu.z5",
          "ludicorp.z5",
          "wishbringer.z3",
          "spellbrkr.z3",
          "balances.z5",
          "omniquest.z5",
          "enter.z5",
          "advent.z5",
          "detective.z5",
          "temple.z5",
          "detective.z5",
          "snacktime.z8",
          "lostpig.z8",
          "zork3.z5",
          "library.z5",
          "plundered.z3"
         ],
         "type": "scatterpolar"
        }
       ],
       "layout": {
        "legend": {
         "title": {
          "text": "model"
         },
         "tracegroupgap": 0
        },
        "polar": {
         "angularaxis": {
          "direction": "clockwise",
          "rotation": 90
         },
         "domain": {
          "x": [
           0,
           1
          ],
          "y": [
           0,
           1
          ]
         },
         "radialaxis": {
          "range": [
           0,
           100
          ]
         }
        },
        "template": {
         "data": {
          "bar": [
           {
            "error_x": {
             "color": "#f2f5fa"
            },
            "error_y": {
             "color": "#f2f5fa"
            },
            "marker": {
             "line": {
              "color": "rgb(17,17,17)",
              "width": 0.5
             },
             "pattern": {
              "fillmode": "overlay",
              "size": 10,
              "solidity": 0.2
             }
            },
            "type": "bar"
           }
          ],
          "barpolar": [
           {
            "marker": {
             "line": {
              "color": "rgb(17,17,17)",
              "width": 0.5
             },
             "pattern": {
              "fillmode": "overlay",
              "size": 10,
              "solidity": 0.2
             }
            },
            "type": "barpolar"
           }
          ],
          "carpet": [
           {
            "aaxis": {
             "endlinecolor": "#A2B1C6",
             "gridcolor": "#506784",
             "linecolor": "#506784",
             "minorgridcolor": "#506784",
             "startlinecolor": "#A2B1C6"
            },
            "baxis": {
             "endlinecolor": "#A2B1C6",
             "gridcolor": "#506784",
             "linecolor": "#506784",
             "minorgridcolor": "#506784",
             "startlinecolor": "#A2B1C6"
            },
            "type": "carpet"
           }
          ],
          "choropleth": [
           {
            "colorbar": {
             "outlinewidth": 0,
             "ticks": ""
            },
            "type": "choropleth"
           }
          ],
          "contour": [
           {
            "colorbar": {
             "outlinewidth": 0,
             "ticks": ""
            },
            "colorscale": [
             [
              0,
              "#0d0887"
             ],
             [
              0.1111111111111111,
              "#46039f"
             ],
             [
              0.2222222222222222,
              "#7201a8"
             ],
             [
              0.3333333333333333,
              "#9c179e"
             ],
             [
              0.4444444444444444,
              "#bd3786"
             ],
             [
              0.5555555555555556,
              "#d8576b"
             ],
             [
              0.6666666666666666,
              "#ed7953"
             ],
             [
              0.7777777777777778,
              "#fb9f3a"
             ],
             [
              0.8888888888888888,
              "#fdca26"
             ],
             [
              1,
              "#f0f921"
             ]
            ],
            "type": "contour"
           }
          ],
          "contourcarpet": [
           {
            "colorbar": {
             "outlinewidth": 0,
             "ticks": ""
            },
            "type": "contourcarpet"
           }
          ],
          "heatmap": [
           {
            "colorbar": {
             "outlinewidth": 0,
             "ticks": ""
            },
            "colorscale": [
             [
              0,
              "#0d0887"
             ],
             [
              0.1111111111111111,
              "#46039f"
             ],
             [
              0.2222222222222222,
              "#7201a8"
             ],
             [
              0.3333333333333333,
              "#9c179e"
             ],
             [
              0.4444444444444444,
              "#bd3786"
             ],
             [
              0.5555555555555556,
              "#d8576b"
             ],
             [
              0.6666666666666666,
              "#ed7953"
             ],
             [
              0.7777777777777778,
              "#fb9f3a"
             ],
             [
              0.8888888888888888,
              "#fdca26"
             ],
             [
              1,
              "#f0f921"
             ]
            ],
            "type": "heatmap"
           }
          ],
          "heatmapgl": [
           {
            "colorbar": {
             "outlinewidth": 0,
             "ticks": ""
            },
            "colorscale": [
             [
              0,
              "#0d0887"
             ],
             [
              0.1111111111111111,
              "#46039f"
             ],
             [
              0.2222222222222222,
              "#7201a8"
             ],
             [
              0.3333333333333333,
              "#9c179e"
             ],
             [
              0.4444444444444444,
              "#bd3786"
             ],
             [
              0.5555555555555556,
              "#d8576b"
             ],
             [
              0.6666666666666666,
              "#ed7953"
             ],
             [
              0.7777777777777778,
              "#fb9f3a"
             ],
             [
              0.8888888888888888,
              "#fdca26"
             ],
             [
              1,
              "#f0f921"
             ]
            ],
            "type": "heatmapgl"
           }
          ],
          "histogram": [
           {
            "marker": {
             "pattern": {
              "fillmode": "overlay",
              "size": 10,
              "solidity": 0.2
             }
            },
            "type": "histogram"
           }
          ],
          "histogram2d": [
           {
            "colorbar": {
             "outlinewidth": 0,
             "ticks": ""
            },
            "colorscale": [
             [
              0,
              "#0d0887"
             ],
             [
              0.1111111111111111,
              "#46039f"
             ],
             [
              0.2222222222222222,
              "#7201a8"
             ],
             [
              0.3333333333333333,
              "#9c179e"
             ],
             [
              0.4444444444444444,
              "#bd3786"
             ],
             [
              0.5555555555555556,
              "#d8576b"
             ],
             [
              0.6666666666666666,
              "#ed7953"
             ],
             [
              0.7777777777777778,
              "#fb9f3a"
             ],
             [
              0.8888888888888888,
              "#fdca26"
             ],
             [
              1,
              "#f0f921"
             ]
            ],
            "type": "histogram2d"
           }
          ],
          "histogram2dcontour": [
           {
            "colorbar": {
             "outlinewidth": 0,
             "ticks": ""
            },
            "colorscale": [
             [
              0,
              "#0d0887"
             ],
             [
              0.1111111111111111,
              "#46039f"
             ],
             [
              0.2222222222222222,
              "#7201a8"
             ],
             [
              0.3333333333333333,
              "#9c179e"
             ],
             [
              0.4444444444444444,
              "#bd3786"
             ],
             [
              0.5555555555555556,
              "#d8576b"
             ],
             [
              0.6666666666666666,
              "#ed7953"
             ],
             [
              0.7777777777777778,
              "#fb9f3a"
             ],
             [
              0.8888888888888888,
              "#fdca26"
             ],
             [
              1,
              "#f0f921"
             ]
            ],
            "type": "histogram2dcontour"
           }
          ],
          "mesh3d": [
           {
            "colorbar": {
             "outlinewidth": 0,
             "ticks": ""
            },
            "type": "mesh3d"
           }
          ],
          "parcoords": [
           {
            "line": {
             "colorbar": {
              "outlinewidth": 0,
              "ticks": ""
             }
            },
            "type": "parcoords"
           }
          ],
          "pie": [
           {
            "automargin": true,
            "type": "pie"
           }
          ],
          "scatter": [
           {
            "marker": {
             "line": {
              "color": "#283442"
             }
            },
            "type": "scatter"
           }
          ],
          "scatter3d": [
           {
            "line": {
             "colorbar": {
              "outlinewidth": 0,
              "ticks": ""
             }
            },
            "marker": {
             "colorbar": {
              "outlinewidth": 0,
              "ticks": ""
             }
            },
            "type": "scatter3d"
           }
          ],
          "scattercarpet": [
           {
            "marker": {
             "colorbar": {
              "outlinewidth": 0,
              "ticks": ""
             }
            },
            "type": "scattercarpet"
           }
          ],
          "scattergeo": [
           {
            "marker": {
             "colorbar": {
              "outlinewidth": 0,
              "ticks": ""
             }
            },
            "type": "scattergeo"
           }
          ],
          "scattergl": [
           {
            "marker": {
             "line": {
              "color": "#283442"
             }
            },
            "type": "scattergl"
           }
          ],
          "scattermapbox": [
           {
            "marker": {
             "colorbar": {
              "outlinewidth": 0,
              "ticks": ""
             }
            },
            "type": "scattermapbox"
           }
          ],
          "scatterpolar": [
           {
            "marker": {
             "colorbar": {
              "outlinewidth": 0,
              "ticks": ""
             }
            },
            "type": "scatterpolar"
           }
          ],
          "scatterpolargl": [
           {
            "marker": {
             "colorbar": {
              "outlinewidth": 0,
              "ticks": ""
             }
            },
            "type": "scatterpolargl"
           }
          ],
          "scatterternary": [
           {
            "marker": {
             "colorbar": {
              "outlinewidth": 0,
              "ticks": ""
             }
            },
            "type": "scatterternary"
           }
          ],
          "surface": [
           {
            "colorbar": {
             "outlinewidth": 0,
             "ticks": ""
            },
            "colorscale": [
             [
              0,
              "#0d0887"
             ],
             [
              0.1111111111111111,
              "#46039f"
             ],
             [
              0.2222222222222222,
              "#7201a8"
             ],
             [
              0.3333333333333333,
              "#9c179e"
             ],
             [
              0.4444444444444444,
              "#bd3786"
             ],
             [
              0.5555555555555556,
              "#d8576b"
             ],
             [
              0.6666666666666666,
              "#ed7953"
             ],
             [
              0.7777777777777778,
              "#fb9f3a"
             ],
             [
              0.8888888888888888,
              "#fdca26"
             ],
             [
              1,
              "#f0f921"
             ]
            ],
            "type": "surface"
           }
          ],
          "table": [
           {
            "cells": {
             "fill": {
              "color": "#506784"
             },
             "line": {
              "color": "rgb(17,17,17)"
             }
            },
            "header": {
             "fill": {
              "color": "#2a3f5f"
             },
             "line": {
              "color": "rgb(17,17,17)"
             }
            },
            "type": "table"
           }
          ]
         },
         "layout": {
          "annotationdefaults": {
           "arrowcolor": "#f2f5fa",
           "arrowhead": 0,
           "arrowwidth": 1
          },
          "autotypenumbers": "strict",
          "coloraxis": {
           "colorbar": {
            "outlinewidth": 0,
            "ticks": ""
           }
          },
          "colorscale": {
           "diverging": [
            [
             0,
             "#8e0152"
            ],
            [
             0.1,
             "#c51b7d"
            ],
            [
             0.2,
             "#de77ae"
            ],
            [
             0.3,
             "#f1b6da"
            ],
            [
             0.4,
             "#fde0ef"
            ],
            [
             0.5,
             "#f7f7f7"
            ],
            [
             0.6,
             "#e6f5d0"
            ],
            [
             0.7,
             "#b8e186"
            ],
            [
             0.8,
             "#7fbc41"
            ],
            [
             0.9,
             "#4d9221"
            ],
            [
             1,
             "#276419"
            ]
           ],
           "sequential": [
            [
             0,
             "#0d0887"
            ],
            [
             0.1111111111111111,
             "#46039f"
            ],
            [
             0.2222222222222222,
             "#7201a8"
            ],
            [
             0.3333333333333333,
             "#9c179e"
            ],
            [
             0.4444444444444444,
             "#bd3786"
            ],
            [
             0.5555555555555556,
             "#d8576b"
            ],
            [
             0.6666666666666666,
             "#ed7953"
            ],
            [
             0.7777777777777778,
             "#fb9f3a"
            ],
            [
             0.8888888888888888,
             "#fdca26"
            ],
            [
             1,
             "#f0f921"
            ]
           ],
           "sequentialminus": [
            [
             0,
             "#0d0887"
            ],
            [
             0.1111111111111111,
             "#46039f"
            ],
            [
             0.2222222222222222,
             "#7201a8"
            ],
            [
             0.3333333333333333,
             "#9c179e"
            ],
            [
             0.4444444444444444,
             "#bd3786"
            ],
            [
             0.5555555555555556,
             "#d8576b"
            ],
            [
             0.6666666666666666,
             "#ed7953"
            ],
            [
             0.7777777777777778,
             "#fb9f3a"
            ],
            [
             0.8888888888888888,
             "#fdca26"
            ],
            [
             1,
             "#f0f921"
            ]
           ]
          },
          "colorway": [
           "#636efa",
           "#EF553B",
           "#00cc96",
           "#ab63fa",
           "#FFA15A",
           "#19d3f3",
           "#FF6692",
           "#B6E880",
           "#FF97FF",
           "#FECB52"
          ],
          "font": {
           "color": "#f2f5fa"
          },
          "geo": {
           "bgcolor": "rgb(17,17,17)",
           "lakecolor": "rgb(17,17,17)",
           "landcolor": "rgb(17,17,17)",
           "showlakes": true,
           "showland": true,
           "subunitcolor": "#506784"
          },
          "hoverlabel": {
           "align": "left"
          },
          "hovermode": "closest",
          "mapbox": {
           "style": "dark"
          },
          "paper_bgcolor": "rgb(17,17,17)",
          "plot_bgcolor": "rgb(17,17,17)",
          "polar": {
           "angularaxis": {
            "gridcolor": "#506784",
            "linecolor": "#506784",
            "ticks": ""
           },
           "bgcolor": "rgb(17,17,17)",
           "radialaxis": {
            "gridcolor": "#506784",
            "linecolor": "#506784",
            "ticks": ""
           }
          },
          "scene": {
           "xaxis": {
            "backgroundcolor": "rgb(17,17,17)",
            "gridcolor": "#506784",
            "gridwidth": 2,
            "linecolor": "#506784",
            "showbackground": true,
            "ticks": "",
            "zerolinecolor": "#C8D4E3"
           },
           "yaxis": {
            "backgroundcolor": "rgb(17,17,17)",
            "gridcolor": "#506784",
            "gridwidth": 2,
            "linecolor": "#506784",
            "showbackground": true,
            "ticks": "",
            "zerolinecolor": "#C8D4E3"
           },
           "zaxis": {
            "backgroundcolor": "rgb(17,17,17)",
            "gridcolor": "#506784",
            "gridwidth": 2,
            "linecolor": "#506784",
            "showbackground": true,
            "ticks": "",
            "zerolinecolor": "#C8D4E3"
           }
          },
          "shapedefaults": {
           "line": {
            "color": "#f2f5fa"
           }
          },
          "sliderdefaults": {
           "bgcolor": "#C8D4E3",
           "bordercolor": "rgb(17,17,17)",
           "borderwidth": 1,
           "tickwidth": 0
          },
          "ternary": {
           "aaxis": {
            "gridcolor": "#506784",
            "linecolor": "#506784",
            "ticks": ""
           },
           "baxis": {
            "gridcolor": "#506784",
            "linecolor": "#506784",
            "ticks": ""
           },
           "bgcolor": "rgb(17,17,17)",
           "caxis": {
            "gridcolor": "#506784",
            "linecolor": "#506784",
            "ticks": ""
           }
          },
          "title": {
           "x": 0.05
          },
          "updatemenudefaults": {
           "bgcolor": "#506784",
           "borderwidth": 0
          },
          "xaxis": {
           "automargin": true,
           "gridcolor": "#283442",
           "linecolor": "#506784",
           "ticks": "",
           "title": {
            "standoff": 15
           },
           "zerolinecolor": "#283442",
           "zerolinewidth": 2
          },
          "yaxis": {
           "automargin": true,
           "gridcolor": "#283442",
           "linecolor": "#506784",
           "ticks": "",
           "title": {
            "standoff": 15
           },
           "zerolinecolor": "#283442",
           "zerolinewidth": 2
          }
         }
        },
        "title": {
         "text": "Max Normalized Score per game"
        }
       }
      }
     },
     "metadata": {},
     "output_type": "display_data"
    }
   ],
   "source": [
    "# Using plotly build radar chart for each binary feature: \"Stochastic\", \"Dialog\", \"Darkness\", \"Nonstandard Action\", \"Inventory\"\n",
    "import plotly.express as px\n",
    "import plotly.graph_objects as go\n",
    "\n",
    "# Sort runs_df theta according to gpt-4o best max normalized score\n",
    "runs_df = runs_df.sort_values(by=[\"model\", \"Max Normalized Score\"], ascending=True)\n",
    "\n",
    "fig = px.line_polar(runs_df,\n",
    "                    r=\"Max Normalized Score\",\n",
    "                    theta=\"game\",\n",
    "                    line_group=\"model\",\n",
    "                    color=\"model\",\n",
    "                    line_close=True, template=\"plotly_dark\", title=\"Max Normalized Score per game\")\n",
    "fig.update_layout(polar=dict(radialaxis=dict(range=[0, 100])))\n",
    "\n",
    "fig.show()"
   ]
  },
  {
   "cell_type": "code",
   "execution_count": 311,
   "metadata": {},
   "outputs": [
    {
     "name": "stderr",
     "output_type": "stream",
     "text": [
      "/home/macote/miniconda3/envs/textworld/lib/python3.9/site-packages/plotly/express/_core.py:1992: FutureWarning:\n",
      "\n",
      "When grouping with a length-1 list-like, you will need to pass a length-1 tuple to get_group in a future version of pandas. Pass `(name,)` instead of `name` to silence this warning.\n",
      "\n"
     ]
    },
    {
     "data": {
      "application/vnd.plotly.v1+json": {
       "config": {
        "plotlyServerURL": "https://plot.ly"
       },
       "data": [
        {
         "alignmentgroup": "True",
         "hovertemplate": "model=gpt-4o<br>Max Normalized Score=%{x}<br>game=%{y}<extra></extra>",
         "legendgroup": "gpt-4o",
         "marker": {
          "color": "#636efa",
          "pattern": {
           "shape": ""
          }
         },
         "name": "gpt-4o",
         "offsetgroup": "gpt-4o",
         "orientation": "h",
         "showlegend": true,
         "textposition": "auto",
         "type": "bar",
         "x": [
          0,
          0,
          0,
          0.3636363636363637,
          1.6,
          2.5,
          2.857142857142857,
          4.166666666666667,
          5,
          5,
          7.5,
          0,
          0,
          0,
          0,
          0,
          0,
          0,
          0,
          0,
          0.8,
          2.2222222222222223,
          3,
          3,
          6,
          7,
          7.333333333333333,
          10,
          10.285714285714286,
          12.857142857142858,
          19.607843137254903,
          20,
          28.571428571428573,
          42.857142857142854,
          0,
          0,
          0,
          0,
          0,
          0,
          0,
          4,
          7.142857142857143,
          10,
          10,
          17.333333333333332,
          19,
          22.857142857142858,
          33.333333333333336,
          53.333333333333336,
          60,
          86.11111111111111,
          86.11111111111111
         ],
         "xaxis": "x",
         "y": [
          "anchor",
          "ballyhoo",
          "cutthroat",
          "curses",
          "spirit",
          "hhgg",
          "tryst205",
          "spellbrkr",
          "enchanter",
          "sorcerer",
          "planetfall",
          "huntdark",
          "karn",
          "partyfoul",
          "plundered",
          "theatre",
          "weapon",
          "yomomma",
          "zenon",
          "zork2",
          "murdac",
          "jewel",
          "gold",
          "seastalker",
          "deephome",
          "wishbringer",
          "ludicorp",
          "enter",
          "advent",
          "zork1",
          "balances",
          "night",
          "lostpig",
          "zork3",
          "905",
          "adventureland",
          "awaken",
          "dragon",
          "infidel",
          "inhumane",
          "moonlit",
          "reverb",
          "pentari",
          "loose",
          "omniquest",
          "afflicted",
          "ztuu",
          "temple",
          "acorncourt",
          "library",
          "snacktime",
          "detective",
          "detective"
         ],
         "yaxis": "y"
        },
        {
         "alignmentgroup": "True",
         "hovertemplate": "model=meta-llama-3-70b-instruct-4<br>Max Normalized Score=%{x}<br>game=%{y}<extra></extra>",
         "legendgroup": "meta-llama-3-70b-instruct-4",
         "marker": {
          "color": "#EF553B",
          "pattern": {
           "shape": ""
          }
         },
         "name": "meta-llama-3-70b-instruct-4",
         "offsetgroup": "meta-llama-3-70b-instruct-4",
         "orientation": "h",
         "showlegend": true,
         "textposition": "auto",
         "type": "bar",
         "x": [
          0,
          0,
          0,
          0,
          0,
          1.25,
          2.5,
          3.75,
          6.666666666666667,
          11.25,
          16,
          0,
          0,
          0,
          0,
          0,
          0,
          0,
          0,
          0,
          0,
          0,
          2,
          2.2222222222222223,
          3,
          3.2,
          4,
          4.285714285714286,
          5,
          6,
          10.285714285714286,
          12,
          19.607843137254903,
          20,
          28.571428571428573,
          42.857142857142854,
          0,
          0,
          0,
          0,
          0,
          0,
          0,
          0,
          0,
          4,
          4,
          5,
          7.142857142857143,
          10,
          14.285714285714286,
          33.333333333333336,
          40,
          86.11111111111111
         ],
         "xaxis": "x",
         "y": [
          "anchor",
          "ballyhoo",
          "curses",
          "spirit",
          "tryst205",
          "sorcerer",
          "hhgg",
          "planetfall",
          "spellbrkr",
          "enchanter",
          "cutthroat",
          "hollywood",
          "huntdark",
          "karn",
          "lurking",
          "night",
          "partyfoul",
          "plundered",
          "theatre",
          "weapon",
          "yomomma",
          "zork2",
          "seastalker",
          "jewel",
          "gold",
          "murdac",
          "deephome",
          "zork1",
          "enter",
          "wishbringer",
          "advent",
          "ludicorp",
          "balances",
          "zenon",
          "lostpig",
          "zork3",
          "905",
          "adventureland",
          "afflicted",
          "awaken",
          "dragon",
          "infidel",
          "inhumane",
          "library",
          "moonlit",
          "loose",
          "reverb",
          "ztuu",
          "pentari",
          "omniquest",
          "temple",
          "acorncourt",
          "snacktime",
          "detective"
         ],
         "yaxis": "y"
        },
        {
         "alignmentgroup": "True",
         "hovertemplate": "model=microsoft/Phi-3-mini-128k-instruct<br>Max Normalized Score=%{x}<br>game=%{y}<extra></extra>",
         "legendgroup": "microsoft/Phi-3-mini-128k-instruct",
         "marker": {
          "color": "#00cc96",
          "pattern": {
           "shape": ""
          }
         },
         "name": "microsoft/Phi-3-mini-128k-instruct",
         "offsetgroup": "microsoft/Phi-3-mini-128k-instruct",
         "orientation": "h",
         "showlegend": true,
         "textposition": "auto",
         "type": "bar",
         "x": [
          0,
          0,
          0,
          0,
          0,
          0,
          0,
          0,
          1.25,
          2.5,
          3.75,
          0,
          0,
          0,
          0,
          0,
          0,
          0,
          0,
          0,
          0,
          0,
          0,
          0,
          0,
          0,
          0,
          0,
          0,
          0.3333333333333333,
          1,
          4.666666666666667,
          10.285714285714286,
          14.285714285714286,
          null,
          0,
          0,
          0,
          0,
          0,
          0,
          0,
          0,
          0,
          0,
          0,
          4,
          10,
          16.666666666666668,
          16.666666666666668,
          20,
          22.857142857142858,
          null
         ],
         "xaxis": "x",
         "y": [
          "anchor",
          "ballyhoo",
          "curses",
          "cutthroat",
          "enchanter",
          "hhgg",
          "spirit",
          "tryst205",
          "sorcerer",
          "spellbrkr",
          "planetfall",
          "balances",
          "enter",
          "gold",
          "hollywood",
          "huntdark",
          "jewel",
          "karn",
          "murdac",
          "night",
          "partyfoul",
          "plundered",
          "theatre",
          "weapon",
          "wishbringer",
          "yomomma",
          "zenon",
          "zork1",
          "zork2",
          "deephome",
          "seastalker",
          "ludicorp",
          "advent",
          "lostpig",
          "zork3",
          "905",
          "acorncourt",
          "adventureland",
          "afflicted",
          "awaken",
          "dragon",
          "infidel",
          "inhumane",
          "moonlit",
          "pentari",
          "ztuu",
          "loose",
          "omniquest",
          "detective",
          "library",
          "snacktime",
          "temple",
          "reverb"
         ],
         "yaxis": "y"
        },
        {
         "alignmentgroup": "True",
         "hovertemplate": "model=microsoft/Phi-3.5-mini-instruct<br>Max Normalized Score=%{x}<br>game=%{y}<extra></extra>",
         "legendgroup": "microsoft/Phi-3.5-mini-instruct",
         "marker": {
          "color": "#ab63fa",
          "pattern": {
           "shape": ""
          }
         },
         "name": "microsoft/Phi-3.5-mini-instruct",
         "offsetgroup": "microsoft/Phi-3.5-mini-instruct",
         "orientation": "h",
         "showlegend": true,
         "textposition": "auto",
         "type": "bar",
         "x": [
          0,
          0,
          0,
          0,
          0,
          0,
          0,
          0,
          0,
          1.25,
          2.5,
          0,
          0,
          0,
          0,
          0,
          0,
          0,
          0,
          0,
          0,
          0,
          0,
          0,
          0,
          0,
          0,
          0,
          0,
          0.3333333333333333,
          1,
          3.3333333333333335,
          6,
          10.285714285714286,
          14.285714285714286,
          0,
          0,
          0,
          0,
          0,
          0,
          0,
          0,
          0,
          0,
          0,
          0,
          0,
          0,
          0,
          10,
          16.666666666666668,
          20
         ],
         "xaxis": "x",
         "y": [
          "anchor",
          "ballyhoo",
          "curses",
          "cutthroat",
          "enchanter",
          "hhgg",
          "planetfall",
          "spirit",
          "tryst205",
          "sorcerer",
          "spellbrkr",
          "balances",
          "enter",
          "gold",
          "hollywood",
          "huntdark",
          "jewel",
          "karn",
          "murdac",
          "night",
          "partyfoul",
          "plundered",
          "theatre",
          "weapon",
          "yomomma",
          "zenon",
          "zork1",
          "zork2",
          "zork3",
          "deephome",
          "seastalker",
          "ludicorp",
          "wishbringer",
          "advent",
          "lostpig",
          "905",
          "acorncourt",
          "adventureland",
          "afflicted",
          "awaken",
          "dragon",
          "infidel",
          "inhumane",
          "library",
          "loose",
          "moonlit",
          "pentari",
          "reverb",
          "temple",
          "ztuu",
          "omniquest",
          "detective",
          "snacktime"
         ],
         "yaxis": "y"
        },
        {
         "alignmentgroup": "True",
         "hovertemplate": "model=phi-3-medium-128k-instruct-1<br>Max Normalized Score=%{x}<br>game=%{y}<extra></extra>",
         "legendgroup": "phi-3-medium-128k-instruct-1",
         "marker": {
          "color": "#FFA15A",
          "pattern": {
           "shape": ""
          }
         },
         "name": "phi-3-medium-128k-instruct-1",
         "offsetgroup": "phi-3-medium-128k-instruct-1",
         "orientation": "h",
         "showlegend": true,
         "textposition": "auto",
         "type": "bar",
         "x": [
          0,
          0,
          0,
          0,
          0,
          0,
          1.25,
          4,
          5,
          6.666666666666667,
          0,
          0,
          0,
          0,
          0,
          0,
          0,
          0,
          0,
          0,
          0,
          0,
          0,
          0,
          0,
          0.3333333333333333,
          2,
          6,
          6,
          9.803921568627452,
          10,
          10.285714285714286,
          28.571428571428573,
          28.571428571428573,
          0,
          0,
          0,
          0,
          0,
          0,
          0,
          0,
          0,
          0,
          0,
          0,
          5,
          10,
          13.88888888888889,
          14.285714285714286,
          16.666666666666668,
          20,
          33.333333333333336
         ],
         "xaxis": "x",
         "y": [
          "anchor",
          "ballyhoo",
          "curses",
          "hhgg",
          "planetfall",
          "spirit",
          "sorcerer",
          "cutthroat",
          "enchanter",
          "spellbrkr",
          "gold",
          "hollywood",
          "huntdark",
          "jewel",
          "karn",
          "murdac",
          "night",
          "partyfoul",
          "plundered",
          "theatre",
          "weapon",
          "yomomma",
          "zenon",
          "zork1",
          "zork2",
          "deephome",
          "seastalker",
          "ludicorp",
          "wishbringer",
          "balances",
          "enter",
          "advent",
          "lostpig",
          "zork3",
          "905",
          "acorncourt",
          "adventureland",
          "afflicted",
          "awaken",
          "dragon",
          "infidel",
          "inhumane",
          "loose",
          "moonlit",
          "pentari",
          "reverb",
          "ztuu",
          "omniquest",
          "detective",
          "temple",
          "detective",
          "snacktime",
          "library"
         ],
         "yaxis": "y"
        }
       ],
       "layout": {
        "barmode": "group",
        "height": 1000,
        "legend": {
         "title": {
          "text": "model"
         },
         "tracegroupgap": 0
        },
        "template": {
         "data": {
          "bar": [
           {
            "error_x": {
             "color": "#2a3f5f"
            },
            "error_y": {
             "color": "#2a3f5f"
            },
            "marker": {
             "line": {
              "color": "#E5ECF6",
              "width": 0.5
             },
             "pattern": {
              "fillmode": "overlay",
              "size": 10,
              "solidity": 0.2
             }
            },
            "type": "bar"
           }
          ],
          "barpolar": [
           {
            "marker": {
             "line": {
              "color": "#E5ECF6",
              "width": 0.5
             },
             "pattern": {
              "fillmode": "overlay",
              "size": 10,
              "solidity": 0.2
             }
            },
            "type": "barpolar"
           }
          ],
          "carpet": [
           {
            "aaxis": {
             "endlinecolor": "#2a3f5f",
             "gridcolor": "white",
             "linecolor": "white",
             "minorgridcolor": "white",
             "startlinecolor": "#2a3f5f"
            },
            "baxis": {
             "endlinecolor": "#2a3f5f",
             "gridcolor": "white",
             "linecolor": "white",
             "minorgridcolor": "white",
             "startlinecolor": "#2a3f5f"
            },
            "type": "carpet"
           }
          ],
          "choropleth": [
           {
            "colorbar": {
             "outlinewidth": 0,
             "ticks": ""
            },
            "type": "choropleth"
           }
          ],
          "contour": [
           {
            "colorbar": {
             "outlinewidth": 0,
             "ticks": ""
            },
            "colorscale": [
             [
              0,
              "#0d0887"
             ],
             [
              0.1111111111111111,
              "#46039f"
             ],
             [
              0.2222222222222222,
              "#7201a8"
             ],
             [
              0.3333333333333333,
              "#9c179e"
             ],
             [
              0.4444444444444444,
              "#bd3786"
             ],
             [
              0.5555555555555556,
              "#d8576b"
             ],
             [
              0.6666666666666666,
              "#ed7953"
             ],
             [
              0.7777777777777778,
              "#fb9f3a"
             ],
             [
              0.8888888888888888,
              "#fdca26"
             ],
             [
              1,
              "#f0f921"
             ]
            ],
            "type": "contour"
           }
          ],
          "contourcarpet": [
           {
            "colorbar": {
             "outlinewidth": 0,
             "ticks": ""
            },
            "type": "contourcarpet"
           }
          ],
          "heatmap": [
           {
            "colorbar": {
             "outlinewidth": 0,
             "ticks": ""
            },
            "colorscale": [
             [
              0,
              "#0d0887"
             ],
             [
              0.1111111111111111,
              "#46039f"
             ],
             [
              0.2222222222222222,
              "#7201a8"
             ],
             [
              0.3333333333333333,
              "#9c179e"
             ],
             [
              0.4444444444444444,
              "#bd3786"
             ],
             [
              0.5555555555555556,
              "#d8576b"
             ],
             [
              0.6666666666666666,
              "#ed7953"
             ],
             [
              0.7777777777777778,
              "#fb9f3a"
             ],
             [
              0.8888888888888888,
              "#fdca26"
             ],
             [
              1,
              "#f0f921"
             ]
            ],
            "type": "heatmap"
           }
          ],
          "heatmapgl": [
           {
            "colorbar": {
             "outlinewidth": 0,
             "ticks": ""
            },
            "colorscale": [
             [
              0,
              "#0d0887"
             ],
             [
              0.1111111111111111,
              "#46039f"
             ],
             [
              0.2222222222222222,
              "#7201a8"
             ],
             [
              0.3333333333333333,
              "#9c179e"
             ],
             [
              0.4444444444444444,
              "#bd3786"
             ],
             [
              0.5555555555555556,
              "#d8576b"
             ],
             [
              0.6666666666666666,
              "#ed7953"
             ],
             [
              0.7777777777777778,
              "#fb9f3a"
             ],
             [
              0.8888888888888888,
              "#fdca26"
             ],
             [
              1,
              "#f0f921"
             ]
            ],
            "type": "heatmapgl"
           }
          ],
          "histogram": [
           {
            "marker": {
             "pattern": {
              "fillmode": "overlay",
              "size": 10,
              "solidity": 0.2
             }
            },
            "type": "histogram"
           }
          ],
          "histogram2d": [
           {
            "colorbar": {
             "outlinewidth": 0,
             "ticks": ""
            },
            "colorscale": [
             [
              0,
              "#0d0887"
             ],
             [
              0.1111111111111111,
              "#46039f"
             ],
             [
              0.2222222222222222,
              "#7201a8"
             ],
             [
              0.3333333333333333,
              "#9c179e"
             ],
             [
              0.4444444444444444,
              "#bd3786"
             ],
             [
              0.5555555555555556,
              "#d8576b"
             ],
             [
              0.6666666666666666,
              "#ed7953"
             ],
             [
              0.7777777777777778,
              "#fb9f3a"
             ],
             [
              0.8888888888888888,
              "#fdca26"
             ],
             [
              1,
              "#f0f921"
             ]
            ],
            "type": "histogram2d"
           }
          ],
          "histogram2dcontour": [
           {
            "colorbar": {
             "outlinewidth": 0,
             "ticks": ""
            },
            "colorscale": [
             [
              0,
              "#0d0887"
             ],
             [
              0.1111111111111111,
              "#46039f"
             ],
             [
              0.2222222222222222,
              "#7201a8"
             ],
             [
              0.3333333333333333,
              "#9c179e"
             ],
             [
              0.4444444444444444,
              "#bd3786"
             ],
             [
              0.5555555555555556,
              "#d8576b"
             ],
             [
              0.6666666666666666,
              "#ed7953"
             ],
             [
              0.7777777777777778,
              "#fb9f3a"
             ],
             [
              0.8888888888888888,
              "#fdca26"
             ],
             [
              1,
              "#f0f921"
             ]
            ],
            "type": "histogram2dcontour"
           }
          ],
          "mesh3d": [
           {
            "colorbar": {
             "outlinewidth": 0,
             "ticks": ""
            },
            "type": "mesh3d"
           }
          ],
          "parcoords": [
           {
            "line": {
             "colorbar": {
              "outlinewidth": 0,
              "ticks": ""
             }
            },
            "type": "parcoords"
           }
          ],
          "pie": [
           {
            "automargin": true,
            "type": "pie"
           }
          ],
          "scatter": [
           {
            "fillpattern": {
             "fillmode": "overlay",
             "size": 10,
             "solidity": 0.2
            },
            "type": "scatter"
           }
          ],
          "scatter3d": [
           {
            "line": {
             "colorbar": {
              "outlinewidth": 0,
              "ticks": ""
             }
            },
            "marker": {
             "colorbar": {
              "outlinewidth": 0,
              "ticks": ""
             }
            },
            "type": "scatter3d"
           }
          ],
          "scattercarpet": [
           {
            "marker": {
             "colorbar": {
              "outlinewidth": 0,
              "ticks": ""
             }
            },
            "type": "scattercarpet"
           }
          ],
          "scattergeo": [
           {
            "marker": {
             "colorbar": {
              "outlinewidth": 0,
              "ticks": ""
             }
            },
            "type": "scattergeo"
           }
          ],
          "scattergl": [
           {
            "marker": {
             "colorbar": {
              "outlinewidth": 0,
              "ticks": ""
             }
            },
            "type": "scattergl"
           }
          ],
          "scattermapbox": [
           {
            "marker": {
             "colorbar": {
              "outlinewidth": 0,
              "ticks": ""
             }
            },
            "type": "scattermapbox"
           }
          ],
          "scatterpolar": [
           {
            "marker": {
             "colorbar": {
              "outlinewidth": 0,
              "ticks": ""
             }
            },
            "type": "scatterpolar"
           }
          ],
          "scatterpolargl": [
           {
            "marker": {
             "colorbar": {
              "outlinewidth": 0,
              "ticks": ""
             }
            },
            "type": "scatterpolargl"
           }
          ],
          "scatterternary": [
           {
            "marker": {
             "colorbar": {
              "outlinewidth": 0,
              "ticks": ""
             }
            },
            "type": "scatterternary"
           }
          ],
          "surface": [
           {
            "colorbar": {
             "outlinewidth": 0,
             "ticks": ""
            },
            "colorscale": [
             [
              0,
              "#0d0887"
             ],
             [
              0.1111111111111111,
              "#46039f"
             ],
             [
              0.2222222222222222,
              "#7201a8"
             ],
             [
              0.3333333333333333,
              "#9c179e"
             ],
             [
              0.4444444444444444,
              "#bd3786"
             ],
             [
              0.5555555555555556,
              "#d8576b"
             ],
             [
              0.6666666666666666,
              "#ed7953"
             ],
             [
              0.7777777777777778,
              "#fb9f3a"
             ],
             [
              0.8888888888888888,
              "#fdca26"
             ],
             [
              1,
              "#f0f921"
             ]
            ],
            "type": "surface"
           }
          ],
          "table": [
           {
            "cells": {
             "fill": {
              "color": "#EBF0F8"
             },
             "line": {
              "color": "white"
             }
            },
            "header": {
             "fill": {
              "color": "#C8D4E3"
             },
             "line": {
              "color": "white"
             }
            },
            "type": "table"
           }
          ]
         },
         "layout": {
          "annotationdefaults": {
           "arrowcolor": "#2a3f5f",
           "arrowhead": 0,
           "arrowwidth": 1
          },
          "autotypenumbers": "strict",
          "coloraxis": {
           "colorbar": {
            "outlinewidth": 0,
            "ticks": ""
           }
          },
          "colorscale": {
           "diverging": [
            [
             0,
             "#8e0152"
            ],
            [
             0.1,
             "#c51b7d"
            ],
            [
             0.2,
             "#de77ae"
            ],
            [
             0.3,
             "#f1b6da"
            ],
            [
             0.4,
             "#fde0ef"
            ],
            [
             0.5,
             "#f7f7f7"
            ],
            [
             0.6,
             "#e6f5d0"
            ],
            [
             0.7,
             "#b8e186"
            ],
            [
             0.8,
             "#7fbc41"
            ],
            [
             0.9,
             "#4d9221"
            ],
            [
             1,
             "#276419"
            ]
           ],
           "sequential": [
            [
             0,
             "#0d0887"
            ],
            [
             0.1111111111111111,
             "#46039f"
            ],
            [
             0.2222222222222222,
             "#7201a8"
            ],
            [
             0.3333333333333333,
             "#9c179e"
            ],
            [
             0.4444444444444444,
             "#bd3786"
            ],
            [
             0.5555555555555556,
             "#d8576b"
            ],
            [
             0.6666666666666666,
             "#ed7953"
            ],
            [
             0.7777777777777778,
             "#fb9f3a"
            ],
            [
             0.8888888888888888,
             "#fdca26"
            ],
            [
             1,
             "#f0f921"
            ]
           ],
           "sequentialminus": [
            [
             0,
             "#0d0887"
            ],
            [
             0.1111111111111111,
             "#46039f"
            ],
            [
             0.2222222222222222,
             "#7201a8"
            ],
            [
             0.3333333333333333,
             "#9c179e"
            ],
            [
             0.4444444444444444,
             "#bd3786"
            ],
            [
             0.5555555555555556,
             "#d8576b"
            ],
            [
             0.6666666666666666,
             "#ed7953"
            ],
            [
             0.7777777777777778,
             "#fb9f3a"
            ],
            [
             0.8888888888888888,
             "#fdca26"
            ],
            [
             1,
             "#f0f921"
            ]
           ]
          },
          "colorway": [
           "#636efa",
           "#EF553B",
           "#00cc96",
           "#ab63fa",
           "#FFA15A",
           "#19d3f3",
           "#FF6692",
           "#B6E880",
           "#FF97FF",
           "#FECB52"
          ],
          "font": {
           "color": "#2a3f5f"
          },
          "geo": {
           "bgcolor": "white",
           "lakecolor": "white",
           "landcolor": "#E5ECF6",
           "showlakes": true,
           "showland": true,
           "subunitcolor": "white"
          },
          "hoverlabel": {
           "align": "left"
          },
          "hovermode": "closest",
          "mapbox": {
           "style": "light"
          },
          "paper_bgcolor": "white",
          "plot_bgcolor": "#E5ECF6",
          "polar": {
           "angularaxis": {
            "gridcolor": "white",
            "linecolor": "white",
            "ticks": ""
           },
           "bgcolor": "#E5ECF6",
           "radialaxis": {
            "gridcolor": "white",
            "linecolor": "white",
            "ticks": ""
           }
          },
          "scene": {
           "xaxis": {
            "backgroundcolor": "#E5ECF6",
            "gridcolor": "white",
            "gridwidth": 2,
            "linecolor": "white",
            "showbackground": true,
            "ticks": "",
            "zerolinecolor": "white"
           },
           "yaxis": {
            "backgroundcolor": "#E5ECF6",
            "gridcolor": "white",
            "gridwidth": 2,
            "linecolor": "white",
            "showbackground": true,
            "ticks": "",
            "zerolinecolor": "white"
           },
           "zaxis": {
            "backgroundcolor": "#E5ECF6",
            "gridcolor": "white",
            "gridwidth": 2,
            "linecolor": "white",
            "showbackground": true,
            "ticks": "",
            "zerolinecolor": "white"
           }
          },
          "shapedefaults": {
           "line": {
            "color": "#2a3f5f"
           }
          },
          "ternary": {
           "aaxis": {
            "gridcolor": "white",
            "linecolor": "white",
            "ticks": ""
           },
           "baxis": {
            "gridcolor": "white",
            "linecolor": "white",
            "ticks": ""
           },
           "bgcolor": "#E5ECF6",
           "caxis": {
            "gridcolor": "white",
            "linecolor": "white",
            "ticks": ""
           }
          },
          "title": {
           "x": 0.05
          },
          "xaxis": {
           "automargin": true,
           "gridcolor": "white",
           "linecolor": "white",
           "ticks": "",
           "title": {
            "standoff": 15
           },
           "zerolinecolor": "white",
           "zerolinewidth": 2
          },
          "yaxis": {
           "automargin": true,
           "gridcolor": "white",
           "linecolor": "white",
           "ticks": "",
           "title": {
            "standoff": 15
           },
           "zerolinecolor": "white",
           "zerolinewidth": 2
          }
         }
        },
        "title": {
         "text": "Max Normalized Score per game"
        },
        "xaxis": {
         "anchor": "y",
         "domain": [
          0,
          1
         ],
         "range": [
          0,
          100
         ],
         "title": {
          "text": "Max Normalized Score"
         }
        },
        "yaxis": {
         "anchor": "x",
         "domain": [
          0,
          1
         ],
         "tickmode": "array",
         "ticktext": [
          "<span style='color:red'>anchor</span>",
          "<span style='color:red'>ballyhoo</span>",
          "<span style='color:red'>cutthroat</span>",
          "<span style='color:red'>curses</span>",
          "<span style='color:red'>spirit</span>",
          "<span style='color:red'>hhgg</span>",
          "<span style='color:red'>tryst205</span>",
          "<span style='color:red'>spellbrkr</span>",
          "<span style='color:red'>enchanter</span>",
          "<span style='color:red'>sorcerer</span>",
          "<span style='color:red'>planetfall</span>",
          "<span style='color:red'>anchor</span>",
          "<span style='color:red'>ballyhoo</span>",
          "<span style='color:red'>curses</span>",
          "<span style='color:red'>spirit</span>",
          "<span style='color:red'>tryst205</span>",
          "<span style='color:red'>sorcerer</span>",
          "<span style='color:red'>hhgg</span>",
          "<span style='color:red'>planetfall</span>",
          "<span style='color:red'>spellbrkr</span>",
          "<span style='color:red'>enchanter</span>",
          "<span style='color:red'>cutthroat</span>",
          "<span style='color:red'>anchor</span>",
          "<span style='color:red'>ballyhoo</span>",
          "<span style='color:red'>curses</span>",
          "<span style='color:red'>cutthroat</span>",
          "<span style='color:red'>enchanter</span>",
          "<span style='color:red'>hhgg</span>",
          "<span style='color:red'>spirit</span>",
          "<span style='color:red'>tryst205</span>",
          "<span style='color:red'>sorcerer</span>",
          "<span style='color:red'>spellbrkr</span>",
          "<span style='color:red'>planetfall</span>",
          "<span style='color:red'>anchor</span>",
          "<span style='color:red'>ballyhoo</span>",
          "<span style='color:red'>curses</span>",
          "<span style='color:red'>cutthroat</span>",
          "<span style='color:red'>enchanter</span>",
          "<span style='color:red'>hhgg</span>",
          "<span style='color:red'>planetfall</span>",
          "<span style='color:red'>spirit</span>",
          "<span style='color:red'>tryst205</span>",
          "<span style='color:red'>sorcerer</span>",
          "<span style='color:red'>spellbrkr</span>",
          "<span style='color:red'>anchor</span>",
          "<span style='color:red'>ballyhoo</span>",
          "<span style='color:red'>curses</span>",
          "<span style='color:red'>hhgg</span>",
          "<span style='color:red'>planetfall</span>",
          "<span style='color:red'>spirit</span>",
          "<span style='color:red'>sorcerer</span>",
          "<span style='color:red'>cutthroat</span>",
          "<span style='color:red'>enchanter</span>",
          "<span style='color:red'>spellbrkr</span>",
          "<span style='color:orange'>huntdark</span>",
          "<span style='color:orange'>karn</span>",
          "<span style='color:orange'>partyfoul</span>",
          "<span style='color:orange'>plundered</span>",
          "<span style='color:orange'>theatre</span>",
          "<span style='color:orange'>weapon</span>",
          "<span style='color:orange'>yomomma</span>",
          "<span style='color:orange'>zenon</span>",
          "<span style='color:orange'>zork2</span>",
          "<span style='color:orange'>murdac</span>",
          "<span style='color:orange'>jewel</span>",
          "<span style='color:orange'>gold</span>",
          "<span style='color:orange'>seastalker</span>",
          "<span style='color:orange'>deephome</span>",
          "<span style='color:orange'>wishbringer</span>",
          "<span style='color:orange'>ludicorp</span>",
          "<span style='color:orange'>enter</span>",
          "<span style='color:orange'>advent</span>",
          "<span style='color:orange'>zork1</span>",
          "<span style='color:orange'>balances</span>",
          "<span style='color:orange'>night</span>",
          "<span style='color:orange'>lostpig</span>",
          "<span style='color:orange'>zork3</span>",
          "<span style='color:orange'>hollywood</span>",
          "<span style='color:orange'>huntdark</span>",
          "<span style='color:orange'>karn</span>",
          "<span style='color:orange'>lurking</span>",
          "<span style='color:orange'>night</span>",
          "<span style='color:orange'>partyfoul</span>",
          "<span style='color:orange'>plundered</span>",
          "<span style='color:orange'>theatre</span>",
          "<span style='color:orange'>weapon</span>",
          "<span style='color:orange'>yomomma</span>",
          "<span style='color:orange'>zork2</span>",
          "<span style='color:orange'>seastalker</span>",
          "<span style='color:orange'>jewel</span>",
          "<span style='color:orange'>gold</span>",
          "<span style='color:orange'>murdac</span>",
          "<span style='color:orange'>deephome</span>",
          "<span style='color:orange'>zork1</span>",
          "<span style='color:orange'>enter</span>",
          "<span style='color:orange'>wishbringer</span>",
          "<span style='color:orange'>advent</span>",
          "<span style='color:orange'>ludicorp</span>",
          "<span style='color:orange'>balances</span>",
          "<span style='color:orange'>zenon</span>",
          "<span style='color:orange'>lostpig</span>",
          "<span style='color:orange'>zork3</span>",
          "<span style='color:orange'>balances</span>",
          "<span style='color:orange'>enter</span>",
          "<span style='color:orange'>gold</span>",
          "<span style='color:orange'>hollywood</span>",
          "<span style='color:orange'>huntdark</span>",
          "<span style='color:orange'>jewel</span>",
          "<span style='color:orange'>karn</span>",
          "<span style='color:orange'>murdac</span>",
          "<span style='color:orange'>night</span>",
          "<span style='color:orange'>partyfoul</span>",
          "<span style='color:orange'>plundered</span>",
          "<span style='color:orange'>theatre</span>",
          "<span style='color:orange'>weapon</span>",
          "<span style='color:orange'>wishbringer</span>",
          "<span style='color:orange'>yomomma</span>",
          "<span style='color:orange'>zenon</span>",
          "<span style='color:orange'>zork1</span>",
          "<span style='color:orange'>zork2</span>",
          "<span style='color:orange'>deephome</span>",
          "<span style='color:orange'>seastalker</span>",
          "<span style='color:orange'>ludicorp</span>",
          "<span style='color:orange'>advent</span>",
          "<span style='color:orange'>lostpig</span>",
          "<span style='color:orange'>zork3</span>",
          "<span style='color:orange'>balances</span>",
          "<span style='color:orange'>enter</span>",
          "<span style='color:orange'>gold</span>",
          "<span style='color:orange'>hollywood</span>",
          "<span style='color:orange'>huntdark</span>",
          "<span style='color:orange'>jewel</span>",
          "<span style='color:orange'>karn</span>",
          "<span style='color:orange'>murdac</span>",
          "<span style='color:orange'>night</span>",
          "<span style='color:orange'>partyfoul</span>",
          "<span style='color:orange'>plundered</span>",
          "<span style='color:orange'>theatre</span>",
          "<span style='color:orange'>weapon</span>",
          "<span style='color:orange'>yomomma</span>",
          "<span style='color:orange'>zenon</span>",
          "<span style='color:orange'>zork1</span>",
          "<span style='color:orange'>zork2</span>",
          "<span style='color:orange'>zork3</span>",
          "<span style='color:orange'>deephome</span>",
          "<span style='color:orange'>seastalker</span>",
          "<span style='color:orange'>ludicorp</span>",
          "<span style='color:orange'>wishbringer</span>",
          "<span style='color:orange'>advent</span>",
          "<span style='color:orange'>lostpig</span>",
          "<span style='color:orange'>gold</span>",
          "<span style='color:orange'>hollywood</span>",
          "<span style='color:orange'>huntdark</span>",
          "<span style='color:orange'>jewel</span>",
          "<span style='color:orange'>karn</span>",
          "<span style='color:orange'>murdac</span>",
          "<span style='color:orange'>night</span>",
          "<span style='color:orange'>partyfoul</span>",
          "<span style='color:orange'>plundered</span>",
          "<span style='color:orange'>theatre</span>",
          "<span style='color:orange'>weapon</span>",
          "<span style='color:orange'>yomomma</span>",
          "<span style='color:orange'>zenon</span>",
          "<span style='color:orange'>zork1</span>",
          "<span style='color:orange'>zork2</span>",
          "<span style='color:orange'>deephome</span>",
          "<span style='color:orange'>seastalker</span>",
          "<span style='color:orange'>ludicorp</span>",
          "<span style='color:orange'>wishbringer</span>",
          "<span style='color:orange'>balances</span>",
          "<span style='color:orange'>enter</span>",
          "<span style='color:orange'>advent</span>",
          "<span style='color:orange'>lostpig</span>",
          "<span style='color:orange'>zork3</span>",
          "<span style='color:green'>905</span>",
          "<span style='color:green'>adventureland</span>",
          "<span style='color:green'>awaken</span>",
          "<span style='color:green'>dragon</span>",
          "<span style='color:green'>infidel</span>",
          "<span style='color:green'>inhumane</span>",
          "<span style='color:green'>moonlit</span>",
          "<span style='color:green'>reverb</span>",
          "<span style='color:green'>pentari</span>",
          "<span style='color:green'>loose</span>",
          "<span style='color:green'>omniquest</span>",
          "<span style='color:green'>afflicted</span>",
          "<span style='color:green'>ztuu</span>",
          "<span style='color:green'>temple</span>",
          "<span style='color:green'>acorncourt</span>",
          "<span style='color:green'>library</span>",
          "<span style='color:green'>snacktime</span>",
          "<span style='color:green'>detective</span>",
          "<span style='color:green'>detective</span>",
          "<span style='color:green'>905</span>",
          "<span style='color:green'>adventureland</span>",
          "<span style='color:green'>afflicted</span>",
          "<span style='color:green'>awaken</span>",
          "<span style='color:green'>dragon</span>",
          "<span style='color:green'>infidel</span>",
          "<span style='color:green'>inhumane</span>",
          "<span style='color:green'>library</span>",
          "<span style='color:green'>moonlit</span>",
          "<span style='color:green'>loose</span>",
          "<span style='color:green'>reverb</span>",
          "<span style='color:green'>ztuu</span>",
          "<span style='color:green'>pentari</span>",
          "<span style='color:green'>omniquest</span>",
          "<span style='color:green'>temple</span>",
          "<span style='color:green'>acorncourt</span>",
          "<span style='color:green'>snacktime</span>",
          "<span style='color:green'>detective</span>",
          "<span style='color:green'>905</span>",
          "<span style='color:green'>acorncourt</span>",
          "<span style='color:green'>adventureland</span>",
          "<span style='color:green'>afflicted</span>",
          "<span style='color:green'>awaken</span>",
          "<span style='color:green'>dragon</span>",
          "<span style='color:green'>infidel</span>",
          "<span style='color:green'>inhumane</span>",
          "<span style='color:green'>moonlit</span>",
          "<span style='color:green'>pentari</span>",
          "<span style='color:green'>ztuu</span>",
          "<span style='color:green'>loose</span>",
          "<span style='color:green'>omniquest</span>",
          "<span style='color:green'>detective</span>",
          "<span style='color:green'>library</span>",
          "<span style='color:green'>snacktime</span>",
          "<span style='color:green'>temple</span>",
          "<span style='color:green'>reverb</span>",
          "<span style='color:green'>905</span>",
          "<span style='color:green'>acorncourt</span>",
          "<span style='color:green'>adventureland</span>",
          "<span style='color:green'>afflicted</span>",
          "<span style='color:green'>awaken</span>",
          "<span style='color:green'>dragon</span>",
          "<span style='color:green'>infidel</span>",
          "<span style='color:green'>inhumane</span>",
          "<span style='color:green'>library</span>",
          "<span style='color:green'>loose</span>",
          "<span style='color:green'>moonlit</span>",
          "<span style='color:green'>pentari</span>",
          "<span style='color:green'>reverb</span>",
          "<span style='color:green'>temple</span>",
          "<span style='color:green'>ztuu</span>",
          "<span style='color:green'>omniquest</span>",
          "<span style='color:green'>detective</span>",
          "<span style='color:green'>snacktime</span>",
          "<span style='color:green'>905</span>",
          "<span style='color:green'>acorncourt</span>",
          "<span style='color:green'>adventureland</span>",
          "<span style='color:green'>afflicted</span>",
          "<span style='color:green'>awaken</span>",
          "<span style='color:green'>dragon</span>",
          "<span style='color:green'>infidel</span>",
          "<span style='color:green'>inhumane</span>",
          "<span style='color:green'>loose</span>",
          "<span style='color:green'>moonlit</span>",
          "<span style='color:green'>pentari</span>",
          "<span style='color:green'>reverb</span>",
          "<span style='color:green'>ztuu</span>",
          "<span style='color:green'>omniquest</span>",
          "<span style='color:green'>detective</span>",
          "<span style='color:green'>temple</span>",
          "<span style='color:green'>detective</span>",
          "<span style='color:green'>snacktime</span>",
          "<span style='color:green'>library</span>"
         ],
         "tickvals": [
          "anchor",
          "ballyhoo",
          "cutthroat",
          "curses",
          "spirit",
          "hhgg",
          "tryst205",
          "spellbrkr",
          "enchanter",
          "sorcerer",
          "planetfall",
          "anchor",
          "ballyhoo",
          "curses",
          "spirit",
          "tryst205",
          "sorcerer",
          "hhgg",
          "planetfall",
          "spellbrkr",
          "enchanter",
          "cutthroat",
          "anchor",
          "ballyhoo",
          "curses",
          "cutthroat",
          "enchanter",
          "hhgg",
          "spirit",
          "tryst205",
          "sorcerer",
          "spellbrkr",
          "planetfall",
          "anchor",
          "ballyhoo",
          "curses",
          "cutthroat",
          "enchanter",
          "hhgg",
          "planetfall",
          "spirit",
          "tryst205",
          "sorcerer",
          "spellbrkr",
          "anchor",
          "ballyhoo",
          "curses",
          "hhgg",
          "planetfall",
          "spirit",
          "sorcerer",
          "cutthroat",
          "enchanter",
          "spellbrkr",
          "huntdark",
          "karn",
          "partyfoul",
          "plundered",
          "theatre",
          "weapon",
          "yomomma",
          "zenon",
          "zork2",
          "murdac",
          "jewel",
          "gold",
          "seastalker",
          "deephome",
          "wishbringer",
          "ludicorp",
          "enter",
          "advent",
          "zork1",
          "balances",
          "night",
          "lostpig",
          "zork3",
          "hollywood",
          "huntdark",
          "karn",
          "lurking",
          "night",
          "partyfoul",
          "plundered",
          "theatre",
          "weapon",
          "yomomma",
          "zork2",
          "seastalker",
          "jewel",
          "gold",
          "murdac",
          "deephome",
          "zork1",
          "enter",
          "wishbringer",
          "advent",
          "ludicorp",
          "balances",
          "zenon",
          "lostpig",
          "zork3",
          "balances",
          "enter",
          "gold",
          "hollywood",
          "huntdark",
          "jewel",
          "karn",
          "murdac",
          "night",
          "partyfoul",
          "plundered",
          "theatre",
          "weapon",
          "wishbringer",
          "yomomma",
          "zenon",
          "zork1",
          "zork2",
          "deephome",
          "seastalker",
          "ludicorp",
          "advent",
          "lostpig",
          "zork3",
          "balances",
          "enter",
          "gold",
          "hollywood",
          "huntdark",
          "jewel",
          "karn",
          "murdac",
          "night",
          "partyfoul",
          "plundered",
          "theatre",
          "weapon",
          "yomomma",
          "zenon",
          "zork1",
          "zork2",
          "zork3",
          "deephome",
          "seastalker",
          "ludicorp",
          "wishbringer",
          "advent",
          "lostpig",
          "gold",
          "hollywood",
          "huntdark",
          "jewel",
          "karn",
          "murdac",
          "night",
          "partyfoul",
          "plundered",
          "theatre",
          "weapon",
          "yomomma",
          "zenon",
          "zork1",
          "zork2",
          "deephome",
          "seastalker",
          "ludicorp",
          "wishbringer",
          "balances",
          "enter",
          "advent",
          "lostpig",
          "zork3",
          "905",
          "adventureland",
          "awaken",
          "dragon",
          "infidel",
          "inhumane",
          "moonlit",
          "reverb",
          "pentari",
          "loose",
          "omniquest",
          "afflicted",
          "ztuu",
          "temple",
          "acorncourt",
          "library",
          "snacktime",
          "detective",
          "detective",
          "905",
          "adventureland",
          "afflicted",
          "awaken",
          "dragon",
          "infidel",
          "inhumane",
          "library",
          "moonlit",
          "loose",
          "reverb",
          "ztuu",
          "pentari",
          "omniquest",
          "temple",
          "acorncourt",
          "snacktime",
          "detective",
          "905",
          "acorncourt",
          "adventureland",
          "afflicted",
          "awaken",
          "dragon",
          "infidel",
          "inhumane",
          "moonlit",
          "pentari",
          "ztuu",
          "loose",
          "omniquest",
          "detective",
          "library",
          "snacktime",
          "temple",
          "reverb",
          "905",
          "acorncourt",
          "adventureland",
          "afflicted",
          "awaken",
          "dragon",
          "infidel",
          "inhumane",
          "library",
          "loose",
          "moonlit",
          "pentari",
          "reverb",
          "temple",
          "ztuu",
          "omniquest",
          "detective",
          "snacktime",
          "905",
          "acorncourt",
          "adventureland",
          "afflicted",
          "awaken",
          "dragon",
          "infidel",
          "inhumane",
          "loose",
          "moonlit",
          "pentari",
          "reverb",
          "ztuu",
          "omniquest",
          "detective",
          "temple",
          "detective",
          "snacktime",
          "library"
         ],
         "title": {
          "text": "game"
         }
        }
       }
      }
     },
     "metadata": {},
     "output_type": "display_data"
    }
   ],
   "source": [
    "# Create a group bar chart with the average score per game for each model\n",
    "import plotly.express as px\n",
    "import plotly.graph_objects as go\n",
    "\n",
    "df = runs_df.copy()\n",
    "\n",
    "# sort by max score for gpt-4o\n",
    "#df = df.sort_values(by=[\"model\", \"Max Normalized Score\"], ascending=True)\n",
    "# Strip the extension from game name\n",
    "df[\"game\"] = df[\"game\"].map(lambda x: x.split(\".\")[0])\n",
    "\n",
    "# Filterout game lurking and hollywood\n",
    "#df = df[~df[\"game\"].isin([\"lurking\", \"hollywood\"])]\n",
    "\n",
    "# Add new column to order difficulty\n",
    "df[\"order\"] = df[\"Difficulty\"].map({\"Possible\": 2, \"Difficult\": 1, \"Extreme\": 0})\n",
    "\n",
    "df = df.sort_values(by=[\"order\", \"model\", \"Max Normalized Score\"], ascending=True)\n",
    "\n",
    "# Add new column color for each game based on the game difficulty\n",
    "def color(game, diff):\n",
    "    if diff == \"Possible\":\n",
    "        return f\"<span style='color:green'>{game}</span>\"\n",
    "    elif diff == \"Difficult\":\n",
    "        return f\"<span style='color:orange'>{game}</span>\"\n",
    "    elif diff == \"Extreme\":\n",
    "        return f\"<span style='color:red'>{game}</span>\"\n",
    "    else:\n",
    "        raise ValueError(\"Unknown difficulty\")\n",
    "\n",
    "df[\"color\"] = df.apply(lambda x: color(x[\"game\"], x[\"Difficulty\"]), axis=1)\n",
    "\n",
    "\n",
    "fig = px.bar(df, x=\"Max Normalized Score\", y=\"game\", color=\"model\", barmode=\"group\", title=\"Max Normalized Score per game\", height=1000)\n",
    "\n",
    "# Sort the y axis by game difficulty and then by max score for gpt-4o\n",
    "#fig.update_yaxes(categoryorder=\"array\", categoryarray=df.sort_values(by=[\"order\", \"model\", \"Max Normalized Score\"], ascending=True))\n",
    "fig.update_yaxes(tickvals=df[\"game\"], tickmode=\"array\", ticktext=df[\"color\"])\n",
    "\n",
    "# Make x axis range from 0 to 100\n",
    "fig.update_xaxes(range=[0, 100])\n",
    "\n",
    "# sort game title by max score for gpt-4o\n",
    "#fig.update_yaxes(categoryorder=\"total ascending\")\n"
   ]
  },
  {
   "cell_type": "code",
   "execution_count": 292,
   "metadata": {},
   "outputs": [
    {
     "data": {
      "text/html": [
       "<div>\n",
       "<style scoped>\n",
       "    .dataframe tbody tr th:only-of-type {\n",
       "        vertical-align: middle;\n",
       "    }\n",
       "\n",
       "    .dataframe tbody tr th {\n",
       "        vertical-align: top;\n",
       "    }\n",
       "\n",
       "    .dataframe thead th {\n",
       "        text-align: right;\n",
       "    }\n",
       "</style>\n",
       "<table border=\"1\" class=\"dataframe\">\n",
       "  <thead>\n",
       "    <tr style=\"text-align: right;\">\n",
       "      <th></th>\n",
       "      <th>game</th>\n",
       "      <th>model</th>\n",
       "      <th>Max Normalized Score</th>\n",
       "      <th>Stochastic</th>\n",
       "      <th>Dialog</th>\n",
       "      <th>Darkness</th>\n",
       "      <th>Nonstandard Action</th>\n",
       "      <th>Inventory</th>\n",
       "      <th>Maze</th>\n",
       "      <th>Trivia</th>\n",
       "      <th>Self-Maintenance</th>\n",
       "      <th>Combat</th>\n",
       "      <th>Time</th>\n",
       "      <th>Mechanical Puzzle</th>\n",
       "      <th>Persistence</th>\n",
       "      <th>Difficulty</th>\n",
       "      <th>color</th>\n",
       "      <th>order</th>\n",
       "    </tr>\n",
       "  </thead>\n",
       "  <tbody>\n",
       "    <tr>\n",
       "      <th>45</th>\n",
       "      <td>hollywood</td>\n",
       "      <td>meta-llama-3-70b-instruct-4</td>\n",
       "      <td>0.0</td>\n",
       "      <td>True</td>\n",
       "      <td>False</td>\n",
       "      <td>True</td>\n",
       "      <td>False</td>\n",
       "      <td>False</td>\n",
       "      <td>True</td>\n",
       "      <td>True</td>\n",
       "      <td>False</td>\n",
       "      <td>True</td>\n",
       "      <td>False</td>\n",
       "      <td>True</td>\n",
       "      <td>False</td>\n",
       "      <td>Difficult</td>\n",
       "      <td>&lt;span style='color:orange'&gt;hollywood&lt;/span&gt;</td>\n",
       "      <td>1</td>\n",
       "    </tr>\n",
       "    <tr>\n",
       "      <th>72</th>\n",
       "      <td>hollywood</td>\n",
       "      <td>microsoft/Phi-3.5-mini-instruct</td>\n",
       "      <td>0.0</td>\n",
       "      <td>True</td>\n",
       "      <td>False</td>\n",
       "      <td>True</td>\n",
       "      <td>False</td>\n",
       "      <td>False</td>\n",
       "      <td>True</td>\n",
       "      <td>True</td>\n",
       "      <td>False</td>\n",
       "      <td>True</td>\n",
       "      <td>False</td>\n",
       "      <td>True</td>\n",
       "      <td>False</td>\n",
       "      <td>Difficult</td>\n",
       "      <td>&lt;span style='color:orange'&gt;hollywood&lt;/span&gt;</td>\n",
       "      <td>1</td>\n",
       "    </tr>\n",
       "    <tr>\n",
       "      <th>22</th>\n",
       "      <td>hollywood</td>\n",
       "      <td>phi-3-medium-128k-instruct-1</td>\n",
       "      <td>0.0</td>\n",
       "      <td>True</td>\n",
       "      <td>False</td>\n",
       "      <td>True</td>\n",
       "      <td>False</td>\n",
       "      <td>False</td>\n",
       "      <td>True</td>\n",
       "      <td>True</td>\n",
       "      <td>False</td>\n",
       "      <td>True</td>\n",
       "      <td>False</td>\n",
       "      <td>True</td>\n",
       "      <td>False</td>\n",
       "      <td>Difficult</td>\n",
       "      <td>&lt;span style='color:orange'&gt;hollywood&lt;/span&gt;</td>\n",
       "      <td>1</td>\n",
       "    </tr>\n",
       "  </tbody>\n",
       "</table>\n",
       "</div>"
      ],
      "text/plain": [
       "         game                            model  Max Normalized Score  \\\n",
       "45  hollywood      meta-llama-3-70b-instruct-4                   0.0   \n",
       "72  hollywood  microsoft/Phi-3.5-mini-instruct                   0.0   \n",
       "22  hollywood     phi-3-medium-128k-instruct-1                   0.0   \n",
       "\n",
       "    Stochastic  Dialog  Darkness  Nonstandard Action  Inventory  Maze  Trivia  \\\n",
       "45        True   False      True               False      False  True    True   \n",
       "72        True   False      True               False      False  True    True   \n",
       "22        True   False      True               False      False  True    True   \n",
       "\n",
       "    Self-Maintenance  Combat   Time  Mechanical Puzzle  Persistence  \\\n",
       "45             False    True  False               True        False   \n",
       "72             False    True  False               True        False   \n",
       "22             False    True  False               True        False   \n",
       "\n",
       "   Difficulty                                        color  order  \n",
       "45  Difficult  <span style='color:orange'>hollywood</span>      1  \n",
       "72  Difficult  <span style='color:orange'>hollywood</span>      1  \n",
       "22  Difficult  <span style='color:orange'>hollywood</span>      1  "
      ]
     },
     "execution_count": 292,
     "metadata": {},
     "output_type": "execute_result"
    }
   ],
   "source": [
    "runs_df[runs_df[\"game\"] == \"hollywood\"]"
   ]
  },
  {
   "cell_type": "code",
   "execution_count": null,
   "metadata": {},
   "outputs": [],
   "source": [
    "# Create a group bar chart with the average score per game for each model\n",
    "import plotly.express as px\n",
    "import plotly.graph_objects as go\n",
    "\n",
    "# sort by max score for gpt-4o\n",
    "#runs_df = runs_df.sort_values(by=[\"model\", \"Max Normalized Score\"], ascending=True)\n",
    "# Strip the extension from game name\n",
    "def color(text, diff):\n",
    "    if diff == \"Possible\":\n",
    "        s = '$\\color{green}{' + str(text) + '}$'\n",
    "    elif diff == \"Difficult\":\n",
    "        s = '$\\color{yellow}{' + str(text) + '}$'\n",
    "    elif diff == \"Extreme\":\n",
    "        s = '$\\color{red}{' + str(text) + '}$'\n",
    "\n",
    "    return s\n",
    "\n",
    "fig.update_yaxes(tickvals=runs_df[\"game\"], tickmode=\"array\", ticktext=runs_df[[\"game\", \"Difficulty\"]].map(lambda : color(game, diff)))\n"
   ]
  }
 ],
 "metadata": {
  "kernelspec": {
   "display_name": "textworld",
   "language": "python",
   "name": "python3"
  },
  "language_info": {
   "codemirror_mode": {
    "name": "ipython",
    "version": 3
   },
   "file_extension": ".py",
   "mimetype": "text/x-python",
   "name": "python",
   "nbconvert_exporter": "python",
   "pygments_lexer": "ipython3",
   "version": "3.9.16"
  }
 },
 "nbformat": 4,
 "nbformat_minor": 2
}
